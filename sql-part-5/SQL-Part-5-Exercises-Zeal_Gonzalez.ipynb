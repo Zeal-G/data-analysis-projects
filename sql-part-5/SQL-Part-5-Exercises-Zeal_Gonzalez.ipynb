{
    "metadata": {
        "kernelspec": {
            "name": "SQL",
            "display_name": "SQL",
            "language": "sql"
        },
        "language_info": {
            "name": "sql",
            "version": ""
        }
    },
    "nbformat_minor": 2,
    "nbformat": 4,
    "cells": [
        {
            "cell_type": "markdown",
            "source": [
                "# Exercises: Creating, Updating, and Destroying Objects\n",
                "\n",
                "For the exercises, you will be working with objects and data you create. Before opening this notebook, make sure that you have set up the new connection to the server and that you have located the database and your schema.\n",
                "\n",
                "## Object Creation\n",
                "\n",
                "Before coding, think of three things you want to make. These could be coding projects, new recipes, or planned projects for a woodworking hobby. Brainstorm the appropriate column names and data types as well.\n",
                "\n",
                "Create a table under your schema called `planned_makes`."
            ],
            "metadata": {
                "azdata_cell_guid": "9f2131a9-ad41-4c70-9264-0a6a9d9ca1fc"
            }
        },
        {
            "cell_type": "code",
            "source": [
                "CREATE TABLE may2024junkdb.planned_makes.food \n",
                " (Burgers , with_bacon,\n",
                "   Wings, with_spice,\n",
                "   .\n",
                "   .\n",
                "   .\n",
                "   Candy, with_sour\n",
                ");"
            ],
            "metadata": {
                "vscode": {
                    "languageId": "sql"
                },
                "azdata_cell_guid": "953da69a-e54b-4a99-b83e-45f2267271f9",
                "language": "sql"
            },
            "outputs": [
                {
                    "output_type": "error",
                    "evalue": "Msg 102, Level 15, State 1, Line 4\nIncorrect syntax near 'Candy'.",
                    "ename": "",
                    "traceback": []
                },
                {
                    "output_type": "display_data",
                    "data": {
                        "text/html": "Total execution time: 00:00:00.025"
                    },
                    "metadata": {}
                }
            ],
            "execution_count": 24
        },
        {
            "cell_type": "markdown",
            "source": [
                "Add three rows to your table that are your planned makes."
            ],
            "metadata": {
                "azdata_cell_guid": "0c9830b9-d097-487b-801a-8596c87007bd"
            }
        },
        {
            "cell_type": "code",
            "source": [
                "-- Inserting a record with values for each column in the table\n",
                "\n",
                "INSERT INTO planned_makes.food\n",
                "VALUES (Chips, Ramen, Popcorn);\n",
                "\n",
                "-- Inserting a record with values for some of the columns in the table\n",
                "\n",
                "INSERT INTO planned_makes.food (Ramen, Popcorn, ...)\n",
                "VALUES (55_types, Ramen, Popcorn,);"
            ],
            "metadata": {
                "vscode": {
                    "languageId": "sql"
                },
                "azdata_cell_guid": "2c32aeb8-b8e0-41b3-9cc0-aab57844a99d",
                "language": "sql"
            },
            "outputs": [],
            "execution_count": null
        },
        {
            "cell_type": "markdown",
            "source": [
                "## Update a Row\n",
                "\n",
                "Change different values in one of your three rows."
            ],
            "metadata": {
                "azdata_cell_guid": "bb14cfe2-1ecc-4dfb-b675-5b90713c59de"
            }
        },
        {
            "cell_type": "code",
            "source": [
                "UPDATE planned_makes.food\n",
                "SET Chips = Hot_cheetohs\n",
                "WHERE food = 55_types;"
            ],
            "metadata": {
                "vscode": {
                    "languageId": "sql"
                },
                "azdata_cell_guid": "8294737e-d1d5-4f19-bae3-ae431249b3c2",
                "language": "sql"
            },
            "outputs": [
                {
                    "output_type": "error",
                    "evalue": "Msg 102, Level 15, State 1, Line 3\nIncorrect syntax near '_types'.",
                    "ename": "",
                    "traceback": []
                },
                {
                    "output_type": "display_data",
                    "data": {
                        "text/html": "Total execution time: 00:00:00.024"
                    },
                    "metadata": {}
                }
            ],
            "execution_count": 26
        },
        {
            "cell_type": "markdown",
            "source": [
                "## Delete a Row\n",
                "\n",
                "Delete one of the rows from your table."
            ],
            "metadata": {
                "azdata_cell_guid": "f09b429b-2e5e-4f63-ba8a-a5b10871d8ae"
            }
        },
        {
            "cell_type": "code",
            "source": [
                "DELETE FROM planned_makes.food WHERE 55_types = Ramen;"
            ],
            "metadata": {
                "vscode": {
                    "languageId": "sql"
                },
                "azdata_cell_guid": "6362d2db-4d17-412e-ba43-a6297d26a994",
                "language": "sql"
            },
            "outputs": [],
            "execution_count": null
        },
        {
            "cell_type": "markdown",
            "source": [
                "## Drop the Table\n",
                "\n",
                "While this has been fun, it is time to drop the table!"
            ],
            "metadata": {
                "azdata_cell_guid": "08ffa652-a126-467c-ac9f-f606ff8c4ccb"
            }
        },
        {
            "cell_type": "code",
            "source": [
                "DROP TABLE planned_makes.food"
            ],
            "metadata": {
                "vscode": {
                    "languageId": "sql"
                },
                "azdata_cell_guid": "b7f75708-c38e-49ac-a444-43c37b894d03",
                "language": "sql"
            },
            "outputs": [],
            "execution_count": null
        }
    ]
}