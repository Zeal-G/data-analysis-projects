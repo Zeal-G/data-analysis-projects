{
    "metadata": {
        "kernelspec": {
            "name": "SQL",
            "display_name": "SQL",
            "language": "sql"
        },
        "language_info": {
            "name": "sql",
            "version": ""
        }
    },
    "nbformat_minor": 2,
    "nbformat": 4,
    "cells": [
        {
            "cell_type": "markdown",
            "source": [
                "# SQL Part 1 Exercises  \n",
                "  \n",
                "## The Goodbooks-10k dataset  \n",
                "  \n",
                "1. The dataset can be found here: [goodbooks-10k](https://www.kaggle.com/zygmunt/goodbooks-10k)  \n",
                "1. The dataset is already loaded as a database in the LaunchCode server called `BooksDB`.  \n",
                "  \n",
                "### Getting Started  \n",
                "  \n",
                "1. This dataset has 5 tables. We are going to use the exercises to explore each table and practice SQL syntax.  \n",
                "1. We will be covering the following commands with our tables:  \n",
                "1. `SELECT`, `FROM`, `\\\\`, `TOP`, `LIKE`, `%` (the wildcard), `IN`, `BETWEEN`, `ORDER BY`, `AS`, `ASC`, `DESC`, `DISTINCT`, `LIMIT`, `WHERE`, `GROUP BY`, Aggregation, and Arithmetic Operators"
            ],
            "metadata": {
                "azdata_cell_guid": "dfea3e2b-e82d-4e0a-b0f1-64419d6020b8"
            }
        },
        {
            "cell_type": "markdown",
            "source": [
                "# A. The **Books** Table  \n",
                "  \n",
                "## Column Context  \n",
                "  \n",
                "1. `id` = instance of a book (ie: the top 10k books in some order)  \n",
                "1. `book_id` = the instance of the book in the Goodreads database  \n",
                "1. `best_book_id` = the most popular edition for a given work. Generally, it's the same as **goodreads\\\\_book\\\\_id** but differs occasionally  \n",
                "1. `work_id` =  [Work IDs](https://help.goodreads.com/s/article/What-s-a-Work-ID-and-where-can-I-find-it) are unique identification numbers that represent books in the Goodreads catalog.  Work view holds collections of quotes collected by users for this edition/version.  \n",
                "1. `books_count` = the number of editions for a given work  \n",
                "1. `isbn` = International Standard Book Number, or a [book's unique identifier](https://en.wikipedia.org/wiki/International_Standard_Book_Number#How_ISBNs_are_issued)  \n",
                "1. `isbn13` = 13 digit long ISBN issued after 2007.  The [GS1](https://en.wikipedia.org/wiki/GS1)  prefix currently is 978 or 979  \n",
                "1. `authors` = the first entry is who wrote the book, followed by illustrators, contributors, translators, etc  \n",
                "1. `original_publication_year` = when the book was first published  \n",
                "1. `original_title` = the original title the book was given. This could be the title in the book's original language, the title of the book in a series, etc.  \n",
                "1. `title` = The title after translating and its location in a series, including the series name and the book's position in the series.  \n",
                "1. `language_code` = what language the book was in when this data was scraped  \n",
                "1. `average_rating` = On Goodreads, this average is [calculated](https://help.goodreads.com/s/article/As-an-author-how-is-the-average-rating-of-my-books-calculated#:~:text=On%20Goodreads%2C%20this%20average%20is,the%20total%20number%20of%20ratings.) as the sum of all of the author's book ratings divided by the total number of ratings.  \n",
                "1. `ratings_count` = total number of ratings  \n",
                "1. `work_ratings` = likes for each quote? or likes for this edition??  \n",
                "1. `work_text_reviews_count` = number of text reviews for each book.  \n",
                "1. `ratings_1` = number of 1 star reviews  \n",
                "1. `ratings_2` = number of 2 star reviews  \n",
                "1. `ratings_3` = number of 3 star reviews  \n",
                "1. `ratings_4` = number of 4 star reviews  \n",
                "1. `ratings_5` = number of 5 star reviews  \n",
                "1. `image_url` = cover image  \n",
                "1. `small_image_url` = thumbnail image of cover"
            ],
            "metadata": {
                "azdata_cell_guid": "b482fdf1-39f0-4676-ad48-87b1a470e427"
            }
        },
        {
            "cell_type": "markdown",
            "source": [
                "Question 1: Select the [top 1000 rows](https://www.w3schools.com/sql/sql\\\\_top.asp) from the books table.  Make sure you are able to see all of the columns."
            ],
            "metadata": {
                "azdata_cell_guid": "5a74b96d-8dae-4eba-b71c-a977f15e7d8a"
            }
        },
        {
            "cell_type": "markdown",
            "source": [
                "Code Here: SELECT Top 1000 * FROM BooksDB"
            ],
            "metadata": {
                "azdata_cell_guid": "6cb737b7-4b3c-4293-a96c-f67f0f591c35"
            }
        },
        {
            "cell_type": "markdown",
            "source": [
                "Question 2: Count the number of titles.  Are there 10,000 titles as promised by the dataset?"
            ],
            "metadata": {
                "azdata_cell_guid": "6e696305-66f7-4778-b70a-c86cecd19e9c"
            }
        },
        {
            "cell_type": "markdown",
            "source": [
                "Code Here: COUNT titles * FROM BooksDB"
            ],
            "metadata": {
                "azdata_cell_guid": "31ef6e03-4859-4277-8eed-15d9cc4eaf79"
            }
        },
        {
            "cell_type": "markdown",
            "source": [
                "Question 3: Count the number of books where the `original_publication_year` is earlier than 1800."
            ],
            "metadata": {
                "azdata_cell_guid": "878300ef-dc4e-4716-8dee-4cddf60bacf6"
            }
        },
        {
            "cell_type": "markdown",
            "source": [
                "Code Here:COUNT original_publication_year * FROM BooksDB AND original_publication_year 1800 max"
            ],
            "metadata": {
                "azdata_cell_guid": "d9eb945b-33ca-414e-9c80-22b4bd3308d5"
            }
        },
        {
            "cell_type": "markdown",
            "source": [
                "Question 4: Create a query that displays distinct authors from the table."
            ],
            "metadata": {
                "azdata_cell_guid": "80116d76-d8d2-4921-8170-026989114199"
            }
        },
        {
            "cell_type": "markdown",
            "source": [
                "Code Here: Order By authors * FROM BooksDB"
            ],
            "metadata": {
                "azdata_cell_guid": "8f756dfa-d2c0-4f3c-9740-c7c426f3665d"
            }
        },
        {
            "cell_type": "markdown",
            "source": [
                "Question 5: Create a query that displays a count of all the books that contain a language code for English.  This could be represented in the table as \\\"eng\\\" or \\\"en-\\\"."
            ],
            "metadata": {
                "azdata_cell_guid": "fda9dd88-5771-423d-8324-08ccb6289558"
            }
        },
        {
            "cell_type": "markdown",
            "source": [
                "Code Here: Order By language code AND = \"eng\" * FROM BooksDB"
            ],
            "metadata": {
                "azdata_cell_guid": "32b1d41d-42c9-4a69-b553-fc90caafd3fa"
            }
        },
        {
            "cell_type": "markdown",
            "source": [
                "Question 6: Create a query to check how many original titles were written during World War I era (1914-1921)."
            ],
            "metadata": {
                "azdata_cell_guid": "999c5ae1-9a23-434d-b390-fa23b4a89b19"
            }
        },
        {
            "cell_type": "markdown",
            "source": [
                "Code Here: Order By original_publication_year and = \"1914-1921\" * FROM BooksDB"
            ],
            "metadata": {
                "azdata_cell_guid": "88de14b8-7cae-4dbc-9e8e-b22d3a6afc70"
            }
        },
        {
            "cell_type": "markdown",
            "source": [
                "# B. The **Book Tags** Table  \n",
                "  \n",
                "## Column Context  \n",
                "  \n",
                "1. `goodreads_book_id` = the id of the book  \n",
                "1. `tag_id` = matches to a specific tag that can be found in the `tags` table.  \n",
                "1. `count` = the number of times this tag was used for this book."
            ],
            "metadata": {
                "azdata_cell_guid": "ec5ceb9d-2ac1-40c1-b2b0-fdb3ac35b060"
            }
        },
        {
            "cell_type": "markdown",
            "source": [
                "Question 1: Select the top 1000 table items ordered by the `tag_id`."
            ],
            "metadata": {
                "azdata_cell_guid": "ba71e410-8c16-4f71-9055-9338fa3d4c27"
            }
        },
        {
            "cell_type": "markdown",
            "source": [
                "Code Here: SELECT Top 1000 goodreads_books_id Order By tag_id * FROM BooksDB"
            ],
            "metadata": {
                "azdata_cell_guid": "5508843e-1cfe-4216-9cad-0c09a633607a"
            }
        },
        {
            "cell_type": "markdown",
            "source": [
                "Question 2: Create a query that counts the number of `goodreads_book_id` grouped by the `tag_id`."
            ],
            "metadata": {
                "azdata_cell_guid": "ff1393ef-eff9-40be-96d7-a4bc3f9089fe"
            }
        },
        {
            "cell_type": "markdown",
            "source": [
                "- Code Here: COUNT goodreads_books_id Grouped By tag_id *FROM BooksDB"
            ],
            "metadata": {
                "azdata_cell_guid": "bd57916b-6cb8-439f-9fc8-8fd7b7dba796"
            }
        },
        {
            "cell_type": "markdown",
            "source": [
                "Question 3: In the last query, we created a new, unnamed column.  Use `AS` to create an alias to provide a name of your choice to this new column."
            ],
            "metadata": {
                "azdata_cell_guid": "1f2bc335-d4db-456c-b2aa-5f16e9bf571d"
            }
        },
        {
            "cell_type": "markdown",
            "source": [
                "Code Here: COUNT goodreads_books_id Grouped By tag_id *FROM BooksDB AS good_tags"
            ],
            "metadata": {
                "azdata_cell_guid": "633b8337-d582-4c38-a84a-3ef8dd94b19b"
            }
        },
        {
            "cell_type": "markdown",
            "source": [
                "# C. The **Ratings** Table  \n",
                "  \n",
                "## Column Context  \n",
                "  \n",
                "1. `book_id` = the identifier of the book  \n",
                "1. `user_id` = the identifier of the user who gave a rating  \n",
                "1. `rating` = the rating given by the user to the book"
            ],
            "metadata": {
                "azdata_cell_guid": "acaa090b-26e6-42b1-9123-b8ebc31c886b"
            }
        },
        {
            "cell_type": "markdown",
            "source": [
                "Question 1: Create a query that displays the top 1000 items in the table in descending order."
            ],
            "metadata": {
                "azdata_cell_guid": "019cc8b3-182d-45f7-a6a1-ff6d005b5203"
            }
        },
        {
            "cell_type": "markdown",
            "source": [
                "Code Here: SELECT Top 1000 items Order By desc  * FROM BooksDB"
            ],
            "metadata": {
                "azdata_cell_guid": "0c19d36c-9cd5-4266-9948-afe5b0a99b48"
            }
        },
        {
            "cell_type": "markdown",
            "source": [
                "Question 2: Create a query that returns the total number of users that have given a rating of less than 2."
            ],
            "metadata": {
                "azdata_cell_guid": "99af117b-af08-469d-8d0a-da98f809fcc1"
            }
        },
        {
            "cell_type": "markdown",
            "source": [
                "Code Here:"
            ],
            "metadata": {
                "azdata_cell_guid": "afd95bee-1db0-4165-babf-cfff001ffd8d"
            }
        },
        {
            "cell_type": "markdown",
            "source": [
                "Question 3: Create a query that returns the sum of books that have a rating of 4 or higher."
            ],
            "metadata": {
                "azdata_cell_guid": "829da1c9-7e65-46fc-9d85-47c8e27e4fce"
            }
        },
        {
            "cell_type": "markdown",
            "source": [
                "Code Here:"
            ],
            "metadata": {
                "azdata_cell_guid": "4b8a7321-8c88-4488-9ccb-862452c8fd11"
            }
        },
        {
            "cell_type": "markdown",
            "source": [
                "# D. The **Tags** Table  \n",
                "  \n",
                "## Column Context  \n",
                "  \n",
                "1. `tag_id` = the identifier of the specific tag  \n",
                "1. `tag_name` = a tag created by users when creating reviews"
            ],
            "metadata": {
                "azdata_cell_guid": "868dbaf6-cc6a-435c-b38f-d96a242d677a"
            }
        },
        {
            "cell_type": "markdown",
            "source": [
                "Question 1: Create a query that returns table items where the `tag_name` describes the book as a mystery.  \n",
                "  \n",
                "Hint: Use the wildcard to find the word mystery at the beginning, middle, and end of a `tag_name`"
            ],
            "metadata": {
                "azdata_cell_guid": "76c59c78-7f75-4a90-aa2e-85d35558ec9a"
            }
        },
        {
            "cell_type": "markdown",
            "source": [
                "Code Here:"
            ],
            "metadata": {
                "azdata_cell_guid": "5efe5f66-c7d2-4255-83a9-a07d01de8cae"
            }
        },
        {
            "cell_type": "markdown",
            "source": [
                "Question 2: Run the query below. In your own words, what is it returning?"
            ],
            "metadata": {
                "azdata_cell_guid": "56384702-29ca-4df8-ba42-226795575a07"
            }
        },
        {
            "cell_type": "markdown",
            "source": [
                "SELECT *"
            ],
            "metadata": {
                "azdata_cell_guid": "396796a5-3d19-473b-a9bb-f6b5e3ad775c"
            }
        },
        {
            "cell_type": "markdown",
            "source": [
                "FROM BooksDB.dbo.tags"
            ],
            "metadata": {
                "azdata_cell_guid": "dde37a15-552e-4202-a304-232cd0b35bce"
            }
        },
        {
            "cell_type": "markdown",
            "source": [
                "WHERE tag_name < 'd' AND tag_name >= 'c';"
            ],
            "metadata": {
                "azdata_cell_guid": "bfee3afb-0268-4857-b9d0-64d4993f1cf7"
            }
        },
        {
            "cell_type": "markdown",
            "source": [
                "Your Answer:"
            ],
            "metadata": {
                "azdata_cell_guid": "398b6823-cf4b-426e-9c9c-fe3aaef9cea7"
            }
        },
        {
            "cell_type": "markdown",
            "source": [
                "# The **To Read** Table"
            ],
            "metadata": {
                "azdata_cell_guid": "043d1cc0-f105-44c0-a2cd-757fafc2d242"
            }
        },
        {
            "cell_type": "markdown",
            "source": [
                "Question 1:  Create a query that uses the `user_id` to count the total number of books that each user wants to read.  Print the results in ascending order by `user_id` under the alias 'Total Books To Read'.  \n",
                "  \n",
                "Hint: You can use both `GROUP BY` and `ORDER BY` to complete this query."
            ],
            "metadata": {
                "azdata_cell_guid": "258d56fb-aba5-4810-a391-ded4e794abf5"
            }
        },
        {
            "cell_type": "markdown",
            "source": [
                "Code Here:"
            ],
            "metadata": {
                "azdata_cell_guid": "73c4d392-0621-48eb-8614-acb437601066"
            }
        },
        {
            "cell_type": "markdown",
            "source": [
                "Question 2: Create a query that uses `user_id` to count the total number of books each user wants to read.  Have the results sort the table by the total number of `book_ids` in descending order and under the alias 'Total Books To Read'.  \n",
                "  \n",
                "Hint: You can use both `GROUP BY` and `ORDER BY` to complete this query."
            ],
            "metadata": {
                "azdata_cell_guid": "776ee2d5-a09f-4713-bbad-fa49a7fe5a6f"
            }
        },
        {
            "cell_type": "markdown",
            "source": [
                "Code Here:"
            ],
            "metadata": {
                "azdata_cell_guid": "a3310c82-ad4f-44c8-8d94-4d6cb37b5553"
            }
        }
    ]
}