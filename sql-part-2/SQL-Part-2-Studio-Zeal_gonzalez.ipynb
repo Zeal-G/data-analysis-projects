{
    "metadata": {
        "kernelspec": {
            "name": "SQL",
            "display_name": "SQL",
            "language": "sql"
        },
        "language_info": {
            "name": "sql",
            "version": ""
        },
        "extensions": {
            "azuredatastudio": {
                "version": 1,
                "views": []
            }
        }
    },
    "nbformat_minor": 2,
    "nbformat": 4,
    "cells": [
        {
            "cell_type": "markdown",
            "source": [
                "# Lesson 11: SQL Part 2 Studio\n",
                "\n",
                "> This studio asks you to create queries using the functions from this lesson. As you work through the studio, you may need to create more than one query to return the desired answer.  For others, you may need to combine functions together in order to answer the original query.  The questions have been organized in a way to help you puzzle out the answers.\n",
                "> \n",
                "> Happy querying! \n",
                "\n",
                "**The Dataset:**   \n",
                "\n",
                "> We will be working with the **BooksDB dataset** from Lesson 10.  You should already have access to it."
            ],
            "metadata": {
                "azdata_cell_guid": "bbaa021d-dbcb-4f90-a05f-f280d524589a"
            },
            "attachments": {}
        },
        {
            "cell_type": "markdown",
            "source": [
                "## The Questions:"
            ],
            "metadata": {
                "azdata_cell_guid": "bfc33995-70d4-4403-a870-39244e5e9727"
            }
        },
        {
            "cell_type": "markdown",
            "source": [
                "1.  Create a query that returns the longest title in the dataset.  We can do this in two steps.\n",
                "\n",
                "> A. Create a query that returns the length of the longest title.\n",
                "> \n",
                "> B. Create a query that uses the length you found in step A to find the longest title."
            ],
            "metadata": {
                "azdata_cell_guid": "29e63840-f200-4b1b-9239-4dc60a402c1d"
            },
            "attachments": {}
        },
        {
            "cell_type": "code",
            "source": [
                "SELECT MAX(LEN(title)) AS longest_title\n",
                "FROM BooksDB.dbo.books\n",
                "SELECT MAX(title) AS longest_title\n",
                "FROM BooksDB.dbo.books\n",
                "WHERE LEN(title) = 186;"
            ],
            "metadata": {
                "azdata_cell_guid": "fc1a211d-ea4e-446a-bbf8-e31499c50aba",
                "language": "sql",
                "tags": []
            },
            "outputs": [
                {
                    "output_type": "display_data",
                    "data": {
                        "text/html": "(1 row affected)"
                    },
                    "metadata": {}
                },
                {
                    "output_type": "display_data",
                    "data": {
                        "text/html": "(1 row affected)"
                    },
                    "metadata": {}
                },
                {
                    "output_type": "display_data",
                    "data": {
                        "text/html": "Total execution time: 00:00:00.056"
                    },
                    "metadata": {}
                },
                {
                    "output_type": "execute_result",
                    "execution_count": 15,
                    "data": {
                        "application/vnd.dataresource+json": {
                            "schema": {
                                "fields": [
                                    {
                                        "name": "longest_title"
                                    }
                                ]
                            },
                            "data": [
                                {
                                    "longest_title": "186"
                                }
                            ]
                        },
                        "text/html": "<table><tr><th>longest_title</th></tr><tr><td>186</td></tr></table>"
                    },
                    "metadata": {}
                },
                {
                    "output_type": "execute_result",
                    "execution_count": 15,
                    "data": {
                        "application/vnd.dataresource+json": {
                            "schema": {
                                "fields": [
                                    {
                                        "name": "longest_title"
                                    }
                                ]
                            },
                            "data": [
                                {
                                    "longest_title": "Soccernomics: Why England Loses, Why Germany and Brazil Win, and Why the U.S., Japan, Australia, Turkey--and Even Iraq--Are Destined to Become the Kings of the World's Most Popular Sport"
                                }
                            ]
                        },
                        "text/html": "<table><tr><th>longest_title</th></tr><tr><td>Soccernomics: Why England Loses, Why Germany and Brazil Win, and Why the U.S., Japan, Australia, Turkey--and Even Iraq--Are Destined to Become the Kings of the World&#39;s Most Popular Sport</td></tr></table>"
                    },
                    "metadata": {}
                }
            ],
            "execution_count": 15
        },
        {
            "cell_type": "markdown",
            "source": [
                "2.  Use what you learned in question 1 to find the shortest author name.  \n",
                "\n",
                "> A. Create a query that returns the length of the shortest author.\n",
                "> \n",
                "> B. Create a query that returns the shortest author's name."
            ],
            "metadata": {
                "azdata_cell_guid": "5de64491-7324-44ce-bda4-e22b07229854"
            },
            "attachments": {}
        },
        {
            "cell_type": "code",
            "source": [
                "SELECT MIN(LEN(authors)) AS shortest_name\n",
                "FROM BooksDB.dbo.books\n",
                "SELECT MIN(authors) AS shortest_name\n",
                "FROM BooksDB.dbo.books\n",
                "WHERE LEN(authors) = 3;"
            ],
            "metadata": {
                "azdata_cell_guid": "61423c75-cb55-470f-b062-a1901d3da67c",
                "language": "sql"
            },
            "outputs": [
                {
                    "output_type": "display_data",
                    "data": {
                        "text/html": "(1 row affected)"
                    },
                    "metadata": {}
                },
                {
                    "output_type": "display_data",
                    "data": {
                        "text/html": "(1 row affected)"
                    },
                    "metadata": {}
                },
                {
                    "output_type": "display_data",
                    "data": {
                        "text/html": "Total execution time: 00:00:00.047"
                    },
                    "metadata": {}
                },
                {
                    "output_type": "execute_result",
                    "execution_count": 16,
                    "data": {
                        "application/vnd.dataresource+json": {
                            "schema": {
                                "fields": [
                                    {
                                        "name": "shortest_name"
                                    }
                                ]
                            },
                            "data": [
                                {
                                    "shortest_name": "3"
                                }
                            ]
                        },
                        "text/html": "<table><tr><th>shortest_name</th></tr><tr><td>3</td></tr></table>"
                    },
                    "metadata": {}
                },
                {
                    "output_type": "execute_result",
                    "execution_count": 16,
                    "data": {
                        "application/vnd.dataresource+json": {
                            "schema": {
                                "fields": [
                                    {
                                        "name": "shortest_name"
                                    }
                                ]
                            },
                            "data": [
                                {
                                    "shortest_name": "Avi"
                                }
                            ]
                        },
                        "text/html": "<table><tr><th>shortest_name</th></tr><tr><td>Avi</td></tr></table>"
                    },
                    "metadata": {}
                }
            ],
            "execution_count": 16
        },
        {
            "cell_type": "markdown",
            "source": [
                "3\\. How many titles contain the word \"The\"?  \n",
                "\n",
                "  \n",
                "\n",
                "> A. Is there a difference between the number of titles that use \"The\" or \"the\"?"
            ],
            "metadata": {
                "azdata_cell_guid": "97f50346-9729-4d1b-926c-e1b53c5c5e68"
            },
            "attachments": {}
        },
        {
            "cell_type": "code",
            "source": [
                "SELECT COUNT(title) AS word_THE\n",
                "FROM BooksDB.dbo.books\n",
                "WHERE CHARINDEX('the', title) > 0"
            ],
            "metadata": {
                "azdata_cell_guid": "f58433db-eb3b-46e0-bb4d-85ca52d359b5",
                "language": "sql"
            },
            "outputs": [
                {
                    "output_type": "display_data",
                    "data": {
                        "text/html": "(1 row affected)"
                    },
                    "metadata": {}
                },
                {
                    "output_type": "display_data",
                    "data": {
                        "text/html": "Total execution time: 00:00:00.052"
                    },
                    "metadata": {}
                },
                {
                    "output_type": "execute_result",
                    "execution_count": 33,
                    "data": {
                        "application/vnd.dataresource+json": {
                            "schema": {
                                "fields": [
                                    {
                                        "name": "word_THE"
                                    }
                                ]
                            },
                            "data": [
                                {
                                    "word_THE": "4702"
                                }
                            ]
                        },
                        "text/html": "<table><tr><th>word_THE</th></tr><tr><td>4702</td></tr></table>"
                    },
                    "metadata": {}
                }
            ],
            "execution_count": 33
        },
        {
            "cell_type": "markdown",
            "source": [
                "4.  How many authors' names _start_ with 'Z'?"
            ],
            "metadata": {
                "azdata_cell_guid": "e0d89eca-410d-4e29-82ca-265b79c73fea"
            },
            "attachments": {}
        },
        {
            "cell_type": "code",
            "source": [
                "SELECT COUNT(authors) AS names_starting_with_Z\n",
                "FROM booksdb.dbo.books\n",
                "WHERE LEFT(authors, 1) = 'z'"
            ],
            "metadata": {
                "azdata_cell_guid": "850f04c8-458a-4cfb-95c4-4dbb7a3d63d0",
                "language": "sql"
            },
            "outputs": [
                {
                    "output_type": "display_data",
                    "data": {
                        "text/html": "(1 row affected)"
                    },
                    "metadata": {}
                },
                {
                    "output_type": "display_data",
                    "data": {
                        "text/html": "Total execution time: 00:00:00.055"
                    },
                    "metadata": {}
                },
                {
                    "output_type": "execute_result",
                    "execution_count": 48,
                    "data": {
                        "application/vnd.dataresource+json": {
                            "schema": {
                                "fields": [
                                    {
                                        "name": "names_starting_with_Z"
                                    }
                                ]
                            },
                            "data": [
                                {
                                    "names_starting_with_Z": "11"
                                }
                            ]
                        },
                        "text/html": "<table><tr><th>names_starting_with_Z</th></tr><tr><td>11</td></tr></table>"
                    },
                    "metadata": {}
                }
            ],
            "execution_count": 48
        },
        {
            "cell_type": "markdown",
            "source": [
                "5\\. How many books have been identified as printed in a language other than English?  There are four language codes for English: 'en', 'eng', 'en-US', and 'en-UK'.  Use LEFT to answer the question.  (Do not use the wildcard)\n",
                "\n",
                "You might want to use one of these [comparison operators](https://docs.microsoft.com/en-us/sql/t-sql/language-elements/comparison-operators-transact-sql?view=sql-server-ver15)."
            ],
            "metadata": {
                "azdata_cell_guid": "7066afeb-79d2-4e7f-b497-cbde17655b19"
            },
            "attachments": {}
        },
        {
            "cell_type": "code",
            "source": [
                "SELECT COUNT(language_code) AS english_printed\n",
                "From BooksDB.dbo.books\n",
                "WHERE LEFT(language_code, 2) = 'en'"
            ],
            "metadata": {
                "azdata_cell_guid": "5a85f5ae-dd59-4fa1-828a-c63fa330ff7f",
                "language": "sql"
            },
            "outputs": [
                {
                    "output_type": "display_data",
                    "data": {
                        "text/html": "(1 row affected)"
                    },
                    "metadata": {}
                },
                {
                    "output_type": "display_data",
                    "data": {
                        "text/html": "Total execution time: 00:00:00.040"
                    },
                    "metadata": {}
                },
                {
                    "output_type": "execute_result",
                    "execution_count": 50,
                    "data": {
                        "application/vnd.dataresource+json": {
                            "schema": {
                                "fields": [
                                    {
                                        "name": "english_printed"
                                    }
                                ]
                            },
                            "data": [
                                {
                                    "english_printed": "8730"
                                }
                            ]
                        },
                        "text/html": "<table><tr><th>english_printed</th></tr><tr><td>8730</td></tr></table>"
                    },
                    "metadata": {}
                }
            ],
            "execution_count": 50
        },
        {
            "cell_type": "markdown",
            "source": [
                "6\\. Retry question 5 using SUBSTRING."
            ],
            "metadata": {
                "azdata_cell_guid": "93153cd1-ecea-4e4b-87f5-2214993a7291"
            },
            "attachments": {}
        },
        {
            "cell_type": "code",
            "source": [
                "SELECT COUNT(language_code) AS english_printed\n",
                "From BooksDB.dbo.books\n",
                "WHERE SUBSTRING(language_code,1,2) = 'en'"
            ],
            "metadata": {
                "azdata_cell_guid": "7756ae02-4ec2-4456-b3a7-c3604bf07e26",
                "language": "sql"
            },
            "outputs": [
                {
                    "output_type": "display_data",
                    "data": {
                        "text/html": "(1 row affected)"
                    },
                    "metadata": {}
                },
                {
                    "output_type": "display_data",
                    "data": {
                        "text/html": "Total execution time: 00:00:00.039"
                    },
                    "metadata": {}
                },
                {
                    "output_type": "execute_result",
                    "execution_count": 52,
                    "data": {
                        "application/vnd.dataresource+json": {
                            "schema": {
                                "fields": [
                                    {
                                        "name": "english_printed"
                                    }
                                ]
                            },
                            "data": [
                                {
                                    "english_printed": "8730"
                                }
                            ]
                        },
                        "text/html": "<table><tr><th>english_printed</th></tr><tr><td>8730</td></tr></table>"
                    },
                    "metadata": {}
                }
            ],
            "execution_count": 52
        },
        {
            "cell_type": "markdown",
            "source": [
                "7.  Create a column that returns the title, authors, and language codes.  Concatenate these elements so that they return in the following way: title by authors in language\\_code language.\n",
                "\n",
                "> A.  Check each selected column to see where any values are NULL.  Did any of the columns contain NULL values?  If so, which one?"
            ],
            "metadata": {
                "azdata_cell_guid": "c8124542-ea76-4153-96ef-f4db908fbd6c"
            },
            "attachments": {}
        },
        {
            "cell_type": "code",
            "source": [
                ""
            ],
            "metadata": {
                "azdata_cell_guid": "26705af1-6191-48b9-b649-7bc93cad102d",
                "language": "sql"
            },
            "outputs": [
                {
                    "output_type": "display_data",
                    "data": {
                        "text/html": "Commands completed successfully."
                    },
                    "metadata": {}
                },
                {
                    "output_type": "display_data",
                    "data": {
                        "text/html": "Total execution time: 00:00:00.048"
                    },
                    "metadata": {}
                }
            ],
            "execution_count": 7
        },
        {
            "cell_type": "markdown",
            "source": [
                "8.  Update the query in question 7 using COALESCE to change the language code values from NULL to 'unknown'.\n",
                "\n",
                "> A.  Has this changed the language\\_code  where the values are NULL?"
            ],
            "metadata": {
                "azdata_cell_guid": "17fd76a8-afa7-4d86-a200-2902d7310a2b"
            },
            "attachments": {}
        },
        {
            "cell_type": "code",
            "source": [
                ""
            ],
            "metadata": {
                "azdata_cell_guid": "f9694996-4545-48b9-9981-325b5c590570",
                "language": "sql"
            },
            "outputs": [
                {
                    "output_type": "display_data",
                    "data": {
                        "text/html": "Commands completed successfully."
                    },
                    "metadata": {}
                },
                {
                    "output_type": "display_data",
                    "data": {
                        "text/html": "Total execution time: 00:00:00.057"
                    },
                    "metadata": {}
                }
            ],
            "execution_count": 8
        },
        {
            "cell_type": "markdown",
            "source": [
                "9\\. Revisit question 7 using ISNULL instead of COALESCE.\n",
                "\n",
                "> A.  Has this changed the language\\_code  where the values are NULL?"
            ],
            "metadata": {
                "azdata_cell_guid": "57b87290-135f-478d-bf1c-2262759f8da5"
            },
            "attachments": {}
        },
        {
            "cell_type": "code",
            "source": [
                "SELECT CONCAT(title, 'by', authors, 'in', ISNULL(language_code, 'unknown'), 'language') AS Bookinfo\n",
                "FROM BooksDB.dbo.books\n",
                "WHERE language_code IS NULL"
            ],
            "metadata": {
                "azdata_cell_guid": "a9670717-6dc6-4685-9f62-7a588753b4a9",
                "language": "sql"
            },
            "outputs": [
                {
                    "output_type": "display_data",
                    "data": {
                        "text/html": "(1084 rows affected)"
                    },
                    "metadata": {}
                },
                {
                    "output_type": "display_data",
                    "data": {
                        "text/html": "Total execution time: 00:00:00.247"
                    },
                    "metadata": {}
                },
                {
                    "output_type": "execute_result",
                    "execution_count": 54,
                    "data": {
                        "application/vnd.dataresource+json": {
                            "schema": {
                                "fields": [
                                    {
                                        "name": "Bookinfo"
                                    }
                                ]
                            },
                            "data": [
                                {
                                    "Bookinfo": "Life of PibyYann Martelinunknownlanguage"
                                },
                                {
                                    "Bookinfo": "The Five People You Meet in HeavenbyMitch Albominunknownlanguage"
                                },
                                {
                                    "Bookinfo": "A Christmas CarolbyCharles Dickensinunknownlanguage"
                                },
                                {
                                    "Bookinfo": "CarriebyStephen Kinginunknownlanguage"
                                },
                                {
                                    "Bookinfo": "The Hunt for Red October (Jack Ryan Universe, #4)byTom Clancyinunknownlanguage"
                                },
                                {
                                    "Bookinfo": "Where the Red Fern GrowsbyWilson Rawlsinunknownlanguage"
                                },
                                {
                                    "Bookinfo": "Fried Green Tomatoes at the Whistle Stop CafebyFannie Flagginunknownlanguage"
                                },
                                {
                                    "Bookinfo": "The Three MusketeersbyAlexandre Dumasinunknownlanguage"
                                },
                                {
                                    "Bookinfo": "In Her ShoesbyJennifer Weinerinunknownlanguage"
                                },
                                {
                                    "Bookinfo": "The Andromeda StrainbyMichael Crichtoninunknownlanguage"
                                },
                                {
                                    "Bookinfo": "Needful ThingsbyStephen Kinginunknownlanguage"
                                },
                                {
                                    "Bookinfo": "Are You There, Vodka? It's Me, ChelseabyChelsea Handlerinunknownlanguage"
                                },
                                {
                                    "Bookinfo": "PreybyMichael Crichtoninunknownlanguage"
                                },
                                {
                                    "Bookinfo": "Mrs. Frisby and the Rats of NIMH (Rats of NIMH, #1)byRobert C. O'Brieninunknownlanguage"
                                },
                                {
                                    "Bookinfo": "The Little House Collection (Little House, #1-9)byLaura Ingalls Wilder, Garth Williamsinunknownlanguage"
                                },
                                {
                                    "Bookinfo": "The Girls' Guide to Hunting and FishingbyMelissa Bankinunknownlanguage"
                                },
                                {
                                    "Bookinfo": "Sh*t My Dad SaysbyJustin Halperninunknownlanguage"
                                },
                                {
                                    "Bookinfo": "The Four Agreements: A Practical Guide to Personal FreedombyMiguel Ruizinunknownlanguage"
                                },
                                {
                                    "Bookinfo": "One Fish, Two Fish, Red Fish, Blue FishbyDr. Seussinunknownlanguage"
                                },
                                {
                                    "Bookinfo": "WatchersbyDean Koontzinunknownlanguage"
                                },
                                {
                                    "Bookinfo": "Fifty Shades Trilogy (Fifty Shades, #1-3)byE.L. Jamesinunknownlanguage"
                                },
                                {
                                    "Bookinfo": "The Joy of CookingbyIrma S. Rombauer, Marion Rombauer Becker, Ethan Beckerinunknownlanguage"
                                },
                                {
                                    "Bookinfo": "The Complete Anne of Green Gables Boxed Set (Anne of Green Gables, #1-8)byL.M. Montgomeryinunknownlanguage"
                                },
                                {
                                    "Bookinfo": "The PartnerbyJohn Grishaminunknownlanguage"
                                },
                                {
                                    "Bookinfo": "Presumed InnocentbyScott Turowinunknownlanguage"
                                },
                                {
                                    "Bookinfo": "Dr. Seuss's Green Eggs and Ham: For Soprano, Boy Soprano, and OrchestrabyRobert Kapilow, Dr. Seussinunknownlanguage"
                                },
                                {
                                    "Bookinfo": "Inferno (The Divine Comedy #1)byDante Alighieri, Anthony M. Esoleninunknownlanguage"
                                },
                                {
                                    "Bookinfo": "The Girl Who Loved Tom GordonbyStephen Kinginunknownlanguage"
                                },
                                {
                                    "Bookinfo": "The Twilight Saga (Twilight, #1-4)byStephenie Meyer, Ilyana Kadushin, Matt Waltersinunknownlanguage"
                                },
                                {
                                    "Bookinfo": "The Secret KeeperbyKate Mortoninunknownlanguage"
                                },
                                {
                                    "Bookinfo": "Better Homes and Gardens New Cook Book  byBetter Homes and Gardensinunknownlanguage"
                                },
                                {
                                    "Bookinfo": "Reached (Matched, #3)byAlly Condieinunknownlanguage"
                                },
                                {
                                    "Bookinfo": "The TestamentbyJohn Grishaminunknownlanguage"
                                },
                                {
                                    "Bookinfo": "90 Minutes in Heaven: A True Story of Death and LifebyDon Piper, Cecil Murpheyinunknownlanguage"
                                },
                                {
                                    "Bookinfo": "Sam's Letters to JenniferbyJames Pattersoninunknownlanguage"
                                },
                                {
                                    "Bookinfo": "Little EarthquakesbyJennifer Weinerinunknownlanguage"
                                },
                                {
                                    "Bookinfo": "LullabybyChuck Palahniukinunknownlanguage"
                                },
                                {
                                    "Bookinfo": "The English PatientbyMichael Ondaatjeinunknownlanguage"
                                },
                                {
                                    "Bookinfo": "Warm Bodies (Warm Bodies, #1)byIsaac Marioninunknownlanguage"
                                },
                                {
                                    "Bookinfo": "Cold Sassy TreebyOlive Ann Burnsinunknownlanguage"
                                },
                                {
                                    "Bookinfo": "Aristotle and Dante Discover the Secrets of the Universe (Aristotle and Dante Discover the Secrets of the Universe, #1)byBenjamin Alire Sáenzinunknownlanguage"
                                },
                                {
                                    "Bookinfo": "Summer SistersbyJudy Blumeinunknownlanguage"
                                },
                                {
                                    "Bookinfo": "A Scandal in Bohemia (The Adventures of Sherlock Holmes, #1)byRonald Holt, Arthur Conan Doyleinunknownlanguage"
                                },
                                {
                                    "Bookinfo": "The BrethrenbyJohn Grishaminunknownlanguage"
                                },
                                {
                                    "Bookinfo": "The Case for ChristbyLee Strobelinunknownlanguage"
                                },
                                {
                                    "Bookinfo": "The Complete Sherlock Holmes, Vol 2byArthur Conan Doyle, Kyle Freemaninunknownlanguage"
                                },
                                {
                                    "Bookinfo": "The Pilgrim's ProgressbyJohn Bunyaninunknownlanguage"
                                },
                                {
                                    "Bookinfo": "Janet Evanovich Three and Four Two-Book Set (Stephanie Plum, #3-4)byJanet Evanovichinunknownlanguage"
                                },
                                {
                                    "Bookinfo": "Magician's Gambit (The Belgariad, #3)byDavid Eddingsinunknownlanguage"
                                },
                                {
                                    "Bookinfo": "Keeping FaithbyJodi Picoultinunknownlanguage"
                                },
                                {
                                    "Bookinfo": "Ham on RyebyCharles Bukowskiinunknownlanguage"
                                },
                                {
                                    "Bookinfo": "Emotional Intelligence 2.0byTravis Bradberry, Jean Greaves, Patrick Lencioniinunknownlanguage"
                                },
                                {
                                    "Bookinfo": "Make Way for DucklingsbyRobert McCloskeyinunknownlanguage"
                                },
                                {
                                    "Bookinfo": "On the Banks of Plum Creek  (Little House, #4)byLaura Ingalls Wilder, Garth Williamsinunknownlanguage"
                                },
                                {
                                    "Bookinfo": "PostSecret: Extraordinary Confessions from Ordinary Lives (PostSecret)byFrank Warreninunknownlanguage"
                                },
                                {
                                    "Bookinfo": "The Borrowers (The Borrowers, #1)byMary Norton, Beth Krush, Joe Krushinunknownlanguage"
                                },
                                {
                                    "Bookinfo": "The RacketeerbyJohn Grishaminunknownlanguage"
                                },
                                {
                                    "Bookinfo": "Opal (Lux, #3)byJennifer L. Armentroutinunknownlanguage"
                                },
                                {
                                    "Bookinfo": "ZeitounbyDave Eggersinunknownlanguage"
                                },
                                {
                                    "Bookinfo": "Pines (Wayward Pines, #1)byBlake Crouchinunknownlanguage"
                                },
                                {
                                    "Bookinfo": "DisclosurebyMichael Crichtoninunknownlanguage"
                                },
                                {
                                    "Bookinfo": "Beezus and Ramona (Ramona, #1)byBeverly Clearyinunknownlanguage"
                                },
                                {
                                    "Bookinfo": "The Farthest Shore (Earthsea Cycle, #3)byUrsula K. Le Guininunknownlanguage"
                                },
                                {
                                    "Bookinfo": "The Story of FerdinandbyMunro Leaf, Robert Lawsoninunknownlanguage"
                                },
                                {
                                    "Bookinfo": "Rise of the Evening Star (Fablehaven, #2)byBrandon Mullinunknownlanguage"
                                },
                                {
                                    "Bookinfo": "The Next Always (Inn BoonsBoro, #1)byNora Roberts, MacLeod Andrewsinunknownlanguage"
                                },
                                {
                                    "Bookinfo": "Drive: The Surprising Truth About What Motivates UsbyDaniel H. Pinkinunknownlanguage"
                                },
                                {
                                    "Bookinfo": "Temple of the Winds (Sword of Truth, #4)byTerry Goodkind, Dick Hillinunknownlanguage"
                                },
                                {
                                    "Bookinfo": "Red Storm RisingbyTom Clancyinunknownlanguage"
                                },
                                {
                                    "Bookinfo": "GalápagosbyKurt Vonnegut Jr.inunknownlanguage"
                                },
                                {
                                    "Bookinfo": "I Hope They Serve Beer in Hell (Tucker Max, #1)byTucker Maxinunknownlanguage"
                                },
                                {
                                    "Bookinfo": "The Fall of the House of Usher and Other Tales byEdgar Allan Poe, Stephen Marloweinunknownlanguage"
                                },
                                {
                                    "Bookinfo": "Sushi for BeginnersbyMarian Keyesinunknownlanguage"
                                },
                                {
                                    "Bookinfo": "Watermelon (Walsh Family, #1)byMarian Keyesinunknownlanguage"
                                },
                                {
                                    "Bookinfo": "Clifford the Big Red DogbyNorman Bridwellinunknownlanguage"
                                },
                                {
                                    "Bookinfo": "Frida: A Biography of Frida KahlobyHayden Herrerainunknownlanguage"
                                },
                                {
                                    "Bookinfo": "The RavenbyEdgar Allan Poe, Gustave Doréinunknownlanguage"
                                },
                                {
                                    "Bookinfo": "The General's DaughterbyNelson DeMilleinunknownlanguage"
                                },
                                {
                                    "Bookinfo": "3rd Degree (Women's Murder Club, #3)byJames Patterson, Andrew Grossinunknownlanguage"
                                },
                                {
                                    "Bookinfo": "Bird by Bird: Some Instructions on Writing and LifebyAnne Lamottinunknownlanguage"
                                },
                                {
                                    "Bookinfo": "The VacationersbyEmma Straubinunknownlanguage"
                                },
                                {
                                    "Bookinfo": "A Widow for One YearbyJohn Irvinginunknownlanguage"
                                },
                                {
                                    "Bookinfo": "Charlie and the Great Glass Elevator (Charlie Bucket, #2)byRoald Dahl, Quentin Blakeinunknownlanguage"
                                },
                                {
                                    "Bookinfo": "The Interpretation of DreamsbySigmund Freudinunknownlanguage"
                                },
                                {
                                    "Bookinfo": "The Power of a Praying WifebyStormie Omartianinunknownlanguage"
                                },
                                {
                                    "Bookinfo": "Ramona the Pest (Ramona, #2)byBeverly Clearyinunknownlanguage"
                                },
                                {
                                    "Bookinfo": "Daring Greatly: How the Courage to Be Vulnerable Transforms the Way We Live, Love, Parent, and LeadbyBrené Browninunknownlanguage"
                                },
                                {
                                    "Bookinfo": "Out of the DustbyKaren Hesseinunknownlanguage"
                                },
                                {
                                    "Bookinfo": "The Complete TalesbyBeatrix Potterinunknownlanguage"
                                },
                                {
                                    "Bookinfo": "Suite FrançaisebyIrène Némirovsky, Sandra Smithinunknownlanguage"
                                },
                                {
                                    "Bookinfo": "Scott Pilgrim, Volume 2: Scott Pilgrim vs. The WorldbyBryan Lee O'Malleyinunknownlanguage"
                                },
                                {
                                    "Bookinfo": "PapillonbyHenri Charrièreinunknownlanguage"
                                },
                                {
                                    "Bookinfo": "The Time Machine/The Invisible ManbyH.G. Wells, Alfred MacAdaminunknownlanguage"
                                },
                                {
                                    "Bookinfo": "What to Expect When You're ExpectingbyHeidi Murkoff, Arlene Eisenberg, Sandee Hathawayinunknownlanguage"
                                },
                                {
                                    "Bookinfo": "Anybody Out There? (Walsh Family, #4)byMarian Keyesinunknownlanguage"
                                },
                                {
                                    "Bookinfo": "A Christmas Carol, The Chimes and The Cricket on the HearthbyCharles Dickens, Katharine Kroeber Wileyinunknownlanguage"
                                },
                                {
                                    "Bookinfo": "Dad Is FatbyJim Gaffiganinunknownlanguage"
                                },
                                {
                                    "Bookinfo": "The Cat in the Hat and Other Dr. Seuss FavoritesbyDr. Seuss, Variousinunknownlanguage"
                                },
                                {
                                    "Bookinfo": "Bully (Fall Away, #1)byPenelope Douglasinunknownlanguage"
                                },
                                {
                                    "Bookinfo": "FaeriesbyBrian Froud, Alan Leeinunknownlanguage"
                                },
                                {
                                    "Bookinfo": "How to Be GoodbyNick Hornbyinunknownlanguage"
                                },
                                {
                                    "Bookinfo": "The Life We BurybyAllen Eskensinunknownlanguage"
                                },
                                {
                                    "Bookinfo": "The Eagle Has Landed (Liam Devlin, #1)byJack Higginsinunknownlanguage"
                                },
                                {
                                    "Bookinfo": "This Is Your Brain on Music: The Science of a Human ObsessionbyDaniel J. Levitininunknownlanguage"
                                },
                                {
                                    "Bookinfo": "A Raisin in the SunbyLorraine Hansberryinunknownlanguage"
                                },
                                {
                                    "Bookinfo": "The Sum of All Fears (Jack Ryan Universe, #7)byTom Clancyinunknownlanguage"
                                },
                                {
                                    "Bookinfo": "Rogue LawyerbyJohn Grishaminunknownlanguage"
                                },
                                {
                                    "Bookinfo": "The Life and Times of the Thunderbolt KidbyBill Brysoninunknownlanguage"
                                },
                                {
                                    "Bookinfo": "Jesus Calling: Enjoying Peace in His PresencebySarah  Younginunknownlanguage"
                                },
                                {
                                    "Bookinfo": "The 5th Horseman (Women's Murder Club, #5)byJames Patterson, Maxine Paetroinunknownlanguage"
                                },
                                {
                                    "Bookinfo": "The Pursuit of GodbyA.W. Tozerinunknownlanguage"
                                },
                                {
                                    "Bookinfo": "Feet of Clay (Discworld, #19; City Watch, #3)byTerry Pratchettinunknownlanguage"
                                },
                                {
                                    "Bookinfo": "Skinny Legs and AllbyTom Robbinsinunknownlanguage"
                                },
                                {
                                    "Bookinfo": "Fool's Fate (Tawny Man, #3)byRobin Hobbinunknownlanguage"
                                },
                                {
                                    "Bookinfo": "Seven Days in the Art WorldbySarah Thorntoninunknownlanguage"
                                },
                                {
                                    "Bookinfo": "The Total Money Makeover: A Proven Plan for Financial FitnessbyDave Ramseyinunknownlanguage"
                                },
                                {
                                    "Bookinfo": "Shadow Puppets (Ender's Shadow, #3)byOrson Scott Cardinunknownlanguage"
                                },
                                {
                                    "Bookinfo": "By the Shores of Silver Lake  (Little House, #5)byLaura Ingalls Wilder, Garth Williamsinunknownlanguage"
                                },
                                {
                                    "Bookinfo": "Sex and the CitybyCandace Bushnellinunknownlanguage"
                                },
                                {
                                    "Bookinfo": "FactotumbyCharles Bukowskiinunknownlanguage"
                                },
                                {
                                    "Bookinfo": "Silas MarnerbyGeorge Eliotinunknownlanguage"
                                },
                                {
                                    "Bookinfo": "Kidnapped (David Balfour, #1)byRobert Louis Stevensoninunknownlanguage"
                                },
                                {
                                    "Bookinfo": "Friday Night Lights: A Town, a Team, and a DreambyH.G. Bissingerinunknownlanguage"
                                },
                                {
                                    "Bookinfo": "The WitnessbyNora Robertsinunknownlanguage"
                                },
                                {
                                    "Bookinfo": "Tinker, Tailor, Soldier, SpybyJohn le Carréinunknownlanguage"
                                },
                                {
                                    "Bookinfo": "My Friend LeonardbyJames Freyinunknownlanguage"
                                },
                                {
                                    "Bookinfo": "Delivering Happiness: A Path to Profits, Passion, and PurposebyTony Hsiehinunknownlanguage"
                                },
                                {
                                    "Bookinfo": "The Further Adventures of Sherlock Holmes: After Sir Arthur Conan Doyle (Classic Crime)byRichard Lancelyn Green, Ronald Knox, Julian Symons, Variousinunknownlanguage"
                                },
                                {
                                    "Bookinfo": "Love Story (Love Story, #1)byErich Segalinunknownlanguage"
                                },
                                {
                                    "Bookinfo": "The E-Myth Revisited: Why Most Small Businesses Don't Work and What to Do About ItbyMichael E. Gerberinunknownlanguage"
                                },
                                {
                                    "Bookinfo": "There Was an Old Lady Who Swallowed a FlybySimms Tabackinunknownlanguage"
                                },
                                {
                                    "Bookinfo": "WinningbyJack Welch, Suzy Welchinunknownlanguage"
                                },
                                {
                                    "Bookinfo": "The 48 Laws of PowerbyRobert Greene, Joost Elffersinunknownlanguage"
                                },
                                {
                                    "Bookinfo": "Bury My Heart at Wounded Knee: An Indian History of the American WestbyDee Browninunknownlanguage"
                                },
                                {
                                    "Bookinfo": "The Pianist: The Extraordinary Story of One Man's Survival in Warsaw, 1939–45byWładysław Szpilman, Anthea Bellinunknownlanguage"
                                },
                                {
                                    "Bookinfo": "The Cross and the SwitchbladebyDavid Wilkerson, John Sherrill, Elizabeth Sherrillinunknownlanguage"
                                },
                                {
                                    "Bookinfo": "RulesbyCynthia Lordinunknownlanguage"
                                },
                                {
                                    "Bookinfo": "The Dog StarsbyPeter Hellerinunknownlanguage"
                                },
                                {
                                    "Bookinfo": "The Prince (The Selection, #0.5)byKiera Cassinunknownlanguage"
                                },
                                {
                                    "Bookinfo": "The Lost World (Professor Challenger, #1)byArthur Conan Doyleinunknownlanguage"
                                },
                                {
                                    "Bookinfo": "The Long Winter (Little House, #6)byLaura Ingalls Wilder, Garth Williamsinunknownlanguage"
                                },
                                {
                                    "Bookinfo": "Portnoy's ComplaintbyPhilip Roth, Luca Marinelliinunknownlanguage"
                                },
                                {
                                    "Bookinfo": "Tiny Beautiful Things: Advice on Love and Life from Dear SugarbyCheryl Strayedinunknownlanguage"
                                },
                                {
                                    "Bookinfo": "The Red PonybyJohn Steinbeckinunknownlanguage"
                                },
                                {
                                    "Bookinfo": "Taltos (Lives of the Mayfair Witches, #3)byAnne Rice, Tim Curryinunknownlanguage"
                                },
                                {
                                    "Bookinfo": "1,000 Places to See Before You DiebyPatricia Schultzinunknownlanguage"
                                },
                                {
                                    "Bookinfo": "Act Like a Lady, Think Like a Man: What Men Really Think About Love, Relationships, Intimacy, and CommitmentbySteve Harveyinunknownlanguage"
                                },
                                {
                                    "Bookinfo": "Love and Respect: The Love She Most Desires; The Respect He Desperately NeedsbyEmerson Eggerichsinunknownlanguage"
                                },
                                {
                                    "Bookinfo": "Phantom (Sword of Truth, #10)byTerry Goodkindinunknownlanguage"
                                },
                                {
                                    "Bookinfo": "Flags of Our FathersbyJames D. Bradley, Ron Powersinunknownlanguage"
                                },
                                {
                                    "Bookinfo": "Where Eagles Dare byAlistair MacLean, Clint Willisinunknownlanguage"
                                },
                                {
                                    "Bookinfo": "Blue Ocean Strategy: How To Create Uncontested Market Space And Make The Competition IrrelevantbyW. Chan Kim, Renée Mauborgneinunknownlanguage"
                                },
                                {
                                    "Bookinfo": "The Napping HousebyAudrey Wood, Don    Woodinunknownlanguage"
                                },
                                {
                                    "Bookinfo": "Practicing the Power of Now: Essential Teachings, Meditations, and Exercises from the Power of NowbyEckhart Tolleinunknownlanguage"
                                },
                                {
                                    "Bookinfo": "The Road to the Dark Tower: Exploring Stephen King's Magnum OpusbyBev Vincentinunknownlanguage"
                                },
                                {
                                    "Bookinfo": "Danny the Champion of the WorldbyRoald Dahl, Quentin Blakeinunknownlanguage"
                                },
                                {
                                    "Bookinfo": "Everyday Italian: 125 Simple and Delicious RecipesbyGiada De Laurentiisinunknownlanguage"
                                },
                                {
                                    "Bookinfo": "Barefoot Contessa at Home: Everyday Recipes You'll Make Over and Over AgainbyIna Garten, Quentin Baconinunknownlanguage"
                                },
                                {
                                    "Bookinfo": "A Living Nightmare (Cirque Du Freak, #1)byDarren Shaninunknownlanguage"
                                },
                                {
                                    "Bookinfo": "Hinds' Feet on High PlacesbyHannah Hurnardinunknownlanguage"
                                },
                                {
                                    "Bookinfo": "Two-Way StreetbyLauren Barnholdtinunknownlanguage"
                                },
                                {
                                    "Bookinfo": "The Matarese Circle (Matarese #1)byRobert Ludluminunknownlanguage"
                                },
                                {
                                    "Bookinfo": "On the Bright Side, I'm Now the Girlfriend of a Sex God (Confessions of Georgia Nicolson, #2)byLouise Rennisoninunknownlanguage"
                                },
                                {
                                    "Bookinfo": "Not a Penny More, Not a Penny LessbyJeffrey Archerinunknownlanguage"
                                },
                                {
                                    "Bookinfo": "The Prisoner of Heaven (The Cemetery of Forgotten Books, #3)byCarlos Ruiz Zafóninunknownlanguage"
                                },
                                {
                                    "Bookinfo": "CaughtbyHarlan Cobeninunknownlanguage"
                                },
                                {
                                    "Bookinfo": "StrangersbyDean Koontzinunknownlanguage"
                                },
                                {
                                    "Bookinfo": "Mike Mulligan and His Steam ShovelbyVirginia Lee Burtoninunknownlanguage"
                                },
                                {
                                    "Bookinfo": "The Complete Adventures of Curious GeorgebyMargret Rey, H.A. Reyinunknownlanguage"
                                },
                                {
                                    "Bookinfo": "Good Night, GorillabyPeggy Rathmanninunknownlanguage"
                                },
                                {
                                    "Bookinfo": "Why Men Love Bitches: From Doormat to Dreamgirl—A Woman's Guide to Holding Her Own in a RelationshipbySherry Argovinunknownlanguage"
                                },
                                {
                                    "Bookinfo": "Gregor and the Code of Claw (Underland Chronicles, #5)bySuzanne Collinsinunknownlanguage"
                                },
                                {
                                    "Bookinfo": "The Other Side of the StorybyMarian Keyesinunknownlanguage"
                                },
                                {
                                    "Bookinfo": "Unbearable Lightness: A Story of Loss and GainbyPortia de Rossiinunknownlanguage"
                                },
                                {
                                    "Bookinfo": "The Blue Sword (Damar, #1)byRobin McKinleyinunknownlanguage"
                                },
                                {
                                    "Bookinfo": "Fatal Voyage (Temperance Brennan, #4)byKathy Reichsinunknownlanguage"
                                },
                                {
                                    "Bookinfo": "The View from SaturdaybyE.L. Konigsburginunknownlanguage"
                                },
                                {
                                    "Bookinfo": "The Story of Doctor Dolittle (Doctor Dolittle, #1)byHugh Lofting, Michael Hagueinunknownlanguage"
                                },
                                {
                                    "Bookinfo": "MaudebyDonna Mabryinunknownlanguage"
                                },
                                {
                                    "Bookinfo": "Where Are the Children?byMary Higgins Clarkinunknownlanguage"
                                },
                                {
                                    "Bookinfo": "Sir Gawain and the Green Knight byUnknown, Burton Raffel, Neil D. Isaacsinunknownlanguage"
                                },
                                {
                                    "Bookinfo": "Leonardo's NotebooksbyLeonardo da Vinci, H. Anna Suhinunknownlanguage"
                                },
                                {
                                    "Bookinfo": "Queste (Septimus Heap, #4)byAngie Sage, Mark Zuginunknownlanguage"
                                },
                                {
                                    "Bookinfo": "Stone SoupbyMarcia Browninunknownlanguage"
                                },
                                {
                                    "Bookinfo": "Harry Potter and the Chamber of Secrets: Sheet Music for Flute with C.DbyJohn   Williamsinunknownlanguage"
                                },
                                {
                                    "Bookinfo": "ChristybyCatherine Marshallinunknownlanguage"
                                },
                                {
                                    "Bookinfo": "True ColorsbyKristin Hannahinunknownlanguage"
                                },
                                {
                                    "Bookinfo": "Eagle Strike (Alex Rider, #4)byAnthony Horowitzinunknownlanguage"
                                },
                                {
                                    "Bookinfo": "Vampire Academy Collection (Vampire Academy, #1-3)byRichelle Meadinunknownlanguage"
                                },
                                {
                                    "Bookinfo": "Gift from the SeabyAnne Morrow Lindberghinunknownlanguage"
                                },
                                {
                                    "Bookinfo": "The OrchardistbyAmanda Coplininunknownlanguage"
                                },
                                {
                                    "Bookinfo": "Anne of Windy Poplars (Anne of Green Gables, #4)byL.M. Montgomeryinunknownlanguage"
                                },
                                {
                                    "Bookinfo": "AmsterdambyIan McEwaninunknownlanguage"
                                },
                                {
                                    "Bookinfo": "The Most Dangerous GamebyRichard Connellinunknownlanguage"
                                },
                                {
                                    "Bookinfo": "The Essential RumibyJalaluddin Rumi, Coleman Barksinunknownlanguage"
                                },
                                {
                                    "Bookinfo": "Purple HibiscusbyChimamanda Ngozi Adichieinunknownlanguage"
                                },
                                {
                                    "Bookinfo": "No One Belongs Here More Than YoubyMiranda Julyinunknownlanguage"
                                },
                                {
                                    "Bookinfo": "The IslandbyElin Hilderbrandinunknownlanguage"
                                },
                                {
                                    "Bookinfo": "Agnes GreybyAnne Brontë, Angeline Goreauinunknownlanguage"
                                },
                                {
                                    "Bookinfo": "The Birth HousebyAmi McKayinunknownlanguage"
                                },
                                {
                                    "Bookinfo": "The Ripper (The Vampire Diaries: Stefan's Diaries, #4)byL.J. Smith, Kevin Williamson, Julie Plecinunknownlanguage"
                                },
                                {
                                    "Bookinfo": "Tales from a Not-So-Popular Party Girl (Dork Diaries, #2)byRachel Renée Russellinunknownlanguage"
                                },
                                {
                                    "Bookinfo": "Farmer Boy (Little House, #3)byLaura Ingalls Wilder, Garth Williamsinunknownlanguage"
                                },
                                {
                                    "Bookinfo": "Start with Why: How Great Leaders Inspire Everyone to Take ActionbySimon Sinekinunknownlanguage"
                                },
                                {
                                    "Bookinfo": "Born Free: A Lioness of Two Worlds (Story of Elsa, #1)byJoy Adamsoninunknownlanguage"
                                },
                                {
                                    "Bookinfo": "The Beautiful and DamnedbyF. Scott Fitzgeraldinunknownlanguage"
                                },
                                {
                                    "Bookinfo": "ConfessionsbyAugustine of Hippo, Henry Chadwick, Albert Cook Outlerinunknownlanguage"
                                },
                                {
                                    "Bookinfo": "Our Souls at NightbyKent Harufinunknownlanguage"
                                },
                                {
                                    "Bookinfo": "JewelbyBret Lottinunknownlanguage"
                                },
                                {
                                    "Bookinfo": "One True ThingbyAnna Quindleninunknownlanguage"
                                },
                                {
                                    "Bookinfo": "Calico JoebyJohn Grishaminunknownlanguage"
                                },
                                {
                                    "Bookinfo": "Just So StoriesbyRudyard Kiplinginunknownlanguage"
                                },
                                {
                                    "Bookinfo": "Camera Lucida: Reflections on PhotographybyRoland Barthes, Richard Howardinunknownlanguage"
                                },
                                {
                                    "Bookinfo": "The Philosophy of Andy Warhol (From A to B and Back Again)byAndy Warholinunknownlanguage"
                                },
                                {
                                    "Bookinfo": "Desiring God: Meditations of a Christian HedonistbyJohn Piperinunknownlanguage"
                                },
                                {
                                    "Bookinfo": "UnWholly (Unwind, #2)byNeal Shustermaninunknownlanguage"
                                },
                                {
                                    "Bookinfo": "The Road Not Taken and Other PoemsbyRobert Frostinunknownlanguage"
                                },
                                {
                                    "Bookinfo": "The Collected PoemsbySylvia Plath, Ted Hughesinunknownlanguage"
                                },
                                {
                                    "Bookinfo": "The Mastery of Love: A Practical Guide to the Art of Relationship --Toltec Wisdom BookbyMiguel Ruizinunknownlanguage"
                                },
                                {
                                    "Bookinfo": "Secrets of the Millionaire Mind: Mastering the Inner Game of WealthbyT. Harv Ekerinunknownlanguage"
                                },
                                {
                                    "Bookinfo": "Forgotten God: Reversing Our Tragic Neglect of the Holy SpiritbyFrancis Chan, Danae Yankoskiinunknownlanguage"
                                },
                                {
                                    "Bookinfo": "Rich Man, Poor ManbyIrwin Shawinunknownlanguage"
                                },
                                {
                                    "Bookinfo": "What She KnewbyGilly Macmillaninunknownlanguage"
                                },
                                {
                                    "Bookinfo": "A Modest ProposalbyJonathan Swiftinunknownlanguage"
                                },
                                {
                                    "Bookinfo": "Never Eat Alone: And Other Secrets to Success, One Relationship at a TimebyKeith Ferrazziinunknownlanguage"
                                },
                                {
                                    "Bookinfo": "Eva LunabyIsabel Allende, Margaret Sayers Pedeninunknownlanguage"
                                },
                                {
                                    "Bookinfo": "The 8th Confession (Women's Murder Club, #8)byJames Patterson, Maxine Paetroinunknownlanguage"
                                },
                                {
                                    "Bookinfo": "Lady Knight (Protector of the Small, #4)byTamora Pierceinunknownlanguage"
                                },
                                {
                                    "Bookinfo": "No One Here Gets Out AlivebyDanny Sugerman, Jerry Hopkinsinunknownlanguage"
                                },
                                {
                                    "Bookinfo": "Black Swan GreenbyDavid Mitchellinunknownlanguage"
                                },
                                {
                                    "Bookinfo": "A Girl Named ZippybyHaven Kimmelinunknownlanguage"
                                },
                                {
                                    "Bookinfo": "The Vampire's Assistant (Cirque Du Freak, #2)byDarren Shaninunknownlanguage"
                                },
                                {
                                    "Bookinfo": "Llama Llama Red PajamabyAnna Dewdneyinunknownlanguage"
                                },
                                {
                                    "Bookinfo": "Hocus PocusbyKurt Vonnegut Jr.inunknownlanguage"
                                },
                                {
                                    "Bookinfo": "The Checklist Manifesto: How to Get Things RightbyAtul Gawandeinunknownlanguage"
                                },
                                {
                                    "Bookinfo": "The Pioneer Woman Cooks: Recipes from an Accidental Country GirlbyRee Drummondinunknownlanguage"
                                },
                                {
                                    "Bookinfo": "K is for Killer (Kinsey Millhone, #11)bySue Graftoninunknownlanguage"
                                },
                                {
                                    "Bookinfo": "BloodlinebySidney Sheldoninunknownlanguage"
                                },
                                {
                                    "Bookinfo": "Ghost Soldiers: The Epic Account of World War II's Greatest Rescue MissionbyHampton Sidesinunknownlanguage"
                                },
                                {
                                    "Bookinfo": "Beauty and the Beast (Disney)byTeddy Slater, Ron Dias, Ric Gonzálezinunknownlanguage"
                                },
                                {
                                    "Bookinfo": "The RevenantbyMichael Punkeinunknownlanguage"
                                },
                                {
                                    "Bookinfo": "The Innovator's Dilemma: The Revolutionary Book that Will Change the Way You Do Business (Collins Business Essentials)byClayton M. Christenseninunknownlanguage"
                                },
                                {
                                    "Bookinfo": "A Course in MiraclesbyFoundation for Inner Peaceinunknownlanguage"
                                },
                                {
                                    "Bookinfo": "The Power of Intention: Learning to Co-create Your World Your WaybyWayne W. Dyerinunknownlanguage"
                                },
                                {
                                    "Bookinfo": "The Practice of the Presence of GodbyBrother Lawrenceinunknownlanguage"
                                },
                                {
                                    "Bookinfo": "Second Son (Jack Reacher, #15.5)byLee Childinunknownlanguage"
                                },
                                {
                                    "Bookinfo": "The Real Mother GoosebyBlanche Fisher Wrightinunknownlanguage"
                                },
                                {
                                    "Bookinfo": "Richard IIIbyWilliam Shakespeare, John Jowettinunknownlanguage"
                                },
                                {
                                    "Bookinfo": "The Name of the Star (Shades of London, #1)byMaureen Johnsoninunknownlanguage"
                                },
                                {
                                    "Bookinfo": "Keeping You a SecretbyJulie Anne Petersinunknownlanguage"
                                },
                                {
                                    "Bookinfo": "Harry Potter Page to Screen: The Complete Filmmaking JourneybyBob McCabeinunknownlanguage"
                                },
                                {
                                    "Bookinfo": "The Grouchy LadybugbyEric Carleinunknownlanguage"
                                },
                                {
                                    "Bookinfo": "Sookie Stackhouse 7-copy Boxed Set (Sookie Stackhouse, #1-7)byCharlaine Harrisinunknownlanguage"
                                },
                                {
                                    "Bookinfo": "A Game of Thrones / A Clash of Kings (A Song of Ice and Fire, #1-2)byGeorge R.R. Martininunknownlanguage"
                                },
                                {
                                    "Bookinfo": "Eaters of the DeadbyMichael Crichtoninunknownlanguage"
                                },
                                {
                                    "Bookinfo": "A Good Man is Hard to Find and Other StoriesbyFlannery O'Connorinunknownlanguage"
                                },
                                {
                                    "Bookinfo": "Over Sea, Under Stone (The Dark Is Rising, #1)bySusan Cooperinunknownlanguage"
                                },
                                {
                                    "Bookinfo": "The White Dragon (Pern, #3)byAnne McCaffreyinunknownlanguage"
                                },
                                {
                                    "Bookinfo": "The Shock of the NewbyRobert Hughesinunknownlanguage"
                                },
                                {
                                    "Bookinfo": "Thr3ebyTed Dekkerinunknownlanguage"
                                },
                                {
                                    "Bookinfo": "The Lion's Game (John Corey, #2)byNelson DeMilleinunknownlanguage"
                                },
                                {
                                    "Bookinfo": "Little ChildrenbyTom Perrottainunknownlanguage"
                                },
                                {
                                    "Bookinfo": "The Sandcastle GirlsbyChris Bohjalianinunknownlanguage"
                                },
                                {
                                    "Bookinfo": "Otherwise Known as Sheila the Great (Fudge #2)byJudy Blumeinunknownlanguage"
                                },
                                {
                                    "Bookinfo": "The Power of a Praying WomanbyStormie Omartianinunknownlanguage"
                                },
                                {
                                    "Bookinfo": "A Spell for Chameleon (Xanth #1)byPiers Anthonyinunknownlanguage"
                                },
                                {
                                    "Bookinfo": "Hand, Hand, Fingers, ThumbbyAl Perkins, Eric Gurneyinunknownlanguage"
                                },
                                {
                                    "Bookinfo": "The Middle PlacebyKelly Corriganinunknownlanguage"
                                },
                                {
                                    "Bookinfo": "DrownbyJunot Díazinunknownlanguage"
                                },
                                {
                                    "Bookinfo": "A Book of Five Rings: The Classic Guide to StrategybyMiyamoto Musashi, Victor Harrisinunknownlanguage"
                                },
                                {
                                    "Bookinfo": "Tick TockbyDean Koontzinunknownlanguage"
                                },
                                {
                                    "Bookinfo": "Scott Pilgrim, Volume 3: Scott Pilgrim & The Infinite SadnessbyBryan Lee O'Malleyinunknownlanguage"
                                },
                                {
                                    "Bookinfo": "Experiencing God: Knowing and Doing the Will of God, WorkbookbyHenry T. Blackaby, Claude V. King, Richard Blackabyinunknownlanguage"
                                },
                                {
                                    "Bookinfo": "Little Altars EverywherebyRebecca Wellsinunknownlanguage"
                                },
                                {
                                    "Bookinfo": "Four BlondesbyCandace Bushnellinunknownlanguage"
                                },
                                {
                                    "Bookinfo": "There Was An Old Lady Who Swallowed A Fly (Classic Books)byPam Adamsinunknownlanguage"
                                },
                                {
                                    "Bookinfo": "Ramona Forever (Ramona, #7)byBeverly Clearyinunknownlanguage"
                                },
                                {
                                    "Bookinfo": "Anne Frank: Beyond the Diary - A Photographic RemembrancebyRuud van der Rol, Rian Verhoeven, Anna Quindlen, Anne Frank, Tony Langham, Plym Petersinunknownlanguage"
                                },
                                {
                                    "Bookinfo": "The Far Side Gallery 3byGary Larsoninunknownlanguage"
                                },
                                {
                                    "Bookinfo": "When Things Fall Apart: Heart Advice for Difficult TimesbyPema Chödröninunknownlanguage"
                                },
                                {
                                    "Bookinfo": "The Three Little Pigs (Disney Classic)byAl Dempster, Milt Banta, Golden Books, Walt Disney Companyinunknownlanguage"
                                },
                                {
                                    "Bookinfo": "Andy Goldsworthy: A Collaboration with NaturebyAndy Goldsworthyinunknownlanguage"
                                },
                                {
                                    "Bookinfo": "Scott Pilgrim, Volume 4: Scott Pilgrim Gets It TogetherbyBryan Lee O'Malley, Steve Buccellatoinunknownlanguage"
                                },
                                {
                                    "Bookinfo": "Avalon HighbyMeg Cabotinunknownlanguage"
                                },
                                {
                                    "Bookinfo": "Summer IslandbyKristin Hannahinunknownlanguage"
                                },
                                {
                                    "Bookinfo": "Bringing Down the House: The Inside Story of Six M.I.T. Students Who Took Vegas for MillionsbyBen Mezrichinunknownlanguage"
                                },
                                {
                                    "Bookinfo": "The Next Best ThingbyJennifer Weinerinunknownlanguage"
                                },
                                {
                                    "Bookinfo": "Harry Potter: A Pop-Up Book: Based on the Film PhenomenonbyAndrew Williamson, Andrew Williamsoninunknownlanguage"
                                },
                                {
                                    "Bookinfo": "Portrait in SepiabyIsabel Allende, Margaret Sayers Pedeninunknownlanguage"
                                },
                                {
                                    "Bookinfo": "Tunnels of Blood (Cirque Du Freak, #3)byDarren Shaninunknownlanguage"
                                },
                                {
                                    "Bookinfo": "Rachael Ray 365: No Repeats: A Year of Deliciously Different DinnersbyRachael Rayinunknownlanguage"
                                },
                                {
                                    "Bookinfo": "Uncommon Criminals (Heist Society, #2)byAlly Carterinunknownlanguage"
                                },
                                {
                                    "Bookinfo": "Love, Stargirl (Stargirl, #2)byJerry Spinelliinunknownlanguage"
                                },
                                {
                                    "Bookinfo": "Don't Waste Your LifebyJohn Piperinunknownlanguage"
                                },
                                {
                                    "Bookinfo": "Book of Mormon, Doctrine and Covenants, Pearl of Great PricebyThe Church of Jesus Christ of Latter-day Saintsinunknownlanguage"
                                },
                                {
                                    "Bookinfo": "MainebyJ. Courtney Sullivaninunknownlanguage"
                                },
                                {
                                    "Bookinfo": "These Things HiddenbyHeather Gudenkaufinunknownlanguage"
                                },
                                {
                                    "Bookinfo": "Fix-It and Forget-It Cookbook: Feasting with Your Slow CookerbyDawn J. Ranck, Phyllis Pellman Goodinunknownlanguage"
                                },
                                {
                                    "Bookinfo": "Today Will Be DifferentbyMaria Sempleinunknownlanguage"
                                },
                                {
                                    "Bookinfo": "Anatomy for the ArtistbyJenő Barcsayinunknownlanguage"
                                },
                                {
                                    "Bookinfo": "The Lion King: A little Golden BookbyJustine Korman Fontes, Don Williams, Walt Disney Companyinunknownlanguage"
                                },
                                {
                                    "Bookinfo": "Dumbo: A Little Golden BookbyWalt Disney Companyinunknownlanguage"
                                },
                                {
                                    "Bookinfo": "Phantom (Harry Hole, #9)byJo Nesbø, Don Bartlettinunknownlanguage"
                                },
                                {
                                    "Bookinfo": "The Complete Stories and PoemsbyLewis Carrollinunknownlanguage"
                                },
                                {
                                    "Bookinfo": "How to Be a Domestic Goddess: Baking and the Art of Comfort CookingbyNigella Lawsoninunknownlanguage"
                                },
                                {
                                    "Bookinfo": "Rebecca of Sunnybrook FarmbyKate Douglas Wiggininunknownlanguage"
                                },
                                {
                                    "Bookinfo": "White: The Great Pursuit (The Circle, #3)byTed Dekkerinunknownlanguage"
                                },
                                {
                                    "Bookinfo": "Empire of the Summer Moon: Quanah Parker and the Rise and Fall of the Comanches, the Most Powerful Indian Tribe in American HistorybyS.C. Gwynneinunknownlanguage"
                                },
                                {
                                    "Bookinfo": "Smiley's PeoplebyJohn le Carréinunknownlanguage"
                                },
                                {
                                    "Bookinfo": "Piano/Vocal/Guitar Sheet Music: The Chronicles of Narnia: The Lion, the Witch and The WardrobebyHarry Gregson-Williamsinunknownlanguage"
                                },
                                {
                                    "Bookinfo": "Reviving Ophelia: Saving the Selves of Adolescent GirlsbyMary Pipherinunknownlanguage"
                                },
                                {
                                    "Bookinfo": "Half Asleep in Frog PajamasbyTom Robbinsinunknownlanguage"
                                },
                                {
                                    "Bookinfo": "Child of GodbyCormac McCarthyinunknownlanguage"
                                },
                                {
                                    "Bookinfo": "One Fifth AvenuebyCandace Bushnell, Donna Murphyinunknownlanguage"
                                },
                                {
                                    "Bookinfo": "The Last Sin EaterbyFrancine Riversinunknownlanguage"
                                },
                                {
                                    "Bookinfo": "Heavier Than Heaven: A Biography of Kurt CobainbyCharles R. Crossinunknownlanguage"
                                },
                                {
                                    "Bookinfo": "Fortune's RocksbyAnita Shreveinunknownlanguage"
                                },
                                {
                                    "Bookinfo": "The Undercover EconomistbyTim Harfordinunknownlanguage"
                                },
                                {
                                    "Bookinfo": "The Heretic's DaughterbyKathleen Kentinunknownlanguage"
                                },
                                {
                                    "Bookinfo": "Heat: An Amateur's Adventures as Kitchen Slave, Line Cook, Pasta-Maker, and Apprentice to a Dante-Quoting Butcher in TuscanybyBill Bufordinunknownlanguage"
                                },
                                {
                                    "Bookinfo": "Now, Discover Your StrengthsbyMarcus Buckingham, Donald O. Cliftoninunknownlanguage"
                                },
                                {
                                    "Bookinfo": "PulpbyCharles Bukowskiinunknownlanguage"
                                },
                                {
                                    "Bookinfo": "Dear Life: StoriesbyAlice Munroinunknownlanguage"
                                },
                                {
                                    "Bookinfo": "Five Little Monkeys Jumping on the BedbyEileen Christelowinunknownlanguage"
                                },
                                {
                                    "Bookinfo": "A Return to Love: Reflections on the Principles of \"A Course in Miracles\"byMarianne Williamsoninunknownlanguage"
                                },
                                {
                                    "Bookinfo": "Avatar: The Last Airbender (The Promise, #1)byGene Luen Yang, Bryan Konietzko, Michael Dante DiMartino, Gurihiruinunknownlanguage"
                                },
                                {
                                    "Bookinfo": "Angels and Demons / The Da Vinci Code (Robert Langdon, #1-2)byDan Browninunknownlanguage"
                                },
                                {
                                    "Bookinfo": "Light on SnowbyAnita Shreveinunknownlanguage"
                                },
                                {
                                    "Bookinfo": "The Lords of DisciplinebyPat Conroyinunknownlanguage"
                                },
                                {
                                    "Bookinfo": "The Beautiful Mystery (Chief Inspector Armand Gamache, #8)byLouise Pennyinunknownlanguage"
                                },
                                {
                                    "Bookinfo": "The Diamond Throne (The Elenium, #1)byDavid Eddingsinunknownlanguage"
                                },
                                {
                                    "Bookinfo": "Modern LoversbyEmma Straubinunknownlanguage"
                                },
                                {
                                    "Bookinfo": "Servant of the BonesbyAnne Riceinunknownlanguage"
                                },
                                {
                                    "Bookinfo": "Ironside (Modern Faerie Tales, #3)byHolly Blackinunknownlanguage"
                                },
                                {
                                    "Bookinfo": "The Prisoner of Cell 25 (Michael Vey, #1)byRichard Paul Evansinunknownlanguage"
                                },
                                {
                                    "Bookinfo": "The Souls of Black FolkbyW.E.B. Du Bois, Donald B. Gibson, Monica W. Elbertinunknownlanguage"
                                },
                                {
                                    "Bookinfo": "The CastawaysbyElin Hilderbrandinunknownlanguage"
                                },
                                {
                                    "Bookinfo": "Eragon & Eldest (Inheritance, #1-2)byChristopher Paoliniinunknownlanguage"
                                },
                                {
                                    "Bookinfo": "Behind the Scenes at the MuseumbyKate Atkinsoninunknownlanguage"
                                },
                                {
                                    "Bookinfo": "The Emperor's ChildrenbyClaire Messudinunknownlanguage"
                                },
                                {
                                    "Bookinfo": "NYPD Red (NYPD Red, #1)byJames Patterson, Marshall Karpinunknownlanguage"
                                },
                                {
                                    "Bookinfo": "Chicken Soup with Rice: A Book of Months (The Nutshell Library)byMaurice Sendakinunknownlanguage"
                                },
                                {
                                    "Bookinfo": "The Irresistible Revolution: Living as an Ordinary RadicalbyShane Claiborneinunknownlanguage"
                                },
                                {
                                    "Bookinfo": "Brain Rules: 12 Principles for Surviving and Thriving at Work, Home, and SchoolbyJohn Medinainunknownlanguage"
                                },
                                {
                                    "Bookinfo": "The Pilgrims of Rayne (Pendragon, #8)byD.J. MacHaleinunknownlanguage"
                                },
                                {
                                    "Bookinfo": "Forever Princess (The Princess Diaries, #10)byMeg Cabotinunknownlanguage"
                                },
                                {
                                    "Bookinfo": "In One PersonbyJohn Irvinginunknownlanguage"
                                },
                                {
                                    "Bookinfo": "The FogbyJames Herbertinunknownlanguage"
                                },
                                {
                                    "Bookinfo": "Unlimited Power : The New Science Of Personal AchievementbyAnthony Robbins, Kenneth H. Blanchard, Jason Wintersinunknownlanguage"
                                },
                                {
                                    "Bookinfo": "Why Be Happy When You Could Be Normal?byJeanette Wintersoninunknownlanguage"
                                },
                                {
                                    "Bookinfo": "Velvet Elvis: Repainting the Christian FaithbyRob Bellinunknownlanguage"
                                },
                                {
                                    "Bookinfo": "The Shunning (The Heritage of Lancaster County, #1)byBeverly  Lewisinunknownlanguage"
                                },
                                {
                                    "Bookinfo": "Gates of Fire: An Epic Novel of the Battle of ThermopylaebySteven Pressfieldinunknownlanguage"
                                },
                                {
                                    "Bookinfo": "Rapture in Death (In Death, #4)byJ.D. Robb, Susan Erickseninunknownlanguage"
                                },
                                {
                                    "Bookinfo": "Dracula (Marvel Illustrated)byRoy Thomas, Dick Giordano, Mark D. Beazley, Bram Stokerinunknownlanguage"
                                },
                                {
                                    "Bookinfo": "The Air He Breathes (Elements, #1)byBrittainy C. Cherryinunknownlanguage"
                                },
                                {
                                    "Bookinfo": "The Glass Magician (The Paper Magician Trilogy, #2)byCharlie N. Holmberginunknownlanguage"
                                },
                                {
                                    "Bookinfo": "The Little MermaidbyMichael Teitelbaum, Sue DiCiccoinunknownlanguage"
                                },
                                {
                                    "Bookinfo": "LifeguardbyJames Patterson, Andrew Grossinunknownlanguage"
                                },
                                {
                                    "Bookinfo": "Lilly's Purple Plastic PursebyKevin Henkesinunknownlanguage"
                                },
                                {
                                    "Bookinfo": "The Missing PiecebyShel Silversteininunknownlanguage"
                                },
                                {
                                    "Bookinfo": "Jesus the ChristbyJames E. Talmageinunknownlanguage"
                                },
                                {
                                    "Bookinfo": "ShirleybyCharlotte Brontë, Lucasta Miller, collaborative, Jessica Coxinunknownlanguage"
                                },
                                {
                                    "Bookinfo": "Villa IncognitobyTom Robbinsinunknownlanguage"
                                },
                                {
                                    "Bookinfo": "The Little Red Hen (Little Golden Book)byDiane Muldrow, J.P. Millerinunknownlanguage"
                                },
                                {
                                    "Bookinfo": "LethalbySandra Browninunknownlanguage"
                                },
                                {
                                    "Bookinfo": "Game Change: Obama and the Clintons, McCain and Palin, and the Race of a LifetimebyJohn Heilemann, Mark Halperininunknownlanguage"
                                },
                                {
                                    "Bookinfo": "Percy Jackson and the Olympians Boxed Set (Percy Jackson and the Olympians, #1-5)byRick Riordan, Tkinunknownlanguage"
                                },
                                {
                                    "Bookinfo": "Trials of Death (Cirque Du Freak, #5)byDarren Shaninunknownlanguage"
                                },
                                {
                                    "Bookinfo": "Dragonsdawn (Pern, #9)byAnne McCaffreyinunknownlanguage"
                                },
                                {
                                    "Bookinfo": "I Kissed Dating GoodbyebyJoshua Harrisinunknownlanguage"
                                },
                                {
                                    "Bookinfo": "Veganomicon: The Ultimate Vegan CookbookbyIsa Chandra Moskowitz, Terry Hope Romeroinunknownlanguage"
                                },
                                {
                                    "Bookinfo": "In His StepsbyCharles M. Sheldoninunknownlanguage"
                                },
                                {
                                    "Bookinfo": "Stolen Innocence: My Story of Growing Up in a Polygamous Sect, Becoming a Teenage Bride, and Breaking Free of Warren JeffsbyElissa Wall, Lisa Pulitzerinunknownlanguage"
                                },
                                {
                                    "Bookinfo": "The Fallen Star (Fallen Star, #1)byJessica Sorenseninunknownlanguage"
                                },
                                {
                                    "Bookinfo": "The Illearth War (The Chronicles of Thomas Covenant the Unbeliever, #2)byStephen R. Donaldsoninunknownlanguage"
                                },
                                {
                                    "Bookinfo": "The Mysterious Benedict Society and the Prisoner's Dilemma (The Mysterious Benedict Society, #3)byTrenton Lee Stewart, Del Royinunknownlanguage"
                                },
                                {
                                    "Bookinfo": "The Pursuit of HappynessbyChris Gardnerinunknownlanguage"
                                },
                                {
                                    "Bookinfo": "Unfinished Tales of Númenor and Middle-EarthbyJ.R.R. Tolkien, Christopher Tolkieninunknownlanguage"
                                },
                                {
                                    "Bookinfo": "Fancy NancybyJane O'Connor, Robin Preiss Glasserinunknownlanguage"
                                },
                                {
                                    "Bookinfo": "A Fall of MarigoldsbySusan Meissnerinunknownlanguage"
                                },
                                {
                                    "Bookinfo": "Codependent No More: How to Stop Controlling Others and Start Caring for YourselfbyMelody Beattieinunknownlanguage"
                                },
                                {
                                    "Bookinfo": "Jimmy Corrigan, the Smartest Kid on EarthbyChris Wareinunknownlanguage"
                                },
                                {
                                    "Bookinfo": "The Story of Beautiful GirlbyRachel Simoninunknownlanguage"
                                },
                                {
                                    "Bookinfo": "A Matter of HonorbyJeffrey Archerinunknownlanguage"
                                },
                                {
                                    "Bookinfo": "A Sand County Almanac and Sketches Here and TherebyAldo Leopoldinunknownlanguage"
                                },
                                {
                                    "Bookinfo": "Lassie Come-HomebyEric Knight, Marguerite Kirmseinunknownlanguage"
                                },
                                {
                                    "Bookinfo": "All Around the TownbyMary Higgins Clarkinunknownlanguage"
                                },
                                {
                                    "Bookinfo": "Fantastic VoyagebyIsaac Asimovinunknownlanguage"
                                },
                                {
                                    "Bookinfo": "The Harbinger: The Ancient Mystery that Holds the Secret of America's FuturebyJonathan Cahninunknownlanguage"
                                },
                                {
                                    "Bookinfo": "Clara and Mr. TiffanybySusan Vreelandinunknownlanguage"
                                },
                                {
                                    "Bookinfo": "Raymond E. Feist's Magician MasterbyBryan J.L. Glass, Tim Seeley, Hugo Petrus, Raymond E. Feistinunknownlanguage"
                                },
                                {
                                    "Bookinfo": "Lunar ParkbyBret Easton Ellisinunknownlanguage"
                                },
                                {
                                    "Bookinfo": "Save MebyLisa Scottolineinunknownlanguage"
                                },
                                {
                                    "Bookinfo": "TuesdaybyDavid Wiesnerinunknownlanguage"
                                },
                                {
                                    "Bookinfo": "Slouching Towards BethlehembyJoan Didioninunknownlanguage"
                                },
                                {
                                    "Bookinfo": "Rise of a Merchant Prince (The Serpentwar Saga, #2)byRaymond E. Feistinunknownlanguage"
                                },
                                {
                                    "Bookinfo": "The Vampire Prince (Cirque Du Freak, #6)byDarren Shaninunknownlanguage"
                                },
                                {
                                    "Bookinfo": "The Gold CoastbyNelson DeMilleinunknownlanguage"
                                },
                                {
                                    "Bookinfo": "Twilight EyesbyDean Koontzinunknownlanguage"
                                },
                                {
                                    "Bookinfo": "Domes of Fire (The Tamuli, #1)byDavid Eddingsinunknownlanguage"
                                },
                                {
                                    "Bookinfo": "An Illustrated Life: Drawing Inspiration From The Private Sketchbooks Of Artists, Illustrators And DesignersbyDanny Gregoryinunknownlanguage"
                                },
                                {
                                    "Bookinfo": "The Creative License: Giving Yourself Permission to Be The Artist You Truly ArebyDanny Gregoryinunknownlanguage"
                                },
                                {
                                    "Bookinfo": "Plan B: Further Thoughts on FaithbyAnne Lamottinunknownlanguage"
                                },
                                {
                                    "Bookinfo": "River Secrets (The Books of Bayern, #3)byShannon Haleinunknownlanguage"
                                },
                                {
                                    "Bookinfo": "Gang Leader for a Day: A Rogue Sociologist Takes to the StreetsbySudhir Venkateshinunknownlanguage"
                                },
                                {
                                    "Bookinfo": "Developing the Leader Within YoubyJohn C. Maxwellinunknownlanguage"
                                },
                                {
                                    "Bookinfo": "Polgara the Sorceress (Malloreon)byDavid Eddings, Leigh Eddingsinunknownlanguage"
                                },
                                {
                                    "Bookinfo": "The Edible WomanbyMargaret Atwoodinunknownlanguage"
                                },
                                {
                                    "Bookinfo": "The Preacher (Patrik Hedström, #2)byCamilla Läckberg, Steven T. Murrayinunknownlanguage"
                                },
                                {
                                    "Bookinfo": "MidnightbyDean Koontzinunknownlanguage"
                                },
                                {
                                    "Bookinfo": "A Simple PlanbyScott B. Smithinunknownlanguage"
                                },
                                {
                                    "Bookinfo": "Curse of the Bane (The Last Apprentice / Wardstone Chronicles, #2)byJoseph Delaney, Patrick  Arrasmithinunknownlanguage"
                                },
                                {
                                    "Bookinfo": "The Gift (Witch & Wizard, #2)byJames Patterson, Ned Rustinunknownlanguage"
                                },
                                {
                                    "Bookinfo": "Snow White and the Seven Dwarfs (Little Golden Book)byWalt Disney Companyinunknownlanguage"
                                },
                                {
                                    "Bookinfo": "Angel FallsbyKristin Hannahinunknownlanguage"
                                },
                                {
                                    "Bookinfo": "Mao's Last DancerbyLi Cunxininunknownlanguage"
                                },
                                {
                                    "Bookinfo": "The Constitution of the United States of AmericabyFounding Fathersinunknownlanguage"
                                },
                                {
                                    "Bookinfo": "Gustav Klimt: 1862-1918byGilles Néretinunknownlanguage"
                                },
                                {
                                    "Bookinfo": "The Tibetan Book of Living and DyingbySogyal Rinpoche, Andrew Harveyinunknownlanguage"
                                },
                                {
                                    "Bookinfo": "EnchantmentbyOrson Scott Cardinunknownlanguage"
                                },
                                {
                                    "Bookinfo": "The Starter WifebyGigi Levangie Grazerinunknownlanguage"
                                },
                                {
                                    "Bookinfo": "Zen of Seeing: Seeing/Drawing as MeditationbyFrederick Franckinunknownlanguage"
                                },
                                {
                                    "Bookinfo": "The Dragonriders of Pern (Dragonriders of Pern, #1-3)byAnne McCaffreyinunknownlanguage"
                                },
                                {
                                    "Bookinfo": "E is for Evidence (Kinsey Millhone, #5)bySue Graftoninunknownlanguage"
                                },
                                {
                                    "Bookinfo": "The Fifth Discipline: The Art & Practice of The Learning OrganizationbyPeter M. Sengeinunknownlanguage"
                                },
                                {
                                    "Bookinfo": "Straight TalkingbyJane Greeninunknownlanguage"
                                },
                                {
                                    "Bookinfo": "Dauntless (The Lost Fleet, #1)byJack Campbellinunknownlanguage"
                                },
                                {
                                    "Bookinfo": "Me & EmmabyElizabeth Flockinunknownlanguage"
                                },
                                {
                                    "Bookinfo": "Diane Arbus: MonographbyDiane Arbus, Stan Grossfeld, Doon Arbus, Marvin Israelinunknownlanguage"
                                },
                                {
                                    "Bookinfo": "A Color of His OwnbyLeo Lionniinunknownlanguage"
                                },
                                {
                                    "Bookinfo": "Until You (Fall Away, #1.5)byPenelope Douglas, Nelson Hobbsinunknownlanguage"
                                },
                                {
                                    "Bookinfo": "What Got You Here Won't Get You There: How Successful People Become Even More SuccessfulbyMarshall Goldsmith, Mark Reiterinunknownlanguage"
                                },
                                {
                                    "Bookinfo": "The Effective Executive: The Definitive Guide to Getting the Right Things Done (Harperbusiness Essentials)byPeter F. Druckerinunknownlanguage"
                                },
                                {
                                    "Bookinfo": "The Law of Attraction: The Basics of the Teachings of AbrahambyEsther Hicks, Jerry Hicksinunknownlanguage"
                                },
                                {
                                    "Bookinfo": "Hunters of the Dusk (Cirque Du Freak, #7)byDarren Shaninunknownlanguage"
                                },
                                {
                                    "Bookinfo": "By the Light of the MoonbyDean Koontzinunknownlanguage"
                                },
                                {
                                    "Bookinfo": "A Summer AffairbyElin Hilderbrandinunknownlanguage"
                                },
                                {
                                    "Bookinfo": "Mariel of Redwall (Redwall, #4)byBrian Jacques, Gary Chalkinunknownlanguage"
                                },
                                {
                                    "Bookinfo": "And the Band Played On: Politics, People, and the AIDS EpidemicbyRandy Shilts, William Greiderinunknownlanguage"
                                },
                                {
                                    "Bookinfo": "Allies of the Night (Cirque du Freak, #8)byDarren Shaninunknownlanguage"
                                },
                                {
                                    "Bookinfo": "DarknessbyJohn Saulinunknownlanguage"
                                },
                                {
                                    "Bookinfo": "Audrey RosebyFrank De Felittainunknownlanguage"
                                },
                                {
                                    "Bookinfo": "Skeletons at the FeastbyChris Bohjalianinunknownlanguage"
                                },
                                {
                                    "Bookinfo": "L is for Lawless (Kinsey Millhone, #12)bySue Graftoninunknownlanguage"
                                },
                                {
                                    "Bookinfo": "If You Give a Pig a PartybyLaura Joffe Numeroff, Felicia Bondinunknownlanguage"
                                },
                                {
                                    "Bookinfo": "Is Your Mama a Llama?byDeborah Guarino, Steven Kellogginunknownlanguage"
                                },
                                {
                                    "Bookinfo": "Heads in Beds: A Reckless Memoir of Hotels, Hustles, and So-Called HospitalitybyJacob Tomskyinunknownlanguage"
                                },
                                {
                                    "Bookinfo": "Dali: The PaintingsbyRobert Descharnes, Gilles Néretinunknownlanguage"
                                },
                                {
                                    "Bookinfo": "Eight Hundred GrapesbyLaura Daveinunknownlanguage"
                                },
                                {
                                    "Bookinfo": "Shatterproof (The 39 Clues: Cahills vs. Vespers, #4)byRoland Smithinunknownlanguage"
                                },
                                {
                                    "Bookinfo": "Castle in the Air (Howl's Moving Castle, #2)byDiana Wynne Jonesinunknownlanguage"
                                },
                                {
                                    "Bookinfo": "Reborn! Vol. 01: Reborn Arrives! (Reborn!, #1)byAkira Amano, JN Productions, Frances E. Wallinunknownlanguage"
                                },
                                {
                                    "Bookinfo": "All Things Wise and WonderfulbyJames Herriotinunknownlanguage"
                                },
                                {
                                    "Bookinfo": "Love's Executioner and Other Tales of PsychotherapybyIrvin D. Yalominunknownlanguage"
                                },
                                {
                                    "Bookinfo": "The VisitationbyFrank E. Perettiinunknownlanguage"
                                },
                                {
                                    "Bookinfo": "Leadership and Self-Deception: Getting Out of the BoxbyThe Arbinger Instituteinunknownlanguage"
                                },
                                {
                                    "Bookinfo": "Killers of the Dawn (Cirque Du Freak, #9)byDarren Shaninunknownlanguage"
                                },
                                {
                                    "Bookinfo": "Tramp for the LordbyCorrie ten Boominunknownlanguage"
                                },
                                {
                                    "Bookinfo": "If You Take a Mouse to the MoviesbyLaura Joffe Numeroff, Felicia Bondinunknownlanguage"
                                },
                                {
                                    "Bookinfo": "Alex Cross, Run (Alex Cross, #20)byJames Pattersoninunknownlanguage"
                                },
                                {
                                    "Bookinfo": "Girl Walks into a Bar . . .: Comedy Calamities, Dating Disasters, and a Midlife MiraclebyRachel Dratchinunknownlanguage"
                                },
                                {
                                    "Bookinfo": "The Last Seven Months of Anne FrankbyWilly Lindwerinunknownlanguage"
                                },
                                {
                                    "Bookinfo": "Beauty and the BeastbyWalt Disney Company, Ellen Titlebauminunknownlanguage"
                                },
                                {
                                    "Bookinfo": "Night of the Soul Stealer (The Last Apprentice / Wardstone Chronicles, #3)byJoseph Delaney, Patrick  Arrasmithinunknownlanguage"
                                },
                                {
                                    "Bookinfo": "The Gift of Fear: Survival Signals That Protect Us from ViolencebyGavin de Beckerinunknownlanguage"
                                },
                                {
                                    "Bookinfo": "Don't You CrybyMary Kubicainunknownlanguage"
                                },
                                {
                                    "Bookinfo": "The Master Butchers Singing ClubbyLouise Erdrichinunknownlanguage"
                                },
                                {
                                    "Bookinfo": "The Great Train RobberybyMichael Crichtoninunknownlanguage"
                                },
                                {
                                    "Bookinfo": "Safe HarbourbyDanielle Steelinunknownlanguage"
                                },
                                {
                                    "Bookinfo": "The Russia HousebyJohn le Carréinunknownlanguage"
                                },
                                {
                                    "Bookinfo": "Just Me in the Tub (Mercer Mayer's Little Critter)byGina Mayer, Mercer Mayerinunknownlanguage"
                                },
                                {
                                    "Bookinfo": "Cold FirebyDean Koontzinunknownlanguage"
                                },
                                {
                                    "Bookinfo": "Shugo Chara!, Vol. 1: Who Do You Want to Be? (Shugo Chara!, #1)byPeach-Pitinunknownlanguage"
                                },
                                {
                                    "Bookinfo": "Your Inner Fish: A Journey into the 3.5-Billion-Year History of the Human BodybyNeil Shubininunknownlanguage"
                                },
                                {
                                    "Bookinfo": "The Dip: A Little Book That Teaches You When to Quit (and When to Stick)bySeth Godininunknownlanguage"
                                },
                                {
                                    "Bookinfo": "Arsenic and Old LacebyJoseph Kesselringinunknownlanguage"
                                },
                                {
                                    "Bookinfo": "Sometimes a Great NotionbyKen Keseyinunknownlanguage"
                                },
                                {
                                    "Bookinfo": "The Candy Shop War (The Candy Shop War, #1)byBrandon Mullinunknownlanguage"
                                },
                                {
                                    "Bookinfo": "Why Mosquitoes Buzz in People's EarsbyVerna Aardema, Leo Dillon, Diane Dilloninunknownlanguage"
                                },
                                {
                                    "Bookinfo": "The New Best RecipebyCook's Illustrated Magazine, John Burgoyne, Carl Tremblayinunknownlanguage"
                                },
                                {
                                    "Bookinfo": "The Proper Care and Feeding of HusbandsbyLaura C. Schlessingerinunknownlanguage"
                                },
                                {
                                    "Bookinfo": "Charlie Bone and the Castle of Mirrors (The Children of the Red King, #4)byJenny Nimmoinunknownlanguage"
                                },
                                {
                                    "Bookinfo": "The Sword of Shannara Trilogy (Shannara, #1-3)byTerry Brooksinunknownlanguage"
                                },
                                {
                                    "Bookinfo": "Maybe in Another LifebyTaylor Jenkins Reidinunknownlanguage"
                                },
                                {
                                    "Bookinfo": "Frosty the Snowman (Frosty the Snowman)byDiane Muldrowinunknownlanguage"
                                },
                                {
                                    "Bookinfo": "The Queen of Attolia (The Queen's Thief, #2)byMegan Whalen Turnerinunknownlanguage"
                                },
                                {
                                    "Bookinfo": "Citizen Soldiers: The U. S. Army from the Normandy Beaches to the Bulge to the Surrender of GermanybyStephen E. Ambroseinunknownlanguage"
                                },
                                {
                                    "Bookinfo": "The Vagina MonologuesbyEve Ensler, Gloria Steineminunknownlanguage"
                                },
                                {
                                    "Bookinfo": "Not My DaughterbyBarbara Delinskyinunknownlanguage"
                                },
                                {
                                    "Bookinfo": "QuentinsbyMaeve Binchyinunknownlanguage"
                                },
                                {
                                    "Bookinfo": "Adam BedebyGeorge Eliot, Joanna Trollope, Hugh Osborneinunknownlanguage"
                                },
                                {
                                    "Bookinfo": "One Last Thing Before I GobyJonathan Tropperinunknownlanguage"
                                },
                                {
                                    "Bookinfo": "By the Time You Read This, I'll Be DeadbyJulie Anne Peters, C.J. Bottinunknownlanguage"
                                },
                                {
                                    "Bookinfo": "City of Night (Dean Koontz's Frankenstein, #2)byDean Koontz, Ed Gorman, John Bedford Lloydinunknownlanguage"
                                },
                                {
                                    "Bookinfo": "number9dreambyDavid Mitchellinunknownlanguage"
                                },
                                {
                                    "Bookinfo": "The Source of Magic (Xanth, #2)byPiers Anthonyinunknownlanguage"
                                },
                                {
                                    "Bookinfo": "Cities of the Plain (The Border Trilogy, #3)byCormac McCarthyinunknownlanguage"
                                },
                                {
                                    "Bookinfo": "Disney after Dark (Kingdom Keepers, #1)byRidley Pearson, David Franklandinunknownlanguage"
                                },
                                {
                                    "Bookinfo": "The Honor of the Queen (Honor Harrington, #2)byDavid Weberinunknownlanguage"
                                },
                                {
                                    "Bookinfo": "My Sweet Audrina (Audrina, #1)byV.C. Andrewsinunknownlanguage"
                                },
                                {
                                    "Bookinfo": "My Best Friend's GirlbyDorothy Koomsoninunknownlanguage"
                                },
                                {
                                    "Bookinfo": "The Untethered Soul: The Journey Beyond YourselfbyMichael A. Singerinunknownlanguage"
                                },
                                {
                                    "Bookinfo": "Flyboys: A True Story of CouragebyJames D. Bradleyinunknownlanguage"
                                },
                                {
                                    "Bookinfo": "HonolulubyAlan Brennertinunknownlanguage"
                                },
                                {
                                    "Bookinfo": "Bridge of SighsbyRichard Russoinunknownlanguage"
                                },
                                {
                                    "Bookinfo": "Raven's Gate (The Gatekeepers, #1)byAnthony Horowitzinunknownlanguage"
                                },
                                {
                                    "Bookinfo": "Why Evolution Is TruebyJerry A. Coyneinunknownlanguage"
                                },
                                {
                                    "Bookinfo": "You Are a Badass: How to Stop Doubting Your Greatness and Start Living an Awesome LifebyJen Sinceroinunknownlanguage"
                                },
                                {
                                    "Bookinfo": "Dragon TearsbyDean Koontzinunknownlanguage"
                                },
                                {
                                    "Bookinfo": "Grass for His Pillow (Tales of the Otori, #2)byLian Hearninunknownlanguage"
                                },
                                {
                                    "Bookinfo": "Daisy MillerbyHenry Jamesinunknownlanguage"
                                },
                                {
                                    "Bookinfo": "Pat the BunnybyDorothy Kunhardtinunknownlanguage"
                                },
                                {
                                    "Bookinfo": "Harry Potter and the Order of the Phoenix (Harry Potter, #5, Part 1)byJ.K. Rowlinginunknownlanguage"
                                },
                                {
                                    "Bookinfo": "The Onion FieldbyJoseph Wambaughinunknownlanguage"
                                },
                                {
                                    "Bookinfo": "The Art of TravelbyAlain de Bottoninunknownlanguage"
                                },
                                {
                                    "Bookinfo": "Cross Justice (Alex Cross, #23)byJames Pattersoninunknownlanguage"
                                },
                                {
                                    "Bookinfo": "The 39 Steps (Richard Hannay, #1)byJohn Buchaninunknownlanguage"
                                },
                                {
                                    "Bookinfo": "The Lake of Souls (Cirque Du Freak, #10)byDarren Shaninunknownlanguage"
                                },
                                {
                                    "Bookinfo": "Paddy Clarke Ha Ha HabyRoddy Doyleinunknownlanguage"
                                },
                                {
                                    "Bookinfo": "Charlie Bone and the Hidden King (The Children of the Red King, #5)byJenny Nimmoinunknownlanguage"
                                },
                                {
                                    "Bookinfo": "30 Days of Night, Vol. 1bySteve Niles, Ben Templesmithinunknownlanguage"
                                },
                                {
                                    "Bookinfo": "Princess in Training (The Princess Diaries, #6)byMeg Cabotinunknownlanguage"
                                },
                                {
                                    "Bookinfo": "The Devotion of Suspect XbyKeigo Higashino, Alexander O. Smithinunknownlanguage"
                                },
                                {
                                    "Bookinfo": "Charlie Bone and the Time Twister (The Children of the Red King, #2)byJenny Nimmoinunknownlanguage"
                                },
                                {
                                    "Bookinfo": "PornobyIrvine Welshinunknownlanguage"
                                },
                                {
                                    "Bookinfo": "Tales from a Not-So-Graceful Ice Princess (Dork Diaries, #4)byRachel Renée Russellinunknownlanguage"
                                },
                                {
                                    "Bookinfo": "Eiger Dreams: Ventures Among Men and MountainsbyJon Krakauerinunknownlanguage"
                                },
                                {
                                    "Bookinfo": "Belly Laughs: The Naked Truth About Pregnancy and ChildbirthbyJenny McCarthyinunknownlanguage"
                                },
                                {
                                    "Bookinfo": "Frosty the Snow ManbyJane Werner Watson, Corinne Malverninunknownlanguage"
                                },
                                {
                                    "Bookinfo": "In Our TimebyErnest Hemingwayinunknownlanguage"
                                },
                                {
                                    "Bookinfo": "As the Crow FliesbyJeffrey Archerinunknownlanguage"
                                },
                                {
                                    "Bookinfo": "The DescendantsbyKaui Hart Hemmingsinunknownlanguage"
                                },
                                {
                                    "Bookinfo": "Crown Duel (Crown & Court #1-2)bySherwood Smithinunknownlanguage"
                                },
                                {
                                    "Bookinfo": "Remember MebyMary Higgins Clarkinunknownlanguage"
                                },
                                {
                                    "Bookinfo": "The Silver Palate CookbookbyJulee Rosso, Sheila Lukins, Michael McLaughlininunknownlanguage"
                                },
                                {
                                    "Bookinfo": "High-RisebyJ.G. Ballardinunknownlanguage"
                                },
                                {
                                    "Bookinfo": "HollywoodbyCharles Bukowskiinunknownlanguage"
                                },
                                {
                                    "Bookinfo": "A Son of the CircusbyJohn Irvinginunknownlanguage"
                                },
                                {
                                    "Bookinfo": "The Shining Ones (The Tamuli, #2)byDavid Eddingsinunknownlanguage"
                                },
                                {
                                    "Bookinfo": "TrinitybyLeon Urisinunknownlanguage"
                                },
                                {
                                    "Bookinfo": "A Light in the Window (Mitford Years, #2)byJan Karoninunknownlanguage"
                                },
                                {
                                    "Bookinfo": "Scuffy the Tugboat (Big Little Golden Book)byGertrude Cramptoninunknownlanguage"
                                },
                                {
                                    "Bookinfo": "Last to Die (Rizzoli & Isles, #10)byTess Gerritseninunknownlanguage"
                                },
                                {
                                    "Bookinfo": "KrakenbyChina Miévilleinunknownlanguage"
                                },
                                {
                                    "Bookinfo": "The Painted BirdbyJerzy Kosińskiinunknownlanguage"
                                },
                                {
                                    "Bookinfo": "The Twelve ChairsbyIlya Ilf, Eugene Petrov, Maurice Friedberg, John H.C. Richardsoninunknownlanguage"
                                },
                                {
                                    "Bookinfo": "The FeverbyMegan Abbottinunknownlanguage"
                                },
                                {
                                    "Bookinfo": "The Millionaire MindbyThomas J. Stanleyinunknownlanguage"
                                },
                                {
                                    "Bookinfo": "Night World: The Ultimate Fan GuidebyAnnette Pollert, L.J. Smithinunknownlanguage"
                                },
                                {
                                    "Bookinfo": "Dragonlance Chronicles (Dragonlance #1-3)byMargaret Weis, Tracy Hickmaninunknownlanguage"
                                },
                                {
                                    "Bookinfo": "From Head to ToebyEric Carleinunknownlanguage"
                                },
                                {
                                    "Bookinfo": "For the Love: Fighting for Grace in a World of Impossible StandardsbyJen Hatmakerinunknownlanguage"
                                },
                                {
                                    "Bookinfo": "Loving What Is: Four Questions That Can Change Your LifebyByron Katie, Stephen Mitchellinunknownlanguage"
                                },
                                {
                                    "Bookinfo": "Unveiled: Tamar (Lineage of Grace #1)byFrancine Riversinunknownlanguage"
                                },
                                {
                                    "Bookinfo": "The 80/20 Principle: The Secret to Achieving More with LessbyRichard Kochinunknownlanguage"
                                },
                                {
                                    "Bookinfo": "The SportswriterbyRichard Fordinunknownlanguage"
                                },
                                {
                                    "Bookinfo": "Grim Tuesday (The Keys to the Kingdom, #2)byGarth Nixinunknownlanguage"
                                },
                                {
                                    "Bookinfo": "Blue HighwaysbyWilliam Least Heat-Mooninunknownlanguage"
                                },
                                {
                                    "Bookinfo": "The Miracle of ForgivenessbySpencer W. Kimballinunknownlanguage"
                                },
                                {
                                    "Bookinfo": "Passion and Purity: Learning to Bring Your Love Life Under Christ's ControlbyElisabeth Elliotinunknownlanguage"
                                },
                                {
                                    "Bookinfo": "Seating ArrangementsbyMaggie Shipsteadinunknownlanguage"
                                },
                                {
                                    "Bookinfo": "The Broom of the SystembyDavid Foster Wallaceinunknownlanguage"
                                },
                                {
                                    "Bookinfo": "West Side StorybyIrving Shulmaninunknownlanguage"
                                },
                                {
                                    "Bookinfo": "Queen of the Darkness (The Black Jewels, #3)byAnne Bishopinunknownlanguage"
                                },
                                {
                                    "Bookinfo": "Axel (Corps Security, #1)byHarper Sloaninunknownlanguage"
                                },
                                {
                                    "Bookinfo": "Big Red (Big Red, #1)byJim Kjelgaard, Carl Pfeufferinunknownlanguage"
                                },
                                {
                                    "Bookinfo": "SellevisionbyAugusten Burroughsinunknownlanguage"
                                },
                                {
                                    "Bookinfo": "3001: The Final Odyssey (Space Odyssey, #4)byArthur C. Clarkeinunknownlanguage"
                                },
                                {
                                    "Bookinfo": "Prayers for Rain (Kenzie & Gennaro, #5)byDennis Lehaneinunknownlanguage"
                                },
                                {
                                    "Bookinfo": "The Immortals Boxed Set (The Immortals, #1-3)byAlyson Noelinunknownlanguage"
                                },
                                {
                                    "Bookinfo": "Black IcebyBecca Fitzpatrickinunknownlanguage"
                                },
                                {
                                    "Bookinfo": "The Imitation of ChristbyThomas à Kempis, William Benhaminunknownlanguage"
                                },
                                {
                                    "Bookinfo": "Night of the Living Dummy (Goosebumps, #7)byR.L. Stineinunknownlanguage"
                                },
                                {
                                    "Bookinfo": "Shards of a Broken Crown (The Serpentwar Saga, #4)byRaymond E. Feistinunknownlanguage"
                                },
                                {
                                    "Bookinfo": "The Jordan RulesbySam Smith, Doug Grudinunknownlanguage"
                                },
                                {
                                    "Bookinfo": "If You Want to Walk on Water, You've Got to Get Out of the BoatbyJohn Ortberginunknownlanguage"
                                },
                                {
                                    "Bookinfo": "Willpower: Rediscovering the Greatest Human StrengthbyRoy F. Baumeister, John Tierneyinunknownlanguage"
                                },
                                {
                                    "Bookinfo": "The Good SoldierbyFord Madox Ford, Kenneth Womack, William Bakerinunknownlanguage"
                                },
                                {
                                    "Bookinfo": "A Wedding in DecemberbyAnita Shreveinunknownlanguage"
                                },
                                {
                                    "Bookinfo": "Big Bang: The Origin of the UniversebySimon Singhinunknownlanguage"
                                },
                                {
                                    "Bookinfo": "You Can Win: A Step by Step Tool for Top AchieversbyShiv Kherainunknownlanguage"
                                },
                                {
                                    "Bookinfo": "On UglinessbyUmberto Ecoinunknownlanguage"
                                },
                                {
                                    "Bookinfo": "Shaman's Crossing (Soldier Son, #1)byRobin Hobbinunknownlanguage"
                                },
                                {
                                    "Bookinfo": "Figure Drawing for All It's Worth (How to draw and paint)byAndrew Loomisinunknownlanguage"
                                },
                                {
                                    "Bookinfo": "The Water is Wide: A MemoirbyPat Conroyinunknownlanguage"
                                },
                                {
                                    "Bookinfo": "A Separate RealitybyCarlos Castanedainunknownlanguage"
                                },
                                {
                                    "Bookinfo": "Tom's Midnight GardenbyPhilippa Pearce, Susan Einziginunknownlanguage"
                                },
                                {
                                    "Bookinfo": "Brothers Majere (Dragonlance: Preludes, #3)byKevin Steininunknownlanguage"
                                },
                                {
                                    "Bookinfo": "Why Nations Fail: The Origins of Power, Prosperity, and PovertybyDaron Acemoğlu, James A. Robinsoninunknownlanguage"
                                },
                                {
                                    "Bookinfo": "The Miracle of Mindfulness: An Introduction to the Practice of MeditationbyThich Nhat Hanhinunknownlanguage"
                                },
                                {
                                    "Bookinfo": "David Gets In TroublebyDavid Shannoninunknownlanguage"
                                },
                                {
                                    "Bookinfo": "Twelve Angry MenbyReginald Rose, David Mametinunknownlanguage"
                                },
                                {
                                    "Bookinfo": "BabbittbySinclair Lewisinunknownlanguage"
                                },
                                {
                                    "Bookinfo": "The Collected PoemsbyLangston Hughesinunknownlanguage"
                                },
                                {
                                    "Bookinfo": "Selected StoriesbyO. Henry, Victoria Blakeinunknownlanguage"
                                },
                                {
                                    "Bookinfo": "The Taste of Home CookbookbyJanet Briggs, Beth Wittlingerinunknownlanguage"
                                },
                                {
                                    "Bookinfo": "The Dogs of WarbyFrederick Forsythinunknownlanguage"
                                },
                                {
                                    "Bookinfo": "Necroscope (Necroscope, #1)byBrian Lumleyinunknownlanguage"
                                },
                                {
                                    "Bookinfo": "You Had Me At HellobyMhairi McFarlaneinunknownlanguage"
                                },
                                {
                                    "Bookinfo": "The Wheel of Time: Boxed Set #1 (Wheel of Time, #1-3)byRobert Jordaninunknownlanguage"
                                },
                                {
                                    "Bookinfo": "Something Like FatebySusane Colasantiinunknownlanguage"
                                },
                                {
                                    "Bookinfo": "Excalibur (The Warlord Chronicles, #3)byBernard Cornwellinunknownlanguage"
                                },
                                {
                                    "Bookinfo": "The Amber RoombySteve Berryinunknownlanguage"
                                },
                                {
                                    "Bookinfo": "The Comedy of ErrorsbyWilliam Shakespeareinunknownlanguage"
                                },
                                {
                                    "Bookinfo": "ZodiacbyRobert Graysmithinunknownlanguage"
                                },
                                {
                                    "Bookinfo": "The Constant GardenerbyJohn le Carréinunknownlanguage"
                                },
                                {
                                    "Bookinfo": "A Hidden Fire (Elemental Mysteries, #1)byElizabeth   Hunterinunknownlanguage"
                                },
                                {
                                    "Bookinfo": "Ultramarathon Man: Confessions of an All-Night RunnerbyDean Karnazesinunknownlanguage"
                                },
                                {
                                    "Bookinfo": "The Mixed-Up ChameleonbyEric Carleinunknownlanguage"
                                },
                                {
                                    "Bookinfo": "Burmese DaysbyGeorge Orwellinunknownlanguage"
                                },
                                {
                                    "Bookinfo": "Jealousy (Strange Angels, #3)byLili St. Crow, Lilith Saintcrowinunknownlanguage"
                                },
                                {
                                    "Bookinfo": "The Declaration of Independence and The Constitution of the United StatesbyFounding Fathersinunknownlanguage"
                                },
                                {
                                    "Bookinfo": "The River (Brian's Saga, #2)byGary Paulseninunknownlanguage"
                                },
                                {
                                    "Bookinfo": "Facing Your Giants: A David and Goliath Story for Everyday PeoplebyMax Lucadoinunknownlanguage"
                                },
                                {
                                    "Bookinfo": "Ina May's Guide to ChildbirthbyIna May Gaskininunknownlanguage"
                                },
                                {
                                    "Bookinfo": "Anne Frank : The BiographybyMelissa Müller, Rita Kimber, Robert Kimberinunknownlanguage"
                                },
                                {
                                    "Bookinfo": "A New Song (Mitford Years, #5)byJan Karoninunknownlanguage"
                                },
                                {
                                    "Bookinfo": "Strange HighwaysbyDean Koontzinunknownlanguage"
                                },
                                {
                                    "Bookinfo": "Care of the Soul: A Guide for Cultivating Depth and Sacredness in Everyday LifebyThomas  Mooreinunknownlanguage"
                                },
                                {
                                    "Bookinfo": "Brilliance of the Moon (Tales of the Otori, #3)byLian Hearninunknownlanguage"
                                },
                                {
                                    "Bookinfo": "Twenty Years After (The D'Artagnan Romances, #2)byAlexandre Dumas, David Coward, Auguste Maquetinunknownlanguage"
                                },
                                {
                                    "Bookinfo": "The Day Jimmy's Boa Ate the WashbyTrinka Hakes Noble, Steven Kellogginunknownlanguage"
                                },
                                {
                                    "Bookinfo": "Under the SkinbyMichel Faberinunknownlanguage"
                                },
                                {
                                    "Bookinfo": "The Bellmaker (Redwall, #7)byBrian Jacquesinunknownlanguage"
                                },
                                {
                                    "Bookinfo": "The CodexbyDouglas Prestoninunknownlanguage"
                                },
                                {
                                    "Bookinfo": "Standing for Something: 10 Neglected Virtues That Will Heal Our Hearts and HomesbyGordon B. Hinckleyinunknownlanguage"
                                },
                                {
                                    "Bookinfo": "Leading ChangebyJohn P. Kotterinunknownlanguage"
                                },
                                {
                                    "Bookinfo": "Damaged: The Heartbreaking True Story of a Forgotten ChildbyCathy Glassinunknownlanguage"
                                },
                                {
                                    "Bookinfo": "A Man in FullbyTom Wolfeinunknownlanguage"
                                },
                                {
                                    "Bookinfo": "The Declaration (The Declaration, #1)byGemma Malleyinunknownlanguage"
                                },
                                {
                                    "Bookinfo": "Leven Thumps and the Gateway to Foo (Leven Thumps, #1)byObert Skyeinunknownlanguage"
                                },
                                {
                                    "Bookinfo": "Runaway Ralph (Ralph S. Mouse, #2)byBeverly Clearyinunknownlanguage"
                                },
                                {
                                    "Bookinfo": "BlinkbyTed Dekkerinunknownlanguage"
                                },
                                {
                                    "Bookinfo": "The Smitten Kitchen CookbookbyDeb Perelmaninunknownlanguage"
                                },
                                {
                                    "Bookinfo": "Honor Among ThievesbyJeffrey Archerinunknownlanguage"
                                },
                                {
                                    "Bookinfo": "Don't Die, My LovebyLurlene McDanielinunknownlanguage"
                                },
                                {
                                    "Bookinfo": "The Defining Decade: Why Your Twenties Matter--And How to Make the Most of Them NowbyMeg Jayinunknownlanguage"
                                },
                                {
                                    "Bookinfo": "Curious George Rides a BikebyH.A. Reyinunknownlanguage"
                                },
                                {
                                    "Bookinfo": "Preacher, Volume 7: SalvationbyGarth Ennis, Steve Dilloninunknownlanguage"
                                },
                                {
                                    "Bookinfo": "How Will You Measure Your Life?byClayton M. Christensen, James Allworth, Karen Dilloninunknownlanguage"
                                },
                                {
                                    "Bookinfo": "Why We Suck: A Feel Good Guide to Staying Fat, Loud, Lazy and StupidbyDenis Learyinunknownlanguage"
                                },
                                {
                                    "Bookinfo": "Forever with You (Fixed, #3)byLaurelin Paigeinunknownlanguage"
                                },
                                {
                                    "Bookinfo": "Sons of Destiny (Cirque Du Freak, #12)byDarren Shaninunknownlanguage"
                                },
                                {
                                    "Bookinfo": "A Death in SwedenbyKevin Wignallinunknownlanguage"
                                },
                                {
                                    "Bookinfo": "The Lives of Christopher Chant (Chrestomanci, #2)byDiana Wynne Jonesinunknownlanguage"
                                },
                                {
                                    "Bookinfo": "The Abstinence TeacherbyTom Perrottainunknownlanguage"
                                },
                                {
                                    "Bookinfo": "MarianabySusanna Kearsleyinunknownlanguage"
                                },
                                {
                                    "Bookinfo": "The Pecan ManbyCassie Dandridge Selleckinunknownlanguage"
                                },
                                {
                                    "Bookinfo": "Life Together: The Classic Exploration of Christian CommunitybyDietrich Bonhoefferinunknownlanguage"
                                },
                                {
                                    "Bookinfo": "Cold Vengeance (Pendergast, #11)byDouglas Preston, Lincoln Childinunknownlanguage"
                                },
                                {
                                    "Bookinfo": "Let's Pretend This Never Happened (Dear Dumb Diary #1)byJim Bentoninunknownlanguage"
                                },
                                {
                                    "Bookinfo": "The Adventures of Augie MarchbySaul Bellow, Christopher Hitchensinunknownlanguage"
                                },
                                {
                                    "Bookinfo": "The Google Story: Inside the Hottest Business, Media, and Technology Success of Our TimebyDavid A. Viseinunknownlanguage"
                                },
                                {
                                    "Bookinfo": "Pillar of Light (The Work and the Glory, #1)byGerald N. Lundinunknownlanguage"
                                },
                                {
                                    "Bookinfo": "Elixir (Covenant, #3.5)byJennifer L. Armentroutinunknownlanguage"
                                },
                                {
                                    "Bookinfo": "The OvercoatbyNikolai Gogolinunknownlanguage"
                                },
                                {
                                    "Bookinfo": "Finally (Willow Falls, #2)byWendy Massinunknownlanguage"
                                },
                                {
                                    "Bookinfo": "Gathering Prey (Lucas Davenport, #25)byJohn Sandfordinunknownlanguage"
                                },
                                {
                                    "Bookinfo": "Fresh Wind, Fresh Fire: What Happens When God's Spirit Invades the Heart of His PeoplebyJim Cymbala, Dean Merrillinunknownlanguage"
                                },
                                {
                                    "Bookinfo": "Last Chance to SeebyDouglas Adams, Mark Carwardineinunknownlanguage"
                                },
                                {
                                    "Bookinfo": "Making Ideas Happen: Overcoming the Obstacles Between Vision and RealitybyScott Belskyinunknownlanguage"
                                },
                                {
                                    "Bookinfo": "I Suck at GirlsbyJustin Halperninunknownlanguage"
                                },
                                {
                                    "Bookinfo": "Dear Zoo: A Lift-the-Flap BookbyRod Campbellinunknownlanguage"
                                },
                                {
                                    "Bookinfo": "The Wounded Land (The Second Chronicles of Thomas Covenant, #1)byStephen R. Donaldsoninunknownlanguage"
                                },
                                {
                                    "Bookinfo": "Darkness Visible: A Memoir of MadnessbyWilliam Styroninunknownlanguage"
                                },
                                {
                                    "Bookinfo": "In the Shadow of the BanyanbyVaddey Ratnerinunknownlanguage"
                                },
                                {
                                    "Bookinfo": "Two Graves (Pendergast, #12)byDouglas Preston, Lincoln Childinunknownlanguage"
                                },
                                {
                                    "Bookinfo": "Arch of Triumph: A Novel of a Man Without a CountrybyErich Maria Remarqueinunknownlanguage"
                                },
                                {
                                    "Bookinfo": "Cross Bones (Temperance Brennan, #8)byKathy Reichsinunknownlanguage"
                                },
                                {
                                    "Bookinfo": "Rikki-Tikki-TavibyRudyard Kipling, Jerry Pinkneyinunknownlanguage"
                                },
                                {
                                    "Bookinfo": "Miracle in the AndesbyNando Parrado, Vince Rauseinunknownlanguage"
                                },
                                {
                                    "Bookinfo": "Up CountrybyNelson DeMilleinunknownlanguage"
                                },
                                {
                                    "Bookinfo": "JamberrybyBruce Degeninunknownlanguage"
                                },
                                {
                                    "Bookinfo": "The Little Red Caboose (Little Golden Book)byMarian Potterinunknownlanguage"
                                },
                                {
                                    "Bookinfo": "MasterybyRobert Greeneinunknownlanguage"
                                },
                                {
                                    "Bookinfo": "The LittlesbyJohn Lawrence Peterson, Roberta Carter Clarkinunknownlanguage"
                                },
                                {
                                    "Bookinfo": "In Harm's Way: The Sinking of the U.S.S. Indianapolis and the Extraordinary Story of Its SurvivorsbyDoug Stantoninunknownlanguage"
                                },
                                {
                                    "Bookinfo": "The Siren (The Original Sinners, #1)byTiffany Reiszinunknownlanguage"
                                },
                                {
                                    "Bookinfo": "HeftbyLiz Mooreinunknownlanguage"
                                },
                                {
                                    "Bookinfo": "Giada's Family DinnersbyGiada De Laurentiis, Victoria Pearsoninunknownlanguage"
                                },
                                {
                                    "Bookinfo": "DoubtbyJohn Patrick Shanleyinunknownlanguage"
                                },
                                {
                                    "Bookinfo": "Secrets of a Shoe Addict (Shoe Addict, #2)byBeth Harbisoninunknownlanguage"
                                },
                                {
                                    "Bookinfo": "The Naked God (Night's Dawn, #3)byPeter F. Hamiltoninunknownlanguage"
                                },
                                {
                                    "Bookinfo": "Come Back, Amelia BedeliabyPeggy Parish, Wallace Trippinunknownlanguage"
                                },
                                {
                                    "Bookinfo": "Getting Over ItbyAnna Maxtedinunknownlanguage"
                                },
                                {
                                    "Bookinfo": "The Happiness Advantage: The Seven Principles of Positive Psychology That Fuel Success and Performance at WorkbyShawn Achorinunknownlanguage"
                                },
                                {
                                    "Bookinfo": "The Princess and the PeabyJanet Stevens, Hans Christian Anderseninunknownlanguage"
                                },
                                {
                                    "Bookinfo": "BingebyTyler Oakleyinunknownlanguage"
                                },
                                {
                                    "Bookinfo": "Lucky UsbyAmy Bloominunknownlanguage"
                                },
                                {
                                    "Bookinfo": "Sickened: The Memoir of a Munchausen by Proxy ChildhoodbyJulie Gregoryinunknownlanguage"
                                },
                                {
                                    "Bookinfo": "The Last Time They MetbyAnita Shreveinunknownlanguage"
                                },
                                {
                                    "Bookinfo": "Eleventh Grade Burns (The Chronicles of Vladimir Tod, #4)byHeather Brewerinunknownlanguage"
                                },
                                {
                                    "Bookinfo": "The Long Patrol (Redwall, #10)byBrian Jacques, Allan Curlessinunknownlanguage"
                                },
                                {
                                    "Bookinfo": "The Truth Seeker (O'Malley #3)byDee Hendersoninunknownlanguage"
                                },
                                {
                                    "Bookinfo": "The Winter Rose (The Tea Rose, #2)byJennifer Donnellyinunknownlanguage"
                                },
                                {
                                    "Bookinfo": "Oscar et la dame rosebyÉric-Emmanuel Schmittinunknownlanguage"
                                },
                                {
                                    "Bookinfo": "When Bad Things Happen to Good PeoplebyHarold S. Kushnerinunknownlanguage"
                                },
                                {
                                    "Bookinfo": "The Art of Simple Food: Notes, Lessons, and Recipes from a Delicious RevolutionbyAlice Watersinunknownlanguage"
                                },
                                {
                                    "Bookinfo": "Centaur Aisle (Xanth, #4)byPiers Anthonyinunknownlanguage"
                                },
                                {
                                    "Bookinfo": "The Year of FogbyMichelle Richmondinunknownlanguage"
                                },
                                {
                                    "Bookinfo": "Our Band Could Be Your Life: Scenes from the American Indie Underground 1981-1991byMichael Azerradinunknownlanguage"
                                },
                                {
                                    "Bookinfo": "Competitive Strategy: Techniques for Analyzing Industries and CompetitorsbyMichael E. Porterinunknownlanguage"
                                },
                                {
                                    "Bookinfo": "Systematic Theology: An Introduction to Biblical DoctrinebyWayne A. Grudeminunknownlanguage"
                                },
                                {
                                    "Bookinfo": "P is for Peril (Kinsey Millhone, #16)bySue Graftoninunknownlanguage"
                                },
                                {
                                    "Bookinfo": "Empire of Ivory (Temeraire, #4)byNaomi Novikinunknownlanguage"
                                },
                                {
                                    "Bookinfo": "Daddy's Little GirlbyMary Higgins Clarkinunknownlanguage"
                                },
                                {
                                    "Bookinfo": "Presentation Zen: Simple Ideas on Presentation Design and DeliverybyGarr Reynoldsinunknownlanguage"
                                },
                                {
                                    "Bookinfo": "Goodbye, Columbus and Five Short StoriesbyPhilip Rothinunknownlanguage"
                                },
                                {
                                    "Bookinfo": "The Personal MBA: Master the Art of BusinessbyJosh Kaufmaninunknownlanguage"
                                },
                                {
                                    "Bookinfo": "TexasbyJames A. Michenerinunknownlanguage"
                                },
                                {
                                    "Bookinfo": "Your Best Life Now: 7 Steps to Living at Your Full PotentialbyJoel Osteeninunknownlanguage"
                                },
                                {
                                    "Bookinfo": "Choosing to SEEbyMary Beth Chapman, Steven Curtis Chapmaninunknownlanguage"
                                },
                                {
                                    "Bookinfo": "QED: The Strange Theory of Light and MatterbyRichard Feynmaninunknownlanguage"
                                },
                                {
                                    "Bookinfo": "Defiance (Strange Angels, #4)byLili St. Crow, Lilith Saintcrowinunknownlanguage"
                                },
                                {
                                    "Bookinfo": "The Madonnas of LeningradbyDebra Deaninunknownlanguage"
                                },
                                {
                                    "Bookinfo": "The Short Victorious War (Honor Harrington, #3)byDavid Weberinunknownlanguage"
                                },
                                {
                                    "Bookinfo": "Drinking: A Love StorybyCaroline Knappinunknownlanguage"
                                },
                                {
                                    "Bookinfo": "Five Weeks in a Balloon (Extraordinary Voyages, #1)byJules Verneinunknownlanguage"
                                },
                                {
                                    "Bookinfo": "Best Friends for Never (The Clique, #2)byLisi Harrisoninunknownlanguage"
                                },
                                {
                                    "Bookinfo": "Virgin River (Virgin River, #1)byRobyn Carrinunknownlanguage"
                                },
                                {
                                    "Bookinfo": "The Whistling SeasonbyIvan Doiginunknownlanguage"
                                },
                                {
                                    "Bookinfo": "Ralph S. Mouse by Beverly Cleary: Teacher Guide (Novel Units)byGloria Levineinunknownlanguage"
                                },
                                {
                                    "Bookinfo": "Shakespeare's Romeo and JulietbyMichael Rosen, Jane Rayinunknownlanguage"
                                },
                                {
                                    "Bookinfo": "The Killer Inside MebyJim Thompsoninunknownlanguage"
                                },
                                {
                                    "Bookinfo": "The WeekendersbyMary Kay Andrewsinunknownlanguage"
                                },
                                {
                                    "Bookinfo": "The Secret AgentbyJoseph Conradinunknownlanguage"
                                },
                                {
                                    "Bookinfo": "The Wolf and the DovebyKathleen E. Woodiwissinunknownlanguage"
                                },
                                {
                                    "Bookinfo": "Finding NemobyAndrew Stanton, Walt Disney Companyinunknownlanguage"
                                },
                                {
                                    "Bookinfo": "Calling Doctor Amelia BedeliabyHerman Parish, Lynn Sweatinunknownlanguage"
                                },
                                {
                                    "Bookinfo": "These High, Green Hills (Mitford Years, #3)byJan Karoninunknownlanguage"
                                },
                                {
                                    "Bookinfo": "Millions of CatsbyWanda Gáginunknownlanguage"
                                },
                                {
                                    "Bookinfo": "Dark Challenge (Dark, #5)byChristine Feehaninunknownlanguage"
                                },
                                {
                                    "Bookinfo": "MistressbyJames Patterson, David Ellisinunknownlanguage"
                                },
                                {
                                    "Bookinfo": "All Families are PsychoticbyDouglas Couplandinunknownlanguage"
                                },
                                {
                                    "Bookinfo": "Party Princess (The Princess Diaries, #7)byMeg Cabotinunknownlanguage"
                                },
                                {
                                    "Bookinfo": "Mornings in JeninbySusan Abulhawainunknownlanguage"
                                },
                                {
                                    "Bookinfo": "The NannybyMelissa Nathaninunknownlanguage"
                                },
                                {
                                    "Bookinfo": "Ex-Heroes (Ex-Heroes, #1)byPeter Clinesinunknownlanguage"
                                },
                                {
                                    "Bookinfo": "The Many Lives & Secret Sorrows of Josephine B. (Josephine Bonaparte, #1)bySandra Gullandinunknownlanguage"
                                },
                                {
                                    "Bookinfo": "Come HomebyLisa Scottolineinunknownlanguage"
                                },
                                {
                                    "Bookinfo": "The Dirty Girls Social Club (Dirty Girls, #1)byAlisa Valdes, Alisa Valdes-Rodriguezinunknownlanguage"
                                },
                                {
                                    "Bookinfo": "The Fire (Witch & Wizard, #3)byJames Patterson, Jill Dembowski, Elijah Wood, Spencer Lockeinunknownlanguage"
                                },
                                {
                                    "Bookinfo": "A Killing Frost (Tomorrow, #3)byJohn Marsdeninunknownlanguage"
                                },
                                {
                                    "Bookinfo": "Sadako and the Thousand Paper CranesbyEleanor Coerr, Ronald Himlerinunknownlanguage"
                                },
                                {
                                    "Bookinfo": "The Walking Dead, Vol. 11: Fear the HuntersbyRobert Kirkman, Charlie Adlard, Cliff Rathburninunknownlanguage"
                                },
                                {
                                    "Bookinfo": "Night Mare (Xanth, #6)byPiers Anthonyinunknownlanguage"
                                },
                                {
                                    "Bookinfo": "RiptidebyDouglas Preston, Lincoln Childinunknownlanguage"
                                },
                                {
                                    "Bookinfo": "King Arthur and His Knights: Selected TalesbyThomas Malory, Eugène Vinaverinunknownlanguage"
                                },
                                {
                                    "Bookinfo": "The Hidden Messages in WaterbyMasaru Emoto, David A. Thayneinunknownlanguage"
                                },
                                {
                                    "Bookinfo": "Rumble FishbyS.E. Hintoninunknownlanguage"
                                },
                                {
                                    "Bookinfo": "The Holiness of GodbyR.C. Sproulinunknownlanguage"
                                },
                                {
                                    "Bookinfo": "Wemberly WorriedbyKevin Henkesinunknownlanguage"
                                },
                                {
                                    "Bookinfo": "What Remains: A Memoir of Fate, Friendship, and LovebyCarole Radziwillinunknownlanguage"
                                },
                                {
                                    "Bookinfo": "The Kreutzer SonatabyLeo Tolstoy, Isai Kamen, Doris Lessinginunknownlanguage"
                                },
                                {
                                    "Bookinfo": "The 20th Century Art BookbyPhaidon Pressinunknownlanguage"
                                },
                                {
                                    "Bookinfo": "Summer SecretsbyJane Greeninunknownlanguage"
                                },
                                {
                                    "Bookinfo": "The Acid HousebyIrvine Welshinunknownlanguage"
                                },
                                {
                                    "Bookinfo": "Permission Marketing: Turning Strangers Into Friends And Friends Into CustomersbySeth Godininunknownlanguage"
                                },
                                {
                                    "Bookinfo": "Hateship, Friendship, Courtship, Loveship, Marriage: StoriesbyAlice Munroinunknownlanguage"
                                },
                                {
                                    "Bookinfo": "Storm of the Century: An Original ScreenplaybyStephen Kinginunknownlanguage"
                                },
                                {
                                    "Bookinfo": "The America's Test Kitchen Family CookbookbyAmerica's Test Kitchen, Carl Tremblay, Daniel J. Van Ackereinunknownlanguage"
                                },
                                {
                                    "Bookinfo": "Vampire Academy: The Graphic Novel (Vampire Academy: The Graphic Novel, #1)byRichelle Mead, Emma Vieceli, Leigh Dragooninunknownlanguage"
                                },
                                {
                                    "Bookinfo": "Dexter Is Delicious (Dexter, #5)byJeff Lindsayinunknownlanguage"
                                },
                                {
                                    "Bookinfo": "The Akhenaten Adventure (Children of the Lamp, #1)byP.B. Kerrinunknownlanguage"
                                },
                                {
                                    "Bookinfo": "Sleepwalk With Me and Other Painfully True StoriesbyMike Birbigliainunknownlanguage"
                                },
                                {
                                    "Bookinfo": "Distant ShoresbyKristin Hannahinunknownlanguage"
                                },
                                {
                                    "Bookinfo": "An Essay Concerning Human UnderstandingbyJohn Lockeinunknownlanguage"
                                },
                                {
                                    "Bookinfo": "The Five Love Languages of ChildrenbyGary Chapman, D. Ross Campbellinunknownlanguage"
                                },
                                {
                                    "Bookinfo": "Washington SquarebyHenry James, Michael Cunninghaminunknownlanguage"
                                },
                                {
                                    "Bookinfo": "On Becoming a Person: A Therapist's View of PsychotherapybyCarl R. Rogers, Peter D. Kramerinunknownlanguage"
                                },
                                {
                                    "Bookinfo": "NYPD Red 3 (NYPD Red, #3)byJames Patterson, Marshall Karpinunknownlanguage"
                                },
                                {
                                    "Bookinfo": "Psycho-Cybernetics, A New Way to Get More Living Out of LifebyMaxwell Maltzinunknownlanguage"
                                },
                                {
                                    "Bookinfo": "HomebyToni Morrisoninunknownlanguage"
                                },
                                {
                                    "Bookinfo": "Anne Frank's Tales from the Secret AnnexbyAnne Frank, Susan Massottyinunknownlanguage"
                                },
                                {
                                    "Bookinfo": "The Cradle Will FallbyMary Higgins Clarkinunknownlanguage"
                                },
                                {
                                    "Bookinfo": "The Gift of Therapy: An Open Letter to a New Generation of Therapists and Their PatientsbyIrvin D. Yalom, Nicola Fergusoninunknownlanguage"
                                },
                                {
                                    "Bookinfo": "City of WomenbyDavid R. Gillhaminunknownlanguage"
                                },
                                {
                                    "Bookinfo": "Take the CannolibySarah Vowellinunknownlanguage"
                                },
                                {
                                    "Bookinfo": "To Sell Is Human: The Surprising Truth About Moving OthersbyDaniel H. Pinkinunknownlanguage"
                                },
                                {
                                    "Bookinfo": "The Frog and Toad Treasury: Frog and Toad are Friends/Frog and Toad Together/Frog and Toad All Year  (Frog and Toad #1-3)byArnold Lobelinunknownlanguage"
                                },
                                {
                                    "Bookinfo": "The Smartest Guys in the Room: The Amazing Rise and Scandalous Fall of EnronbyBethany McLean, Peter Elkindinunknownlanguage"
                                },
                                {
                                    "Bookinfo": "Mount DragonbyDouglas Preston, Lincoln Childinunknownlanguage"
                                },
                                {
                                    "Bookinfo": "JournalsbyKurt Cobaininunknownlanguage"
                                },
                                {
                                    "Bookinfo": "Possessing the Secret of JoybyAlice Walkerinunknownlanguage"
                                },
                                {
                                    "Bookinfo": "Naked Economics: Undressing the Dismal SciencebyCharles Wheelaninunknownlanguage"
                                },
                                {
                                    "Bookinfo": "Magic Steps (The Circle Opens, #1)byTamora Pierceinunknownlanguage"
                                },
                                {
                                    "Bookinfo": "Dark Rivers of the HeartbyDean Koontzinunknownlanguage"
                                },
                                {
                                    "Bookinfo": "The Moon and SixpencebyW. Somerset Maughaminunknownlanguage"
                                },
                                {
                                    "Bookinfo": "Queen Song (Red Queen, #0.1)byVictoria Aveyardinunknownlanguage"
                                },
                                {
                                    "Bookinfo": "Falling into PlacebyAmy Zhanginunknownlanguage"
                                },
                                {
                                    "Bookinfo": "The Dry Grass of AugustbyAnna Jean Mayhewinunknownlanguage"
                                },
                                {
                                    "Bookinfo": "Life and Times of Michael KbyJ.M. Coetzeeinunknownlanguage"
                                },
                                {
                                    "Bookinfo": "Jamie at Home: Cook Your Way to the Good LifebyJamie Oliverinunknownlanguage"
                                },
                                {
                                    "Bookinfo": "Fearless (The Lost Fleet, #2)byJack Campbellinunknownlanguage"
                                },
                                {
                                    "Bookinfo": "F*ck LovebyTarryn Fisherinunknownlanguage"
                                },
                                {
                                    "Bookinfo": "Sacred (Kenzie & Gennaro, #3)byDennis Lehaneinunknownlanguage"
                                },
                                {
                                    "Bookinfo": "Punk 57byPenelope Douglasinunknownlanguage"
                                },
                                {
                                    "Bookinfo": "Pygmalion & My Fair LadybyGeorge Bernard Shaw, Alan Jay Lernerinunknownlanguage"
                                },
                                {
                                    "Bookinfo": "OnebyRichard Bachinunknownlanguage"
                                },
                                {
                                    "Bookinfo": "WantedbyMark Millar, J.G. Jones, Brian K. Vaughaninunknownlanguage"
                                },
                                {
                                    "Bookinfo": "Outer DarkbyCormac McCarthyinunknownlanguage"
                                },
                                {
                                    "Bookinfo": "In Search of Excellence: Lessons from America's Best-Run CompaniesbyTom Peters, Robert H. Waterman Jr.inunknownlanguage"
                                },
                                {
                                    "Bookinfo": "First LovebyJames Patterson, Emily Raymondinunknownlanguage"
                                },
                                {
                                    "Bookinfo": "Fearless: The Heroic Story of One Navy SEAL's Sacrifice in the Hunt for Osama Bin Laden and the Unwavering Devotion of the Woman Who Loved HimbyEric Blehminunknownlanguage"
                                },
                                {
                                    "Bookinfo": "The Uglies Trilogy (Uglies, #1-3)byScott Westerfeldinunknownlanguage"
                                },
                                {
                                    "Bookinfo": "Away Laughing on a Fast Camel (Confessions of Georgia Nicolson, #5)byLouise Rennisoninunknownlanguage"
                                },
                                {
                                    "Bookinfo": "Selected PoemsbyWilliam Carlos Williams, Charles Tomlinsoninunknownlanguage"
                                },
                                {
                                    "Bookinfo": "Princess on the Brink (The Princess Diaries, #8)byMeg Cabotinunknownlanguage"
                                },
                                {
                                    "Bookinfo": "Killing Pablo: The Hunt for the World's Greatest OutlawbyMark Bowdeninunknownlanguage"
                                },
                                {
                                    "Bookinfo": "How Soccer Explains the WorldbyFranklin Foerinunknownlanguage"
                                },
                                {
                                    "Bookinfo": "The Fannie Farmer Cookbook: AnniversarybyMarion Cunningham, Fannie Merritt Farmer, Archibald Candy Corporationinunknownlanguage"
                                },
                                {
                                    "Bookinfo": "Graffiti World: Street Art from Five ContinentsbyNicholas Ganz, Tristan Mancoinunknownlanguage"
                                },
                                {
                                    "Bookinfo": "The Complete Guide to Middle-EarthbyRobert Foster, J.R.R. Tolkieninunknownlanguage"
                                },
                                {
                                    "Bookinfo": "Say You're One of ThembyUwem Akpaninunknownlanguage"
                                },
                                {
                                    "Bookinfo": "The Devil's AlternativebyFrederick Forsythinunknownlanguage"
                                },
                                {
                                    "Bookinfo": "Magic and Other Misdemeanors (The Sisters Grimm, #5)byMichael Buckley, Peter Fergusoninunknownlanguage"
                                },
                                {
                                    "Bookinfo": "Sincerely, Carter (Sincerely Carter, #1)byWhitney G.inunknownlanguage"
                                },
                                {
                                    "Bookinfo": "How Music WorksbyDavid Byrneinunknownlanguage"
                                },
                                {
                                    "Bookinfo": "The Talent Code: Unlocking the Secret of Skill in Sports, Art, Music, Math, and Just About Everything ElsebyDaniel Coyle, John Farrellinunknownlanguage"
                                },
                                {
                                    "Bookinfo": "Star Island (Skink, #6)byCarl Hiaaseninunknownlanguage"
                                },
                                {
                                    "Bookinfo": "Big Nate on a Roll (Big Nate Novels, #3)byLincoln Peirceinunknownlanguage"
                                },
                                {
                                    "Bookinfo": "Deep and Dark and Dangerous (A Ghost Story)byMary Downing Hahninunknownlanguage"
                                },
                                {
                                    "Bookinfo": "Legally BlondebyAmanda Browninunknownlanguage"
                                },
                                {
                                    "Bookinfo": "Archangel's Blade (Guild Hunter, #4)byNalini Singhinunknownlanguage"
                                },
                                {
                                    "Bookinfo": "How to Talk to a WidowerbyJonathan Tropperinunknownlanguage"
                                },
                                {
                                    "Bookinfo": "BreathbyTim Wintoninunknownlanguage"
                                },
                                {
                                    "Bookinfo": "Noises OffbyMichael Frayninunknownlanguage"
                                },
                                {
                                    "Bookinfo": "CourageousbyRandy Alcorn, Alex Kendrick, Stephen Kendrickinunknownlanguage"
                                },
                                {
                                    "Bookinfo": "Basket CasebyCarl Hiaaseninunknownlanguage"
                                },
                                {
                                    "Bookinfo": "Praying God's Word: Breaking Free From Spiritual StrongholdsbyBeth Mooreinunknownlanguage"
                                },
                                {
                                    "Bookinfo": "In the Skin of a LionbyMichael Ondaatjeinunknownlanguage"
                                },
                                {
                                    "Bookinfo": "BlessingsbyAnna Quindleninunknownlanguage"
                                },
                                {
                                    "Bookinfo": "Food Matters: A Guide to Conscious Eating with More Than 75 RecipesbyMark Bittmaninunknownlanguage"
                                },
                                {
                                    "Bookinfo": "MetaphysicsbyAristotle, Joe Sachsinunknownlanguage"
                                },
                                {
                                    "Bookinfo": "The Worst Witch (Worst Witch, #1)byJill Murphyinunknownlanguage"
                                },
                                {
                                    "Bookinfo": "Dragonheart (Pern, #21)byTodd J. McCaffreyinunknownlanguage"
                                },
                                {
                                    "Bookinfo": "Pearls of Lutra (Redwall, #9)byBrian Jacquesinunknownlanguage"
                                },
                                {
                                    "Bookinfo": "The Residence: Inside the Private World of the White HousebyKate Andersen Browerinunknownlanguage"
                                },
                                {
                                    "Bookinfo": "Eden (Providence, #3)byJamie McGuireinunknownlanguage"
                                },
                                {
                                    "Bookinfo": "Financial Peace RevisitedbyDave Ramseyinunknownlanguage"
                                },
                                {
                                    "Bookinfo": "Wreck This JournalbyKeri Smithinunknownlanguage"
                                },
                                {
                                    "Bookinfo": "Seven Years in TibetbyHeinrich Harrerinunknownlanguage"
                                },
                                {
                                    "Bookinfo": "The Renegades of Pern (Pern, #10)byAnne McCaffreyinunknownlanguage"
                                },
                                {
                                    "Bookinfo": "The Cake BiblebyRose Levy Beranbaum, Maria Guarnaschelli, Vincent Lee, Manuela Paul, Dean G. Bornsteininunknownlanguage"
                                },
                                {
                                    "Bookinfo": "Almost French: Love and a New Life in ParisbySarah Turnbullinunknownlanguage"
                                },
                                {
                                    "Bookinfo": "Pandora / Vittorio the Vampire (New Tales of the Vampires)byAnne Riceinunknownlanguage"
                                },
                                {
                                    "Bookinfo": "A Fraction of the WholebySteve Toltzinunknownlanguage"
                                },
                                {
                                    "Bookinfo": "What the Bleep Do We Know!?: Discovering the Endless Possibilities for Altering Your Everyday RealitybyWilliam Arntz, Betsy Chasse, Mark Vicenteinunknownlanguage"
                                },
                                {
                                    "Bookinfo": "What the Bleep Do We Know!?: Discovering th�"
                                },
                                {
                                    "Bookinfo": "Essentials of Classic Italian CookingbyMarcella Hazan, Karin Kretschmanninunknownlanguage"
                                },
                                {
                                    "Bookinfo": "Kiss of Frost (Mythos Academy, #2)byJennifer Estepinunknownlanguage"
                                },
                                {
                                    "Bookinfo": "If Chins Could Kill: Confessions of a B-Movie ActorbyBruce Campbellinunknownlanguage"
                                },
                                {
                                    "Bookinfo": "The Art of Thinking ClearlybyRolf Dobelliinunknownlanguage"
                                },
                                {
                                    "Bookinfo": "Edvard Munch: 1863-1944 (Basic Art)byUlrich Bischoffinunknownlanguage"
                                },
                                {
                                    "Bookinfo": "Revenge of the Wannabes (The Clique, #3)byLisi Harrisoninunknownlanguage"
                                },
                                {
                                    "Bookinfo": "On the Genealogy of MoralsbyFriedrich Nietzsche, Douglas Smithinunknownlanguage"
                                },
                                {
                                    "Bookinfo": "Happy Accidents: A MemoirbyJane Lynch, Lisa Dickeyinunknownlanguage"
                                },
                                {
                                    "Bookinfo": "The Wives of Henry VIIIbyAntonia Fraserinunknownlanguage"
                                },
                                {
                                    "Bookinfo": "Every Thing on ItbyShel Silversteininunknownlanguage"
                                },
                                {
                                    "Bookinfo": "Nash (Marked Men, #4)byJay Crownoverinunknownlanguage"
                                },
                                {
                                    "Bookinfo": "Billions & Billions: Thoughts on Life and Death at the Brink of the MillenniumbyCarl Sagan, Ann Druyaninunknownlanguage"
                                },
                                {
                                    "Bookinfo": "Lemony Snicket: The Unauthorized Autobiography (A Series of Unfortunate Events companion)byLemony Snicketinunknownlanguage"
                                },
                                {
                                    "Bookinfo": "I Love You Through and ThroughbyBernadette Rossetti-Shustak, Caroline Jayne Churchinunknownlanguage"
                                },
                                {
                                    "Bookinfo": "Bella TuscanybyFrances Mayesinunknownlanguage"
                                },
                                {
                                    "Bookinfo": "Empire of the Sun (Empire of the Sun, #1)byJ.G. Ballardinunknownlanguage"
                                },
                                {
                                    "Bookinfo": "The Country Mouse and the City Mouse; The Fox and the Crow; The Dog and His BonebyPatricia M. Scarry, Richard Scarryinunknownlanguage"
                                },
                                {
                                    "Bookinfo": "If You Give a Cat a CupcakebyLaura Joffe Numeroff, Felicia Bondinunknownlanguage"
                                },
                                {
                                    "Bookinfo": "Infamous (Chronicles of Nick, #3)bySherrilyn Kenyoninunknownlanguage"
                                },
                                {
                                    "Bookinfo": "The Island of the Day BeforebyUmberto Ecoinunknownlanguage"
                                },
                                {
                                    "Bookinfo": "A Charlie Brown ChristmasbyCharles M. Schulzinunknownlanguage"
                                },
                                {
                                    "Bookinfo": "Sin City: Una Dura Despedida, #1 de 3byFrank Millerinunknownlanguage"
                                },
                                {
                                    "Bookinfo": "Storm Prey (Lucas Davenport, #20)byJohn Sandfordinunknownlanguage"
                                },
                                {
                                    "Bookinfo": "The Case for a Creator: A Journalist Investigates Scientific Evidence That Points Toward GodbyLee Strobelinunknownlanguage"
                                },
                                {
                                    "Bookinfo": "Invasion of the Boy Snatchers (The Clique, #4)byLisi Harrisoninunknownlanguage"
                                },
                                {
                                    "Bookinfo": "Good Wives (Little Women, #1.5)byLouisa May Alcottinunknownlanguage"
                                },
                                {
                                    "Bookinfo": "Little Bear's FriendbyElse Holmelund Minarik, Maurice Sendakinunknownlanguage"
                                },
                                {
                                    "Bookinfo": "Evil Star (The Gatekeepers, #2)byAnthony Horowitzinunknownlanguage"
                                },
                                {
                                    "Bookinfo": "Nantucket NightsbyElin Hilderbrandinunknownlanguage"
                                },
                                {
                                    "Bookinfo": "Ogre, Ogre (Xanth #5)byPiers Anthonyinunknownlanguage"
                                },
                                {
                                    "Bookinfo": "The Annotated Sherlock Holmes: The Four Novels and the Fifty-Six Short Stories Complete (2 Volume Set)byArthur Conan Doyle, William S. Baring-Gouldinunknownlanguage"
                                },
                                {
                                    "Bookinfo": "There's a Nightmare in My ClosetbyMercer Mayerinunknownlanguage"
                                },
                                {
                                    "Bookinfo": "Breaking Free: Discover the Victory of Total SurrenderbyBeth Mooreinunknownlanguage"
                                },
                                {
                                    "Bookinfo": "The Hidden Child (Patrik Hedström, #5)byCamilla Läckberg, Tiina Nunnallyinunknownlanguage"
                                },
                                {
                                    "Bookinfo": "Waiting to Exhale (Waiting To Exhale #1)byTerry McMillaninunknownlanguage"
                                },
                                {
                                    "Bookinfo": "Strange PilgrimsbyGabriel García Márquezinunknownlanguage"
                                },
                                {
                                    "Bookinfo": "Call for the DeadbyJohn le Carréinunknownlanguage"
                                },
                                {
                                    "Bookinfo": "Marlfox (Redwall, #11)byBrian Jacquesinunknownlanguage"
                                },
                                {
                                    "Bookinfo": "Getting Stoned with Savages: A Trip Through the Islands of Fiji and VanuatubyJ. Maarten Troostinunknownlanguage"
                                },
                                {
                                    "Bookinfo": "A Total Waste of Makeup (Charlize Edwards, #1)byKim Gruenenfelderinunknownlanguage"
                                },
                                {
                                    "Bookinfo": "Once (Once, #1)byMorris Gleitzmaninunknownlanguage"
                                },
                                {
                                    "Bookinfo": "Because I'm Worth It (Gossip Girl, #4)byCecily von Ziegesarinunknownlanguage"
                                },
                                {
                                    "Bookinfo": "Deadline (Virgil Flowers, #8)byJohn Sandfordinunknownlanguage"
                                },
                                {
                                    "Bookinfo": "AfterwardsbyRosamund Luptoninunknownlanguage"
                                },
                                {
                                    "Bookinfo": "The Testament of MarybyColm Tóibíninunknownlanguage"
                                },
                                {
                                    "Bookinfo": "Women's Bodies, Women's Wisdom: Creating Physical and Emotional Health and HealingbyChristiane Northrupinunknownlanguage"
                                },
                                {
                                    "Bookinfo": "The Color of SecretsbyLindsay Ashfordinunknownlanguage"
                                },
                                {
                                    "Bookinfo": "Most Talkative: Stories from the Front Lines of Pop CulturebyAndy Coheninunknownlanguage"
                                },
                                {
                                    "Bookinfo": "Lost HorizonbyJames Hiltoninunknownlanguage"
                                },
                                {
                                    "Bookinfo": "Rocket Boys (Coalwood #1)byHomer Hickaminunknownlanguage"
                                },
                                {
                                    "Bookinfo": "A Perfect SpybyJohn le Carréinunknownlanguage"
                                },
                                {
                                    "Bookinfo": "Screw It, Let's Do It: Lessons In LifebyRichard Bransoninunknownlanguage"
                                },
                                {
                                    "Bookinfo": "Revolting RhymesbyRoald Dahl, Quentin Blakeinunknownlanguage"
                                },
                                {
                                    "Bookinfo": "The Guns of NavaronebyAlistair MacLeaninunknownlanguage"
                                },
                                {
                                    "Bookinfo": "Tell-AllbyChuck Palahniukinunknownlanguage"
                                },
                                {
                                    "Bookinfo": "The Lady & Sons Savannah Country CookbookbyPaula H. Deen, John Berendtinunknownlanguage"
                                },
                                {
                                    "Bookinfo": "No One Writes to the Colonel and Other StoriesbyGabriel García Márquez, J.S. Bernsteininunknownlanguage"
                                },
                                {
                                    "Bookinfo": "The Climb: Tragic Ambitions on EverestbyAnatoli Boukreev, G. Weston DeWaltinunknownlanguage"
                                },
                                {
                                    "Bookinfo": "An Old-Fashioned GirlbyLouisa May Alcottinunknownlanguage"
                                },
                                {
                                    "Bookinfo": "Richard IIbyWilliam Shakespeare, Roma Gill, Robert          Jacksoninunknownlanguage"
                                },
                                {
                                    "Bookinfo": "Prisoner of My DesirebyJohanna Lindseyinunknownlanguage"
                                },
                                {
                                    "Bookinfo": "The Book on the Taboo Against Knowing Who You ArebyAlan W. Wattsinunknownlanguage"
                                },
                                {
                                    "Bookinfo": "TampabyAlissa Nuttinginunknownlanguage"
                                },
                                {
                                    "Bookinfo": "The Unofficial Harry Potter Cookbook: From Cauldron Cakes to Knickerbocker Glory--More Than 150 Magical Recipes for Wizards and Non-Wizards Alike (Unofficial Cookbook)byDinah Bucholzinunknownlanguage"
                                },
                                {
                                    "Bookinfo": "The Automatic Millionaire: A Powerful One-Step Plan to Live and Finish RichbyDavid Bachinunknownlanguage"
                                },
                                {
                                    "Bookinfo": "Ghettoside: A True Story of Murder in AmericabyJill Leovyinunknownlanguage"
                                },
                                {
                                    "Bookinfo": "Once a RunnerbyJohn L. Parker Jr.inunknownlanguage"
                                },
                                {
                                    "Bookinfo": "The Ear, the Eye, and the ArmbyNancy Farmerinunknownlanguage"
                                },
                                {
                                    "Bookinfo": "Stay Out of the Basement  (Goosebumps, #2)byR.L. Stineinunknownlanguage"
                                },
                                {
                                    "Bookinfo": "One Day at Horrorland (Goosebumps, #16)byR.L. Stineinunknownlanguage"
                                },
                                {
                                    "Bookinfo": "FootfallbyLarry Niven, Jerry Pournelleinunknownlanguage"
                                },
                                {
                                    "Bookinfo": "Stone SoupbyJon J. Muthinunknownlanguage"
                                },
                                {
                                    "Bookinfo": "Girl With Curious HairbyDavid Foster Wallaceinunknownlanguage"
                                },
                                {
                                    "Bookinfo": "The Revenge of the Baby-SatbyBill Wattersoninunknownlanguage"
                                },
                                {
                                    "Bookinfo": "The Secret Between UsbyBarbara Delinskyinunknownlanguage"
                                },
                                {
                                    "Bookinfo": "Knife Edge (Noughts & Crosses, #2)byMalorie Blackmaninunknownlanguage"
                                },
                                {
                                    "Bookinfo": "The Cake Mix DoctorbyAnne Byrn, Anthony Loewinunknownlanguage"
                                },
                                {
                                    "Bookinfo": "Depraved Heart (Kay Scarpetta, #23)byPatricia Cornwellinunknownlanguage"
                                },
                                {
                                    "Bookinfo": "The Education of Little TreebyForrest Carterinunknownlanguage"
                                },
                                {
                                    "Bookinfo": "Positioning: The Battle for Your Mind: How to Be Seen and Heard in the Overcrowded MarketplacebyAl Ries, Jack Troutinunknownlanguage"
                                },
                                {
                                    "Bookinfo": "Rhett Butler's PeoplebyDonald McCaiginunknownlanguage"
                                },
                                {
                                    "Bookinfo": "The Royal Ranger (Ranger's Apprentice, #12)byJohn Flanaganinunknownlanguage"
                                },
                                {
                                    "Bookinfo": "Freight TrainbyDonald Crewsinunknownlanguage"
                                },
                                {
                                    "Bookinfo": "The Flame and the FlowerbyKathleen E. Woodiwissinunknownlanguage"
                                },
                                {
                                    "Bookinfo": "Exile's Return (Conclave of Shadows, #3)byRaymond E. Feistinunknownlanguage"
                                },
                                {
                                    "Bookinfo": "Preach My Gospel: A Guide To Missionary ServicebyThe Church of Jesus Christ of Latter-day Saintsinunknownlanguage"
                                },
                                {
                                    "Bookinfo": "Like a Fire Burning (The Work and the Glory, #2)byGerald N. Lundinunknownlanguage"
                                },
                                {
                                    "Bookinfo": "ContestbyMatthew Reillyinunknownlanguage"
                                },
                                {
                                    "Bookinfo": "The Greatest GenerationbyTom Brokawinunknownlanguage"
                                },
                                {
                                    "Bookinfo": "The Minority ReportbyPhilip K. Dickinunknownlanguage"
                                },
                                {
                                    "Bookinfo": "Wizard at Large (Magic Kingdom of Landover, #3)byTerry Brooksinunknownlanguage"
                                },
                                {
                                    "Bookinfo": "AccidentbyDanielle Steelinunknownlanguage"
                                },
                                {
                                    "Bookinfo": "PinocchiobyEugene Bradley Coco, Ron Diasinunknownlanguage"
                                },
                                {
                                    "Bookinfo": "Curious George Takes a JobbyH.A. Reyinunknownlanguage"
                                },
                                {
                                    "Bookinfo": "La casa de Bernarda AlbabyFederico García Lorca, Antonio Sobejano-Moran, Paola Biancoinunknownlanguage"
                                },
                                {
                                    "Bookinfo": "Streams in the DesertbyLettie B. Cowman, James Reimanninunknownlanguage"
                                },
                                {
                                    "Bookinfo": "The Tenth JusticebyBrad Meltzerinunknownlanguage"
                                },
                                {
                                    "Bookinfo": "Stella BainbyAnita Shreveinunknownlanguage"
                                },
                                {
                                    "Bookinfo": "The Redemption of AlthalusbyDavid Eddings, Leigh Eddingsinunknownlanguage"
                                },
                                {
                                    "Bookinfo": "Crazy For YoubyJennifer Crusieinunknownlanguage"
                                },
                                {
                                    "Bookinfo": "City of Bones / City of Ashes / City of Glass / City of Fallen Angels / City of Lost Souls (The Mortal Instruments, #1-5)byCassandra Clareinunknownlanguage"
                                },
                                {
                                    "Bookinfo": "The Tale of Mrs. Tiggy-WinklebyBeatrix Potterinunknownlanguage"
                                },
                                {
                                    "Bookinfo": "For Love of Evil (Incarnations of Immortality, #6)byPiers Anthonyinunknownlanguage"
                                },
                                {
                                    "Bookinfo": "Charlie Bone and the Shadow (The Children of the Red King, #7)byJenny Nimmoinunknownlanguage"
                                },
                                {
                                    "Bookinfo": "The End of PovertybyJeffrey D. Sachs, Bonoinunknownlanguage"
                                },
                                {
                                    "Bookinfo": "Call Me by Your NamebyAndré Acimaninunknownlanguage"
                                },
                                {
                                    "Bookinfo": "Armageddon's Children (Genesis of Shannara, #1)byTerry Brooksinunknownlanguage"
                                },
                                {
                                    "Bookinfo": "On Becoming Baby Wise: Giving Your Infant the Gift of Nighttime SleepbyGary Ezzoinunknownlanguage"
                                },
                                {
                                    "Bookinfo": "Tawny Scrawny LionbyKathryn Jackson, Gustav Tenggreninunknownlanguage"
                                },
                                {
                                    "Bookinfo": "Peace Child: An Unforgettable Story of Primitive Jungle Treachery in the 20th CenturybyDon Richardsoninunknownlanguage"
                                },
                                {
                                    "Bookinfo": "Truth Will Prevail (The Work and the Glory, #3)byGerald N. Lundinunknownlanguage"
                                },
                                {
                                    "Bookinfo": "How I Raised Myself from Failure to Success in SellingbyFrank Bettgerinunknownlanguage"
                                },
                                {
                                    "Bookinfo": "Wicked - Piano/Vocal ArrangementbyStephen Schwartz, Gregory Maguireinunknownlanguage"
                                },
                                {
                                    "Bookinfo": "Little Lord FauntleroybyFrances Hodgson Burnettinunknownlanguage"
                                },
                                {
                                    "Bookinfo": "KultibyMariana Zapatainunknownlanguage"
                                },
                                {
                                    "Bookinfo": "Ruby HollerbySharon Creechinunknownlanguage"
                                },
                                {
                                    "Bookinfo": "See You at the TopbyZig Ziglar, Al Maytoninunknownlanguage"
                                },
                                {
                                    "Bookinfo": "Harry Potter and Philosophy: If Aristotle Ran HogwartsbyDavid Baggett, Shawn E. Kleininunknownlanguage"
                                },
                                {
                                    "Bookinfo": "The Christmas TrainbyDavid Baldacciinunknownlanguage"
                                },
                                {
                                    "Bookinfo": "One Flew Over the Cuckoo's NestbyDale Wassermaninunknownlanguage"
                                },
                                {
                                    "Bookinfo": "Last OrdersbyGraham Swiftinunknownlanguage"
                                },
                                {
                                    "Bookinfo": "Wife 22byMelanie Gideoninunknownlanguage"
                                },
                                {
                                    "Bookinfo": "Before I GobyColleen Oakleyinunknownlanguage"
                                },
                                {
                                    "Bookinfo": "Travel TeambyMike Lupicainunknownlanguage"
                                },
                                {
                                    "Bookinfo": "Islands in the StreambyErnest Hemingwayinunknownlanguage"
                                },
                                {
                                    "Bookinfo": "CapitalbyJohn Lanchesterinunknownlanguage"
                                },
                                {
                                    "Bookinfo": "April 1865: The Month That Saved AmericabyJay Winikinunknownlanguage"
                                },
                                {
                                    "Bookinfo": "The Wheel of Time: Boxed Set  (Wheel of Time, #1-8)byRobert Jordaninunknownlanguage"
                                },
                                {
                                    "Bookinfo": "Social Intelligence: The New Science of Human RelationshipsbyDaniel Golemaninunknownlanguage"
                                },
                                {
                                    "Bookinfo": "Double IdentitybyMargaret Peterson Haddixinunknownlanguage"
                                },
                                {
                                    "Bookinfo": "Miles to Go (The Walk, #2)byRichard Paul Evansinunknownlanguage"
                                },
                                {
                                    "Bookinfo": "Beach TownbyMary Kay Andrewsinunknownlanguage"
                                },
                                {
                                    "Bookinfo": "The Legend of Luke (Redwall, #12)byBrian Jacquesinunknownlanguage"
                                },
                                {
                                    "Bookinfo": "Eat to Live: The Revolutionary Formula for Fast and Sustained Weight LossbyJoel Fuhrmaninunknownlanguage"
                                },
                                {
                                    "Bookinfo": "The Nasty Bits: Collected Varietal Cuts, Usable Trim, Scraps, and BonesbyAnthony Bourdaininunknownlanguage"
                                },
                                {
                                    "Bookinfo": "Summer of My German Soldier (Summer of My German Soldier, #1)byBette Greeneinunknownlanguage"
                                },
                                {
                                    "Bookinfo": "I Do -- But I Don'tbyCara Lockwoodinunknownlanguage"
                                },
                                {
                                    "Bookinfo": "Fine ThingsbyDanielle Steelinunknownlanguage"
                                },
                                {
                                    "Bookinfo": "King of Foxes (Conclave of Shadows, #2)byRaymond E. Feistinunknownlanguage"
                                },
                                {
                                    "Bookinfo": "Lie Down with LionsbyKen Follettinunknownlanguage"
                                },
                                {
                                    "Bookinfo": "Elizabeth: The Struggle for the ThronebyDavid Starkeyinunknownlanguage"
                                },
                                {
                                    "Bookinfo": "SkinbyTed Dekkerinunknownlanguage"
                                },
                                {
                                    "Bookinfo": "In This Mountain (Mitford Years, #7)byJan Karoninunknownlanguage"
                                },
                                {
                                    "Bookinfo": "Code to ZerobyKen Follettinunknownlanguage"
                                },
                                {
                                    "Bookinfo": "The Old Curiosity ShopbyCharles Dickens, Norman Pageinunknownlanguage"
                                },
                                {
                                    "Bookinfo": "Hands Of LightbyBarbara Ann Brennan, Jos. A. Smithinunknownlanguage"
                                },
                                {
                                    "Bookinfo": "Succulent Wild WomanbyS.A.R.K.inunknownlanguage"
                                },
                                {
                                    "Bookinfo": "The Penderwicks on Gardam Street (The Penderwicks, #2)byJeanne Birdsallinunknownlanguage"
                                },
                                {
                                    "Bookinfo": "See Jane DatebyMelissa Senateinunknownlanguage"
                                },
                                {
                                    "Bookinfo": "Pushing IcebyAlastair Reynoldsinunknownlanguage"
                                },
                                {
                                    "Bookinfo": "The Secret Art of Dr. SeussbyDr. Seuss, Maurice Sendak, Audrey Geiselinunknownlanguage"
                                },
                                {
                                    "Bookinfo": "Unfamiliar FishesbySarah Vowellinunknownlanguage"
                                },
                                {
                                    "Bookinfo": "Amy and Isabelle byElizabeth Stroutinunknownlanguage"
                                },
                                {
                                    "Bookinfo": "Honor Among Enemies (Honor Harrington, #6)byDavid Weberinunknownlanguage"
                                },
                                {
                                    "Bookinfo": "EntreLeadership: 20 Years of Practical Business Wisdom from the TrenchesbyDave Ramseyinunknownlanguage"
                                },
                                {
                                    "Bookinfo": "Become a Better You: 7 Keys to Improving Your Life Every DaybyJoel Osteeninunknownlanguage"
                                },
                                {
                                    "Bookinfo": "Until Nico (Until, #4)byAurora Rose Reynoldsinunknownlanguage"
                                },
                                {
                                    "Bookinfo": "The Second Ship (The Rho Agenda, #1)byRichard   Phillipsinunknownlanguage"
                                },
                                {
                                    "Bookinfo": "The Carrot SeedbyRuth Krauss, Crockett Johnsoninunknownlanguage"
                                },
                                {
                                    "Bookinfo": "Relentless (The Lost Fleet, #5)byJack Campbellinunknownlanguage"
                                },
                                {
                                    "Bookinfo": "Winter Stroll (Winter #2)byElin Hilderbrandinunknownlanguage"
                                },
                                {
                                    "Bookinfo": "Helmet for My PillowbyRobert Leckieinunknownlanguage"
                                },
                                {
                                    "Bookinfo": "EgomaniacbyVi Keelandinunknownlanguage"
                                },
                                {
                                    "Bookinfo": "Courageous (The Lost Fleet, #3)byJack Campbellinunknownlanguage"
                                },
                                {
                                    "Bookinfo": "RubybyCynthia Bondinunknownlanguage"
                                },
                                {
                                    "Bookinfo": "Messenger of Truth (Maisie Dobbs, #4)byJacqueline Winspearinunknownlanguage"
                                },
                                {
                                    "Bookinfo": "Apathy and Other Small VictoriesbyPaul Neilaninunknownlanguage"
                                },
                                {
                                    "Bookinfo": "Essays and PoemsbyRalph Waldo Emerson, Peter Norberginunknownlanguage"
                                },
                                {
                                    "Bookinfo": "Innocent Erendira and Other StoriesbyGabriel García Márquez, Gregory Rabassainunknownlanguage"
                                },
                                {
                                    "Bookinfo": "Henry & RamonabyCynthia J. McGeaninunknownlanguage"
                                },
                                {
                                    "Bookinfo": "Annabel (Delirium, #0.5)byLauren Oliverinunknownlanguage"
                                },
                                {
                                    "Bookinfo": "EthicsbyBaruch Spinoza, Edwin M. Curley, Stuart Hampshire, Edwin Curleyinunknownlanguage"
                                },
                                {
                                    "Bookinfo": "Nine Parts of Desire: The Hidden World of Islamic WomenbyGeraldine Brooksinunknownlanguage"
                                },
                                {
                                    "Bookinfo": "The Midnight Palace (Niebla, #2)byCarlos Ruiz Zafón, Lucia Gravesinunknownlanguage"
                                },
                                {
                                    "Bookinfo": "Ya Yas in BloombyRebecca Wellsinunknownlanguage"
                                },
                                {
                                    "Bookinfo": "Tempting the Player (Gamble Brothers, #2)byJ. Lynn, Jennifer L. Armentroutinunknownlanguage"
                                },
                                {
                                    "Bookinfo": "Cape FearbyJohn D. MacDonaldinunknownlanguage"
                                },
                                {
                                    "Bookinfo": "The Places That Scare You: A Guide to Fearlessness in Difficult TimesbyPema Chödröninunknownlanguage"
                                },
                                {
                                    "Bookinfo": "Frida Kahlo: 1907-1954 Pain and PassionbyAndrea Kettenmanninunknownlanguage"
                                },
                                {
                                    "Bookinfo": "The Mistress of SpicesbyChitra Banerjee Divakaruniinunknownlanguage"
                                },
                                {
                                    "Bookinfo": "Hard Limit (Hacker, #4)byMeredith Wildinunknownlanguage"
                                },
                                {
                                    "Bookinfo": "The Pretty Committee Strikes Back (The Clique, #5)byLisi Harrisoninunknownlanguage"
                                },
                                {
                                    "Bookinfo": "Dial L for Loser (The Clique, #6)byLisi Harrisoninunknownlanguage"
                                },
                                {
                                    "Bookinfo": "The River WhybyDavid James Duncaninunknownlanguage"
                                },
                                {
                                    "Bookinfo": "The Water-Method ManbyJohn Irvinginunknownlanguage"
                                },
                                {
                                    "Bookinfo": "Heretic (The Grail Quest, #3)byBernard Cornwellinunknownlanguage"
                                },
                                {
                                    "Bookinfo": "Economics in One Lesson: The Shortest & Surest Way to Understand Basic EconomicsbyHenry Hazlittinunknownlanguage"
                                },
                                {
                                    "Bookinfo": "Percy Jackson and the Sword of Hades (Percy Jackson and the Olympians, #4.5)byRick Riordaninunknownlanguage"
                                },
                                {
                                    "Bookinfo": "The Walking Dead, Vol. 13: Too Far GonebyRobert Kirkman, Charlie Adlard, Cliff Rathburninunknownlanguage"
                                },
                                {
                                    "Bookinfo": "How Should We Then Live? The Rise and Decline of Western Thought and CulturebyFrancis A. Schaefferinunknownlanguage"
                                },
                                {
                                    "Bookinfo": "BelzharbyMeg Wolitzerinunknownlanguage"
                                },
                                {
                                    "Bookinfo": "The Covenant (Abram's Daughters, #1)byBeverly  Lewisinunknownlanguage"
                                },
                                {
                                    "Bookinfo": "Rich Dad's Guide to Investing: What the Rich Invest in That the Poor and Middle Class Do Not!byRobert T. Kiyosaki, Sharon L. Lechterinunknownlanguage"
                                },
                                {
                                    "Bookinfo": "Those GirlsbyChevy Stevensinunknownlanguage"
                                },
                                {
                                    "Bookinfo": "The Amateur MarriagebyAnne Tylerinunknownlanguage"
                                },
                                {
                                    "Bookinfo": "The Voyages of Doctor Dolittle (Doctor Dolittle, #2)byHugh Lofting, Michael Hagueinunknownlanguage"
                                },
                                {
                                    "Bookinfo": "The KnockoffbyLucy Sykes, Jo Piazzainunknownlanguage"
                                },
                                {
                                    "Bookinfo": "A Kiss for Little Bear (An I Can Read Book) by Minarik, Else Holmelund [1984]byElse Holmelund Minarik, Maurice Sendakinunknownlanguage"
                                },
                                {
                                    "Bookinfo": "ZoyabyDanielle Steelinunknownlanguage"
                                },
                                {
                                    "Bookinfo": "One Piece, Volume 38: Rocketman!! (One Piece, #38)byEiichirō Odainunknownlanguage"
                                },
                                {
                                    "Bookinfo": "Martha Stewart's Cupcakes: 175 Inspired Ideas for Everyone's Favorite TreatbyMartha Stewartinunknownlanguage"
                                },
                                {
                                    "Bookinfo": "Neighbor DearestbyPenelope Wardinunknownlanguage"
                                },
                                {
                                    "Bookinfo": "The Art of Amy BrownbyAmy Brown, Charles  de Lintinunknownlanguage"
                                },
                                {
                                    "Bookinfo": "Birdman (Jack Caffery, #1)byMo Hayderinunknownlanguage"
                                },
                                {
                                    "Bookinfo": "AntigonebyJean Anouilhinunknownlanguage"
                                },
                                {
                                    "Bookinfo": "Crooked Little LiesbyBarbara Taylor Sisselinunknownlanguage"
                                },
                                {
                                    "Bookinfo": "The Other Side of Dawn (Tomorrow, #7)byJohn Marsdeninunknownlanguage"
                                },
                                {
                                    "Bookinfo": "The Tiger Who Came to TeabyJudith Kerrinunknownlanguage"
                                },
                                {
                                    "Bookinfo": "Without You, There Is No Us: My Time with the Sons of North Korea's ElitebySuki Kiminunknownlanguage"
                                },
                                {
                                    "Bookinfo": "The Wolves of Willoughby Chase (The Wolves Chronicles, #1)byJoan Aiken, Pat Marriottinunknownlanguage"
                                },
                                {
                                    "Bookinfo": "The Scarlatti InheritancebyRobert Ludluminunknownlanguage"
                                },
                                {
                                    "Bookinfo": "The Last Days of DogtownbyAnita Diamantinunknownlanguage"
                                },
                                {
                                    "Bookinfo": "Money, and the Law of Attraction: Learning to Attract Wealth, Health, and HappinessbyEsther Hicks, Jerry Hicksinunknownlanguage"
                                },
                                {
                                    "Bookinfo": "Dark River (Warriors: Power of Three, #2)byErin Hunterinunknownlanguage"
                                },
                                {
                                    "Bookinfo": "The Next Big ThingbyJohanna Edwardsinunknownlanguage"
                                },
                                {
                                    "Bookinfo": "Inversions (Culture, #6)byIain M. Banksinunknownlanguage"
                                },
                                {
                                    "Bookinfo": "Turn of MindbyAlice LaPlanteinunknownlanguage"
                                },
                                {
                                    "Bookinfo": "The Discoverers: A History of Man's Search to Know His World and HimselfbyDaniel J. Boorstininunknownlanguage"
                                },
                                {
                                    "Bookinfo": "Nothing's Fair in Fifth GradebyBarthe DeClementsinunknownlanguage"
                                },
                                {
                                    "Bookinfo": "Sea of Silver Light (Otherland, #4)byTad Williamsinunknownlanguage"
                                },
                                {
                                    "Bookinfo": "Thank You for SmokingbyChristopher Buckleyinunknownlanguage"
                                },
                                {
                                    "Bookinfo": "Nourishing Traditions: The Cookbook That Challenges Politically Correct Nutrition and the Diet DictocratsbySally Fallon Morellinunknownlanguage"
                                },
                                {
                                    "Bookinfo": "The Bridge Across Forever: A True Love StorybyRichard Bachinunknownlanguage"
                                },
                                {
                                    "Bookinfo": "Demon Thief (The Demonata, #2)byDarren Shaninunknownlanguage"
                                },
                                {
                                    "Bookinfo": "Sherlock Holmes of Baker Street: A Life of the World's First Consulting DetectivebyWilliam S. Baring-Gouldinunknownlanguage"
                                },
                                {
                                    "Bookinfo": "HorrorstörbyGrady Hendrix, Michael Rogalskiinunknownlanguage"
                                },
                                {
                                    "Bookinfo": "The Prize Winner of Defiance, Ohio: How My Mother Raised 10 Kids on 25 Words or LessbyTerry Ryaninunknownlanguage"
                                },
                                {
                                    "Bookinfo": "The Story of the Trapp Family SingersbyMaria Augusta von Trappinunknownlanguage"
                                },
                                {
                                    "Bookinfo": "The Virgin CurebyAmi McKayinunknownlanguage"
                                },
                                {
                                    "Bookinfo": "The Seven Principles for Making Marriage Work: A Practical Guide from the Country's Foremost Relationship ExpertbyJohn M. Gottman, Nan Silverinunknownlanguage"
                                },
                                {
                                    "Bookinfo": "Anastasia Krupnik (Anastasia Krupnik, #1)byLois Lowryinunknownlanguage"
                                },
                                {
                                    "Bookinfo": "Ladder of YearsbyAnne Tylerinunknownlanguage"
                                },
                                {
                                    "Bookinfo": "Night Light (Restoration #2)byTerri Blackstockinunknownlanguage"
                                },
                                {
                                    "Bookinfo": "The First World WarbyJohn Keeganinunknownlanguage"
                                }
                            ]
                        },
                        "text/html": "<table><tr><th>Bookinfo</th></tr><tr><td>Life of PibyYann Martelinunknownlanguage</td></tr><tr><td>The Five People You Meet in HeavenbyMitch Albominunknownlanguage</td></tr><tr><td>A Christmas CarolbyCharles Dickensinunknownlanguage</td></tr><tr><td>CarriebyStephen Kinginunknownlanguage</td></tr><tr><td>The Hunt for Red October (Jack Ryan Universe, #4)byTom Clancyinunknownlanguage</td></tr><tr><td>Where the Red Fern GrowsbyWilson Rawlsinunknownlanguage</td></tr><tr><td>Fried Green Tomatoes at the Whistle Stop CafebyFannie Flagginunknownlanguage</td></tr><tr><td>The Three MusketeersbyAlexandre Dumasinunknownlanguage</td></tr><tr><td>In Her ShoesbyJennifer Weinerinunknownlanguage</td></tr><tr><td>The Andromeda StrainbyMichael Crichtoninunknownlanguage</td></tr><tr><td>Needful ThingsbyStephen Kinginunknownlanguage</td></tr><tr><td>Are You There, Vodka? It&#39;s Me, ChelseabyChelsea Handlerinunknownlanguage</td></tr><tr><td>PreybyMichael Crichtoninunknownlanguage</td></tr><tr><td>Mrs. Frisby and the Rats of NIMH (Rats of NIMH, #1)byRobert C. O&#39;Brieninunknownlanguage</td></tr><tr><td>The Little House Collection (Little House, #1-9)byLaura Ingalls Wilder, Garth Williamsinunknownlanguage</td></tr><tr><td>The Girls&#39; Guide to Hunting and FishingbyMelissa Bankinunknownlanguage</td></tr><tr><td>Sh*t My Dad SaysbyJustin Halperninunknownlanguage</td></tr><tr><td>The Four Agreements: A Practical Guide to Personal FreedombyMiguel Ruizinunknownlanguage</td></tr><tr><td>One Fish, Two Fish, Red Fish, Blue FishbyDr. Seussinunknownlanguage</td></tr><tr><td>WatchersbyDean Koontzinunknownlanguage</td></tr><tr><td>Fifty Shades Trilogy (Fifty Shades, #1-3)byE.L. Jamesinunknownlanguage</td></tr><tr><td>The Joy of CookingbyIrma S. Rombauer, Marion Rombauer Becker, Ethan Beckerinunknownlanguage</td></tr><tr><td>The Complete Anne of Green Gables Boxed Set (Anne of Green Gables, #1-8)byL.M. Montgomeryinunknownlanguage</td></tr><tr><td>The PartnerbyJohn Grishaminunknownlanguage</td></tr><tr><td>Presumed InnocentbyScott Turowinunknownlanguage</td></tr><tr><td>Dr. Seuss&#39;s Green Eggs and Ham: For Soprano, Boy Soprano, and OrchestrabyRobert Kapilow, Dr. Seussinunknownlanguage</td></tr><tr><td>Inferno (The Divine Comedy #1)byDante Alighieri, Anthony M. Esoleninunknownlanguage</td></tr><tr><td>The Girl Who Loved Tom GordonbyStephen Kinginunknownlanguage</td></tr><tr><td>The Twilight Saga (Twilight, #1-4)byStephenie Meyer, Ilyana Kadushin, Matt Waltersinunknownlanguage</td></tr><tr><td>The Secret KeeperbyKate Mortoninunknownlanguage</td></tr><tr><td>Better Homes and Gardens New Cook Book  byBetter Homes and Gardensinunknownlanguage</td></tr><tr><td>Reached (Matched, #3)byAlly Condieinunknownlanguage</td></tr><tr><td>The TestamentbyJohn Grishaminunknownlanguage</td></tr><tr><td>90 Minutes in Heaven: A True Story of Death and LifebyDon Piper, Cecil Murpheyinunknownlanguage</td></tr><tr><td>Sam&#39;s Letters to JenniferbyJames Pattersoninunknownlanguage</td></tr><tr><td>Little EarthquakesbyJennifer Weinerinunknownlanguage</td></tr><tr><td>LullabybyChuck Palahniukinunknownlanguage</td></tr><tr><td>The English PatientbyMichael Ondaatjeinunknownlanguage</td></tr><tr><td>Warm Bodies (Warm Bodies, #1)byIsaac Marioninunknownlanguage</td></tr><tr><td>Cold Sassy TreebyOlive Ann Burnsinunknownlanguage</td></tr><tr><td>Aristotle and Dante Discover the Secrets of the Universe (Aristotle and Dante Discover the Secrets of the Universe, #1)byBenjamin Alire Sáenzinunknownlanguage</td></tr><tr><td>Summer SistersbyJudy Blumeinunknownlanguage</td></tr><tr><td>A Scandal in Bohemia (The Adventures of Sherlock Holmes, #1)byRonald Holt, Arthur Conan Doyleinunknownlanguage</td></tr><tr><td>The BrethrenbyJohn Grishaminunknownlanguage</td></tr><tr><td>The Case for ChristbyLee Strobelinunknownlanguage</td></tr><tr><td>The Complete Sherlock Holmes, Vol 2byArthur Conan Doyle, Kyle Freemaninunknownlanguage</td></tr><tr><td>The Pilgrim&#39;s ProgressbyJohn Bunyaninunknownlanguage</td></tr><tr><td>Janet Evanovich Three and Four Two-Book Set (Stephanie Plum, #3-4)byJanet Evanovichinunknownlanguage</td></tr><tr><td>Magician&#39;s Gambit (The Belgariad, #3)byDavid Eddingsinunknownlanguage</td></tr><tr><td>Keeping FaithbyJodi Picoultinunknownlanguage</td></tr><tr><td>Ham on RyebyCharles Bukowskiinunknownlanguage</td></tr><tr><td>Emotional Intelligence 2.0byTravis Bradberry, Jean Greaves, Patrick Lencioniinunknownlanguage</td></tr><tr><td>Make Way for DucklingsbyRobert McCloskeyinunknownlanguage</td></tr><tr><td>On the Banks of Plum Creek  (Little House, #4)byLaura Ingalls Wilder, Garth Williamsinunknownlanguage</td></tr><tr><td>PostSecret: Extraordinary Confessions from Ordinary Lives (PostSecret)byFrank Warreninunknownlanguage</td></tr><tr><td>The Borrowers (The Borrowers, #1)byMary Norton, Beth Krush, Joe Krushinunknownlanguage</td></tr><tr><td>The RacketeerbyJohn Grishaminunknownlanguage</td></tr><tr><td>Opal (Lux, #3)byJennifer L. Armentroutinunknownlanguage</td></tr><tr><td>ZeitounbyDave Eggersinunknownlanguage</td></tr><tr><td>Pines (Wayward Pines, #1)byBlake Crouchinunknownlanguage</td></tr><tr><td>DisclosurebyMichael Crichtoninunknownlanguage</td></tr><tr><td>Beezus and Ramona (Ramona, #1)byBeverly Clearyinunknownlanguage</td></tr><tr><td>The Farthest Shore (Earthsea Cycle, #3)byUrsula K. Le Guininunknownlanguage</td></tr><tr><td>The Story of FerdinandbyMunro Leaf, Robert Lawsoninunknownlanguage</td></tr><tr><td>Rise of the Evening Star (Fablehaven, #2)byBrandon Mullinunknownlanguage</td></tr><tr><td>The Next Always (Inn BoonsBoro, #1)byNora Roberts, MacLeod Andrewsinunknownlanguage</td></tr><tr><td>Drive: The Surprising Truth About What Motivates UsbyDaniel H. Pinkinunknownlanguage</td></tr><tr><td>Temple of the Winds (Sword of Truth, #4)byTerry Goodkind, Dick Hillinunknownlanguage</td></tr><tr><td>Red Storm RisingbyTom Clancyinunknownlanguage</td></tr><tr><td>GalápagosbyKurt Vonnegut Jr.inunknownlanguage</td></tr><tr><td>I Hope They Serve Beer in Hell (Tucker Max, #1)byTucker Maxinunknownlanguage</td></tr><tr><td>The Fall of the House of Usher and Other Tales byEdgar Allan Poe, Stephen Marloweinunknownlanguage</td></tr><tr><td>Sushi for BeginnersbyMarian Keyesinunknownlanguage</td></tr><tr><td>Watermelon (Walsh Family, #1)byMarian Keyesinunknownlanguage</td></tr><tr><td>Clifford the Big Red DogbyNorman Bridwellinunknownlanguage</td></tr><tr><td>Frida: A Biography of Frida KahlobyHayden Herrerainunknownlanguage</td></tr><tr><td>The RavenbyEdgar Allan Poe, Gustave Doréinunknownlanguage</td></tr><tr><td>The General&#39;s DaughterbyNelson DeMilleinunknownlanguage</td></tr><tr><td>3rd Degree (Women&#39;s Murder Club, #3)byJames Patterson, Andrew Grossinunknownlanguage</td></tr><tr><td>Bird by Bird: Some Instructions on Writing and LifebyAnne Lamottinunknownlanguage</td></tr><tr><td>The VacationersbyEmma Straubinunknownlanguage</td></tr><tr><td>A Widow for One YearbyJohn Irvinginunknownlanguage</td></tr><tr><td>Charlie and the Great Glass Elevator (Charlie Bucket, #2)byRoald Dahl, Quentin Blakeinunknownlanguage</td></tr><tr><td>The Interpretation of DreamsbySigmund Freudinunknownlanguage</td></tr><tr><td>The Power of a Praying WifebyStormie Omartianinunknownlanguage</td></tr><tr><td>Ramona the Pest (Ramona, #2)byBeverly Clearyinunknownlanguage</td></tr><tr><td>Daring Greatly: How the Courage to Be Vulnerable Transforms the Way We Live, Love, Parent, and LeadbyBrené Browninunknownlanguage</td></tr><tr><td>Out of the DustbyKaren Hesseinunknownlanguage</td></tr><tr><td>The Complete TalesbyBeatrix Potterinunknownlanguage</td></tr><tr><td>Suite FrançaisebyIrène Némirovsky, Sandra Smithinunknownlanguage</td></tr><tr><td>Scott Pilgrim, Volume 2: Scott Pilgrim vs. The WorldbyBryan Lee O&#39;Malleyinunknownlanguage</td></tr><tr><td>PapillonbyHenri Charrièreinunknownlanguage</td></tr><tr><td>The Time Machine/The Invisible ManbyH.G. Wells, Alfred MacAdaminunknownlanguage</td></tr><tr><td>What to Expect When You&#39;re ExpectingbyHeidi Murkoff, Arlene Eisenberg, Sandee Hathawayinunknownlanguage</td></tr><tr><td>Anybody Out There? (Walsh Family, #4)byMarian Keyesinunknownlanguage</td></tr><tr><td>A Christmas Carol, The Chimes and The Cricket on the HearthbyCharles Dickens, Katharine Kroeber Wileyinunknownlanguage</td></tr><tr><td>Dad Is FatbyJim Gaffiganinunknownlanguage</td></tr><tr><td>The Cat in the Hat and Other Dr. Seuss FavoritesbyDr. Seuss, Variousinunknownlanguage</td></tr><tr><td>Bully (Fall Away, #1)byPenelope Douglasinunknownlanguage</td></tr><tr><td>FaeriesbyBrian Froud, Alan Leeinunknownlanguage</td></tr><tr><td>How to Be GoodbyNick Hornbyinunknownlanguage</td></tr><tr><td>The Life We BurybyAllen Eskensinunknownlanguage</td></tr><tr><td>The Eagle Has Landed (Liam Devlin, #1)byJack Higginsinunknownlanguage</td></tr><tr><td>This Is Your Brain on Music: The Science of a Human ObsessionbyDaniel J. Levitininunknownlanguage</td></tr><tr><td>A Raisin in the SunbyLorraine Hansberryinunknownlanguage</td></tr><tr><td>The Sum of All Fears (Jack Ryan Universe, #7)byTom Clancyinunknownlanguage</td></tr><tr><td>Rogue LawyerbyJohn Grishaminunknownlanguage</td></tr><tr><td>The Life and Times of the Thunderbolt KidbyBill Brysoninunknownlanguage</td></tr><tr><td>Jesus Calling: Enjoying Peace in His PresencebySarah  Younginunknownlanguage</td></tr><tr><td>The 5th Horseman (Women&#39;s Murder Club, #5)byJames Patterson, Maxine Paetroinunknownlanguage</td></tr><tr><td>The Pursuit of GodbyA.W. Tozerinunknownlanguage</td></tr><tr><td>Feet of Clay (Discworld, #19; City Watch, #3)byTerry Pratchettinunknownlanguage</td></tr><tr><td>Skinny Legs and AllbyTom Robbinsinunknownlanguage</td></tr><tr><td>Fool&#39;s Fate (Tawny Man, #3)byRobin Hobbinunknownlanguage</td></tr><tr><td>Seven Days in the Art WorldbySarah Thorntoninunknownlanguage</td></tr><tr><td>The Total Money Makeover: A Proven Plan for Financial FitnessbyDave Ramseyinunknownlanguage</td></tr><tr><td>Shadow Puppets (Ender&#39;s Shadow, #3)byOrson Scott Cardinunknownlanguage</td></tr><tr><td>By the Shores of Silver Lake  (Little House, #5)byLaura Ingalls Wilder, Garth Williamsinunknownlanguage</td></tr><tr><td>Sex and the CitybyCandace Bushnellinunknownlanguage</td></tr><tr><td>FactotumbyCharles Bukowskiinunknownlanguage</td></tr><tr><td>Silas MarnerbyGeorge Eliotinunknownlanguage</td></tr><tr><td>Kidnapped (David Balfour, #1)byRobert Louis Stevensoninunknownlanguage</td></tr><tr><td>Friday Night Lights: A Town, a Team, and a DreambyH.G. Bissingerinunknownlanguage</td></tr><tr><td>The WitnessbyNora Robertsinunknownlanguage</td></tr><tr><td>Tinker, Tailor, Soldier, SpybyJohn le Carréinunknownlanguage</td></tr><tr><td>My Friend LeonardbyJames Freyinunknownlanguage</td></tr><tr><td>Delivering Happiness: A Path to Profits, Passion, and PurposebyTony Hsiehinunknownlanguage</td></tr><tr><td>The Further Adventures of Sherlock Holmes: After Sir Arthur Conan Doyle (Classic Crime)byRichard Lancelyn Green, Ronald Knox, Julian Symons, Variousinunknownlanguage</td></tr><tr><td>Love Story (Love Story, #1)byErich Segalinunknownlanguage</td></tr><tr><td>The E-Myth Revisited: Why Most Small Businesses Don&#39;t Work and What to Do About ItbyMichael E. Gerberinunknownlanguage</td></tr><tr><td>There Was an Old Lady Who Swallowed a FlybySimms Tabackinunknownlanguage</td></tr><tr><td>WinningbyJack Welch, Suzy Welchinunknownlanguage</td></tr><tr><td>The 48 Laws of PowerbyRobert Greene, Joost Elffersinunknownlanguage</td></tr><tr><td>Bury My Heart at Wounded Knee: An Indian History of the American WestbyDee Browninunknownlanguage</td></tr><tr><td>The Pianist: The Extraordinary Story of One Man&#39;s Survival in Warsaw, 1939–45byWładysław Szpilman, Anthea Bellinunknownlanguage</td></tr><tr><td>The Cross and the SwitchbladebyDavid Wilkerson, John Sherrill, Elizabeth Sherrillinunknownlanguage</td></tr><tr><td>RulesbyCynthia Lordinunknownlanguage</td></tr><tr><td>The Dog StarsbyPeter Hellerinunknownlanguage</td></tr><tr><td>The Prince (The Selection, #0.5)byKiera Cassinunknownlanguage</td></tr><tr><td>The Lost World (Professor Challenger, #1)byArthur Conan Doyleinunknownlanguage</td></tr><tr><td>The Long Winter (Little House, #6)byLaura Ingalls Wilder, Garth Williamsinunknownlanguage</td></tr><tr><td>Portnoy&#39;s ComplaintbyPhilip Roth, Luca Marinelliinunknownlanguage</td></tr><tr><td>Tiny Beautiful Things: Advice on Love and Life from Dear SugarbyCheryl Strayedinunknownlanguage</td></tr><tr><td>The Red PonybyJohn Steinbeckinunknownlanguage</td></tr><tr><td>Taltos (Lives of the Mayfair Witches, #3)byAnne Rice, Tim Curryinunknownlanguage</td></tr><tr><td>1,000 Places to See Before You DiebyPatricia Schultzinunknownlanguage</td></tr><tr><td>Act Like a Lady, Think Like a Man: What Men Really Think About Love, Relationships, Intimacy, and CommitmentbySteve Harveyinunknownlanguage</td></tr><tr><td>Love and Respect: The Love She Most Desires; The Respect He Desperately NeedsbyEmerson Eggerichsinunknownlanguage</td></tr><tr><td>Phantom (Sword of Truth, #10)byTerry Goodkindinunknownlanguage</td></tr><tr><td>Flags of Our FathersbyJames D. Bradley, Ron Powersinunknownlanguage</td></tr><tr><td>Where Eagles Dare byAlistair MacLean, Clint Willisinunknownlanguage</td></tr><tr><td>Blue Ocean Strategy: How To Create Uncontested Market Space And Make The Competition IrrelevantbyW. Chan Kim, Renée Mauborgneinunknownlanguage</td></tr><tr><td>The Napping HousebyAudrey Wood, Don    Woodinunknownlanguage</td></tr><tr><td>Practicing the Power of Now: Essential Teachings, Meditations, and Exercises from the Power of NowbyEckhart Tolleinunknownlanguage</td></tr><tr><td>The Road to the Dark Tower: Exploring Stephen King&#39;s Magnum OpusbyBev Vincentinunknownlanguage</td></tr><tr><td>Danny the Champion of the WorldbyRoald Dahl, Quentin Blakeinunknownlanguage</td></tr><tr><td>Everyday Italian: 125 Simple and Delicious RecipesbyGiada De Laurentiisinunknownlanguage</td></tr><tr><td>Barefoot Contessa at Home: Everyday Recipes You&#39;ll Make Over and Over AgainbyIna Garten, Quentin Baconinunknownlanguage</td></tr><tr><td>A Living Nightmare (Cirque Du Freak, #1)byDarren Shaninunknownlanguage</td></tr><tr><td>Hinds&#39; Feet on High PlacesbyHannah Hurnardinunknownlanguage</td></tr><tr><td>Two-Way StreetbyLauren Barnholdtinunknownlanguage</td></tr><tr><td>The Matarese Circle (Matarese #1)byRobert Ludluminunknownlanguage</td></tr><tr><td>On the Bright Side, I&#39;m Now the Girlfriend of a Sex God (Confessions of Georgia Nicolson, #2)byLouise Rennisoninunknownlanguage</td></tr><tr><td>Not a Penny More, Not a Penny LessbyJeffrey Archerinunknownlanguage</td></tr><tr><td>The Prisoner of Heaven (The Cemetery of Forgotten Books, #3)byCarlos Ruiz Zafóninunknownlanguage</td></tr><tr><td>CaughtbyHarlan Cobeninunknownlanguage</td></tr><tr><td>StrangersbyDean Koontzinunknownlanguage</td></tr><tr><td>Mike Mulligan and His Steam ShovelbyVirginia Lee Burtoninunknownlanguage</td></tr><tr><td>The Complete Adventures of Curious GeorgebyMargret Rey, H.A. Reyinunknownlanguage</td></tr><tr><td>Good Night, GorillabyPeggy Rathmanninunknownlanguage</td></tr><tr><td>Why Men Love Bitches: From Doormat to Dreamgirl—A Woman&#39;s Guide to Holding Her Own in a RelationshipbySherry Argovinunknownlanguage</td></tr><tr><td>Gregor and the Code of Claw (Underland Chronicles, #5)bySuzanne Collinsinunknownlanguage</td></tr><tr><td>The Other Side of the StorybyMarian Keyesinunknownlanguage</td></tr><tr><td>Unbearable Lightness: A Story of Loss and GainbyPortia de Rossiinunknownlanguage</td></tr><tr><td>The Blue Sword (Damar, #1)byRobin McKinleyinunknownlanguage</td></tr><tr><td>Fatal Voyage (Temperance Brennan, #4)byKathy Reichsinunknownlanguage</td></tr><tr><td>The View from SaturdaybyE.L. Konigsburginunknownlanguage</td></tr><tr><td>The Story of Doctor Dolittle (Doctor Dolittle, #1)byHugh Lofting, Michael Hagueinunknownlanguage</td></tr><tr><td>MaudebyDonna Mabryinunknownlanguage</td></tr><tr><td>Where Are the Children?byMary Higgins Clarkinunknownlanguage</td></tr><tr><td>Sir Gawain and the Green Knight byUnknown, Burton Raffel, Neil D. Isaacsinunknownlanguage</td></tr><tr><td>Leonardo&#39;s NotebooksbyLeonardo da Vinci, H. Anna Suhinunknownlanguage</td></tr><tr><td>Queste (Septimus Heap, #4)byAngie Sage, Mark Zuginunknownlanguage</td></tr><tr><td>Stone SoupbyMarcia Browninunknownlanguage</td></tr><tr><td>Harry Potter and the Chamber of Secrets: Sheet Music for Flute with C.DbyJohn   Williamsinunknownlanguage</td></tr><tr><td>ChristybyCatherine Marshallinunknownlanguage</td></tr><tr><td>True ColorsbyKristin Hannahinunknownlanguage</td></tr><tr><td>Eagle Strike (Alex Rider, #4)byAnthony Horowitzinunknownlanguage</td></tr><tr><td>Vampire Academy Collection (Vampire Academy, #1-3)byRichelle Meadinunknownlanguage</td></tr><tr><td>Gift from the SeabyAnne Morrow Lindberghinunknownlanguage</td></tr><tr><td>The OrchardistbyAmanda Coplininunknownlanguage</td></tr><tr><td>Anne of Windy Poplars (Anne of Green Gables, #4)byL.M. Montgomeryinunknownlanguage</td></tr><tr><td>AmsterdambyIan McEwaninunknownlanguage</td></tr><tr><td>The Most Dangerous GamebyRichard Connellinunknownlanguage</td></tr><tr><td>The Essential RumibyJalaluddin Rumi, Coleman Barksinunknownlanguage</td></tr><tr><td>Purple HibiscusbyChimamanda Ngozi Adichieinunknownlanguage</td></tr><tr><td>No One Belongs Here More Than YoubyMiranda Julyinunknownlanguage</td></tr><tr><td>The IslandbyElin Hilderbrandinunknownlanguage</td></tr><tr><td>Agnes GreybyAnne Brontë, Angeline Goreauinunknownlanguage</td></tr><tr><td>The Birth HousebyAmi McKayinunknownlanguage</td></tr><tr><td>The Ripper (The Vampire Diaries: Stefan&#39;s Diaries, #4)byL.J. Smith, Kevin Williamson, Julie Plecinunknownlanguage</td></tr><tr><td>Tales from a Not-So-Popular Party Girl (Dork Diaries, #2)byRachel Renée Russellinunknownlanguage</td></tr><tr><td>Farmer Boy (Little House, #3)byLaura Ingalls Wilder, Garth Williamsinunknownlanguage</td></tr><tr><td>Start with Why: How Great Leaders Inspire Everyone to Take ActionbySimon Sinekinunknownlanguage</td></tr><tr><td>Born Free: A Lioness of Two Worlds (Story of Elsa, #1)byJoy Adamsoninunknownlanguage</td></tr><tr><td>The Beautiful and DamnedbyF. Scott Fitzgeraldinunknownlanguage</td></tr><tr><td>ConfessionsbyAugustine of Hippo, Henry Chadwick, Albert Cook Outlerinunknownlanguage</td></tr><tr><td>Our Souls at NightbyKent Harufinunknownlanguage</td></tr><tr><td>JewelbyBret Lottinunknownlanguage</td></tr><tr><td>One True ThingbyAnna Quindleninunknownlanguage</td></tr><tr><td>Calico JoebyJohn Grishaminunknownlanguage</td></tr><tr><td>Just So StoriesbyRudyard Kiplinginunknownlanguage</td></tr><tr><td>Camera Lucida: Reflections on PhotographybyRoland Barthes, Richard Howardinunknownlanguage</td></tr><tr><td>The Philosophy of Andy Warhol (From A to B and Back Again)byAndy Warholinunknownlanguage</td></tr><tr><td>Desiring God: Meditations of a Christian HedonistbyJohn Piperinunknownlanguage</td></tr><tr><td>UnWholly (Unwind, #2)byNeal Shustermaninunknownlanguage</td></tr><tr><td>The Road Not Taken and Other PoemsbyRobert Frostinunknownlanguage</td></tr><tr><td>The Collected PoemsbySylvia Plath, Ted Hughesinunknownlanguage</td></tr><tr><td>The Mastery of Love: A Practical Guide to the Art of Relationship --Toltec Wisdom BookbyMiguel Ruizinunknownlanguage</td></tr><tr><td>Secrets of the Millionaire Mind: Mastering the Inner Game of WealthbyT. Harv Ekerinunknownlanguage</td></tr><tr><td>Forgotten God: Reversing Our Tragic Neglect of the Holy SpiritbyFrancis Chan, Danae Yankoskiinunknownlanguage</td></tr><tr><td>Rich Man, Poor ManbyIrwin Shawinunknownlanguage</td></tr><tr><td>What She KnewbyGilly Macmillaninunknownlanguage</td></tr><tr><td>A Modest ProposalbyJonathan Swiftinunknownlanguage</td></tr><tr><td>Never Eat Alone: And Other Secrets to Success, One Relationship at a TimebyKeith Ferrazziinunknownlanguage</td></tr><tr><td>Eva LunabyIsabel Allende, Margaret Sayers Pedeninunknownlanguage</td></tr><tr><td>The 8th Confession (Women&#39;s Murder Club, #8)byJames Patterson, Maxine Paetroinunknownlanguage</td></tr><tr><td>Lady Knight (Protector of the Small, #4)byTamora Pierceinunknownlanguage</td></tr><tr><td>No One Here Gets Out AlivebyDanny Sugerman, Jerry Hopkinsinunknownlanguage</td></tr><tr><td>Black Swan GreenbyDavid Mitchellinunknownlanguage</td></tr><tr><td>A Girl Named ZippybyHaven Kimmelinunknownlanguage</td></tr><tr><td>The Vampire&#39;s Assistant (Cirque Du Freak, #2)byDarren Shaninunknownlanguage</td></tr><tr><td>Llama Llama Red PajamabyAnna Dewdneyinunknownlanguage</td></tr><tr><td>Hocus PocusbyKurt Vonnegut Jr.inunknownlanguage</td></tr><tr><td>The Checklist Manifesto: How to Get Things RightbyAtul Gawandeinunknownlanguage</td></tr><tr><td>The Pioneer Woman Cooks: Recipes from an Accidental Country GirlbyRee Drummondinunknownlanguage</td></tr><tr><td>K is for Killer (Kinsey Millhone, #11)bySue Graftoninunknownlanguage</td></tr><tr><td>BloodlinebySidney Sheldoninunknownlanguage</td></tr><tr><td>Ghost Soldiers: The Epic Account of World War II&#39;s Greatest Rescue MissionbyHampton Sidesinunknownlanguage</td></tr><tr><td>Beauty and the Beast (Disney)byTeddy Slater, Ron Dias, Ric Gonzálezinunknownlanguage</td></tr><tr><td>The RevenantbyMichael Punkeinunknownlanguage</td></tr><tr><td>The Innovator&#39;s Dilemma: The Revolutionary Book that Will Change the Way You Do Business (Collins Business Essentials)byClayton M. Christenseninunknownlanguage</td></tr><tr><td>A Course in MiraclesbyFoundation for Inner Peaceinunknownlanguage</td></tr><tr><td>The Power of Intention: Learning to Co-create Your World Your WaybyWayne W. Dyerinunknownlanguage</td></tr><tr><td>The Practice of the Presence of GodbyBrother Lawrenceinunknownlanguage</td></tr><tr><td>Second Son (Jack Reacher, #15.5)byLee Childinunknownlanguage</td></tr><tr><td>The Real Mother GoosebyBlanche Fisher Wrightinunknownlanguage</td></tr><tr><td>Richard IIIbyWilliam Shakespeare, John Jowettinunknownlanguage</td></tr><tr><td>The Name of the Star (Shades of London, #1)byMaureen Johnsoninunknownlanguage</td></tr><tr><td>Keeping You a SecretbyJulie Anne Petersinunknownlanguage</td></tr><tr><td>Harry Potter Page to Screen: The Complete Filmmaking JourneybyBob McCabeinunknownlanguage</td></tr><tr><td>The Grouchy LadybugbyEric Carleinunknownlanguage</td></tr><tr><td>Sookie Stackhouse 7-copy Boxed Set (Sookie Stackhouse, #1-7)byCharlaine Harrisinunknownlanguage</td></tr><tr><td>A Game of Thrones / A Clash of Kings (A Song of Ice and Fire, #1-2)byGeorge R.R. Martininunknownlanguage</td></tr><tr><td>Eaters of the DeadbyMichael Crichtoninunknownlanguage</td></tr><tr><td>A Good Man is Hard to Find and Other StoriesbyFlannery O&#39;Connorinunknownlanguage</td></tr><tr><td>Over Sea, Under Stone (The Dark Is Rising, #1)bySusan Cooperinunknownlanguage</td></tr><tr><td>The White Dragon (Pern, #3)byAnne McCaffreyinunknownlanguage</td></tr><tr><td>The Shock of the NewbyRobert Hughesinunknownlanguage</td></tr><tr><td>Thr3ebyTed Dekkerinunknownlanguage</td></tr><tr><td>The Lion&#39;s Game (John Corey, #2)byNelson DeMilleinunknownlanguage</td></tr><tr><td>Little ChildrenbyTom Perrottainunknownlanguage</td></tr><tr><td>The Sandcastle GirlsbyChris Bohjalianinunknownlanguage</td></tr><tr><td>Otherwise Known as Sheila the Great (Fudge #2)byJudy Blumeinunknownlanguage</td></tr><tr><td>The Power of a Praying WomanbyStormie Omartianinunknownlanguage</td></tr><tr><td>A Spell for Chameleon (Xanth #1)byPiers Anthonyinunknownlanguage</td></tr><tr><td>Hand, Hand, Fingers, ThumbbyAl Perkins, Eric Gurneyinunknownlanguage</td></tr><tr><td>The Middle PlacebyKelly Corriganinunknownlanguage</td></tr><tr><td>DrownbyJunot Díazinunknownlanguage</td></tr><tr><td>A Book of Five Rings: The Classic Guide to StrategybyMiyamoto Musashi, Victor Harrisinunknownlanguage</td></tr><tr><td>Tick TockbyDean Koontzinunknownlanguage</td></tr><tr><td>Scott Pilgrim, Volume 3: Scott Pilgrim &amp; The Infinite SadnessbyBryan Lee O&#39;Malleyinunknownlanguage</td></tr><tr><td>Experiencing God: Knowing and Doing the Will of God, WorkbookbyHenry T. Blackaby, Claude V. King, Richard Blackabyinunknownlanguage</td></tr><tr><td>Little Altars EverywherebyRebecca Wellsinunknownlanguage</td></tr><tr><td>Four BlondesbyCandace Bushnellinunknownlanguage</td></tr><tr><td>There Was An Old Lady Who Swallowed A Fly (Classic Books)byPam Adamsinunknownlanguage</td></tr><tr><td>Ramona Forever (Ramona, #7)byBeverly Clearyinunknownlanguage</td></tr><tr><td>Anne Frank: Beyond the Diary - A Photographic RemembrancebyRuud van der Rol, Rian Verhoeven, Anna Quindlen, Anne Frank, Tony Langham, Plym Petersinunknownlanguage</td></tr><tr><td>The Far Side Gallery 3byGary Larsoninunknownlanguage</td></tr><tr><td>When Things Fall Apart: Heart Advice for Difficult TimesbyPema Chödröninunknownlanguage</td></tr><tr><td>The Three Little Pigs (Disney Classic)byAl Dempster, Milt Banta, Golden Books, Walt Disney Companyinunknownlanguage</td></tr><tr><td>Andy Goldsworthy: A Collaboration with NaturebyAndy Goldsworthyinunknownlanguage</td></tr><tr><td>Scott Pilgrim, Volume 4: Scott Pilgrim Gets It TogetherbyBryan Lee O&#39;Malley, Steve Buccellatoinunknownlanguage</td></tr><tr><td>Avalon HighbyMeg Cabotinunknownlanguage</td></tr><tr><td>Summer IslandbyKristin Hannahinunknownlanguage</td></tr><tr><td>Bringing Down the House: The Inside Story of Six M.I.T. Students Who Took Vegas for MillionsbyBen Mezrichinunknownlanguage</td></tr><tr><td>The Next Best ThingbyJennifer Weinerinunknownlanguage</td></tr><tr><td>Harry Potter: A Pop-Up Book: Based on the Film PhenomenonbyAndrew Williamson, Andrew Williamsoninunknownlanguage</td></tr><tr><td>Portrait in SepiabyIsabel Allende, Margaret Sayers Pedeninunknownlanguage</td></tr><tr><td>Tunnels of Blood (Cirque Du Freak, #3)byDarren Shaninunknownlanguage</td></tr><tr><td>Rachael Ray 365: No Repeats: A Year of Deliciously Different DinnersbyRachael Rayinunknownlanguage</td></tr><tr><td>Uncommon Criminals (Heist Society, #2)byAlly Carterinunknownlanguage</td></tr><tr><td>Love, Stargirl (Stargirl, #2)byJerry Spinelliinunknownlanguage</td></tr><tr><td>Don&#39;t Waste Your LifebyJohn Piperinunknownlanguage</td></tr><tr><td>Book of Mormon, Doctrine and Covenants, Pearl of Great PricebyThe Church of Jesus Christ of Latter-day Saintsinunknownlanguage</td></tr><tr><td>MainebyJ. Courtney Sullivaninunknownlanguage</td></tr><tr><td>These Things HiddenbyHeather Gudenkaufinunknownlanguage</td></tr><tr><td>Fix-It and Forget-It Cookbook: Feasting with Your Slow CookerbyDawn J. Ranck, Phyllis Pellman Goodinunknownlanguage</td></tr><tr><td>Today Will Be DifferentbyMaria Sempleinunknownlanguage</td></tr><tr><td>Anatomy for the ArtistbyJenő Barcsayinunknownlanguage</td></tr><tr><td>The Lion King: A little Golden BookbyJustine Korman Fontes, Don Williams, Walt Disney Companyinunknownlanguage</td></tr><tr><td>Dumbo: A Little Golden BookbyWalt Disney Companyinunknownlanguage</td></tr><tr><td>Phantom (Harry Hole, #9)byJo Nesbø, Don Bartlettinunknownlanguage</td></tr><tr><td>The Complete Stories and PoemsbyLewis Carrollinunknownlanguage</td></tr><tr><td>How to Be a Domestic Goddess: Baking and the Art of Comfort CookingbyNigella Lawsoninunknownlanguage</td></tr><tr><td>Rebecca of Sunnybrook FarmbyKate Douglas Wiggininunknownlanguage</td></tr><tr><td>White: The Great Pursuit (The Circle, #3)byTed Dekkerinunknownlanguage</td></tr><tr><td>Empire of the Summer Moon: Quanah Parker and the Rise and Fall of the Comanches, the Most Powerful Indian Tribe in American HistorybyS.C. Gwynneinunknownlanguage</td></tr><tr><td>Smiley&#39;s PeoplebyJohn le Carréinunknownlanguage</td></tr><tr><td>Piano/Vocal/Guitar Sheet Music: The Chronicles of Narnia: The Lion, the Witch and The WardrobebyHarry Gregson-Williamsinunknownlanguage</td></tr><tr><td>Reviving Ophelia: Saving the Selves of Adolescent GirlsbyMary Pipherinunknownlanguage</td></tr><tr><td>Half Asleep in Frog PajamasbyTom Robbinsinunknownlanguage</td></tr><tr><td>Child of GodbyCormac McCarthyinunknownlanguage</td></tr><tr><td>One Fifth AvenuebyCandace Bushnell, Donna Murphyinunknownlanguage</td></tr><tr><td>The Last Sin EaterbyFrancine Riversinunknownlanguage</td></tr><tr><td>Heavier Than Heaven: A Biography of Kurt CobainbyCharles R. Crossinunknownlanguage</td></tr><tr><td>Fortune&#39;s RocksbyAnita Shreveinunknownlanguage</td></tr><tr><td>The Undercover EconomistbyTim Harfordinunknownlanguage</td></tr><tr><td>The Heretic&#39;s DaughterbyKathleen Kentinunknownlanguage</td></tr><tr><td>Heat: An Amateur&#39;s Adventures as Kitchen Slave, Line Cook, Pasta-Maker, and Apprentice to a Dante-Quoting Butcher in TuscanybyBill Bufordinunknownlanguage</td></tr><tr><td>Now, Discover Your StrengthsbyMarcus Buckingham, Donald O. Cliftoninunknownlanguage</td></tr><tr><td>PulpbyCharles Bukowskiinunknownlanguage</td></tr><tr><td>Dear Life: StoriesbyAlice Munroinunknownlanguage</td></tr><tr><td>Five Little Monkeys Jumping on the BedbyEileen Christelowinunknownlanguage</td></tr><tr><td>A Return to Love: Reflections on the Principles of &quot;A Course in Miracles&quot;byMarianne Williamsoninunknownlanguage</td></tr><tr><td>Avatar: The Last Airbender (The Promise, #1)byGene Luen Yang, Bryan Konietzko, Michael Dante DiMartino, Gurihiruinunknownlanguage</td></tr><tr><td>Angels and Demons / The Da Vinci Code (Robert Langdon, #1-2)byDan Browninunknownlanguage</td></tr><tr><td>Light on SnowbyAnita Shreveinunknownlanguage</td></tr><tr><td>The Lords of DisciplinebyPat Conroyinunknownlanguage</td></tr><tr><td>The Beautiful Mystery (Chief Inspector Armand Gamache, #8)byLouise Pennyinunknownlanguage</td></tr><tr><td>The Diamond Throne (The Elenium, #1)byDavid Eddingsinunknownlanguage</td></tr><tr><td>Modern LoversbyEmma Straubinunknownlanguage</td></tr><tr><td>Servant of the BonesbyAnne Riceinunknownlanguage</td></tr><tr><td>Ironside (Modern Faerie Tales, #3)byHolly Blackinunknownlanguage</td></tr><tr><td>The Prisoner of Cell 25 (Michael Vey, #1)byRichard Paul Evansinunknownlanguage</td></tr><tr><td>The Souls of Black FolkbyW.E.B. Du Bois, Donald B. Gibson, Monica W. Elbertinunknownlanguage</td></tr><tr><td>The CastawaysbyElin Hilderbrandinunknownlanguage</td></tr><tr><td>Eragon &amp; Eldest (Inheritance, #1-2)byChristopher Paoliniinunknownlanguage</td></tr><tr><td>Behind the Scenes at the MuseumbyKate Atkinsoninunknownlanguage</td></tr><tr><td>The Emperor&#39;s ChildrenbyClaire Messudinunknownlanguage</td></tr><tr><td>NYPD Red (NYPD Red, #1)byJames Patterson, Marshall Karpinunknownlanguage</td></tr><tr><td>Chicken Soup with Rice: A Book of Months (The Nutshell Library)byMaurice Sendakinunknownlanguage</td></tr><tr><td>The Irresistible Revolution: Living as an Ordinary RadicalbyShane Claiborneinunknownlanguage</td></tr><tr><td>Brain Rules: 12 Principles for Surviving and Thriving at Work, Home, and SchoolbyJohn Medinainunknownlanguage</td></tr><tr><td>The Pilgrims of Rayne (Pendragon, #8)byD.J. MacHaleinunknownlanguage</td></tr><tr><td>Forever Princess (The Princess Diaries, #10)byMeg Cabotinunknownlanguage</td></tr><tr><td>In One PersonbyJohn Irvinginunknownlanguage</td></tr><tr><td>The FogbyJames Herbertinunknownlanguage</td></tr><tr><td>Unlimited Power : The New Science Of Personal AchievementbyAnthony Robbins, Kenneth H. Blanchard, Jason Wintersinunknownlanguage</td></tr><tr><td>Why Be Happy When You Could Be Normal?byJeanette Wintersoninunknownlanguage</td></tr><tr><td>Velvet Elvis: Repainting the Christian FaithbyRob Bellinunknownlanguage</td></tr><tr><td>The Shunning (The Heritage of Lancaster County, #1)byBeverly  Lewisinunknownlanguage</td></tr><tr><td>Gates of Fire: An Epic Novel of the Battle of ThermopylaebySteven Pressfieldinunknownlanguage</td></tr><tr><td>Rapture in Death (In Death, #4)byJ.D. Robb, Susan Erickseninunknownlanguage</td></tr><tr><td>Dracula (Marvel Illustrated)byRoy Thomas, Dick Giordano, Mark D. Beazley, Bram Stokerinunknownlanguage</td></tr><tr><td>The Air He Breathes (Elements, #1)byBrittainy C. Cherryinunknownlanguage</td></tr><tr><td>The Glass Magician (The Paper Magician Trilogy, #2)byCharlie N. Holmberginunknownlanguage</td></tr><tr><td>The Little MermaidbyMichael Teitelbaum, Sue DiCiccoinunknownlanguage</td></tr><tr><td>LifeguardbyJames Patterson, Andrew Grossinunknownlanguage</td></tr><tr><td>Lilly&#39;s Purple Plastic PursebyKevin Henkesinunknownlanguage</td></tr><tr><td>The Missing PiecebyShel Silversteininunknownlanguage</td></tr><tr><td>Jesus the ChristbyJames E. Talmageinunknownlanguage</td></tr><tr><td>ShirleybyCharlotte Brontë, Lucasta Miller, collaborative, Jessica Coxinunknownlanguage</td></tr><tr><td>Villa IncognitobyTom Robbinsinunknownlanguage</td></tr><tr><td>The Little Red Hen (Little Golden Book)byDiane Muldrow, J.P. Millerinunknownlanguage</td></tr><tr><td>LethalbySandra Browninunknownlanguage</td></tr><tr><td>Game Change: Obama and the Clintons, McCain and Palin, and the Race of a LifetimebyJohn Heilemann, Mark Halperininunknownlanguage</td></tr><tr><td>Percy Jackson and the Olympians Boxed Set (Percy Jackson and the Olympians, #1-5)byRick Riordan, Tkinunknownlanguage</td></tr><tr><td>Trials of Death (Cirque Du Freak, #5)byDarren Shaninunknownlanguage</td></tr><tr><td>Dragonsdawn (Pern, #9)byAnne McCaffreyinunknownlanguage</td></tr><tr><td>I Kissed Dating GoodbyebyJoshua Harrisinunknownlanguage</td></tr><tr><td>Veganomicon: The Ultimate Vegan CookbookbyIsa Chandra Moskowitz, Terry Hope Romeroinunknownlanguage</td></tr><tr><td>In His StepsbyCharles M. Sheldoninunknownlanguage</td></tr><tr><td>Stolen Innocence: My Story of Growing Up in a Polygamous Sect, Becoming a Teenage Bride, and Breaking Free of Warren JeffsbyElissa Wall, Lisa Pulitzerinunknownlanguage</td></tr><tr><td>The Fallen Star (Fallen Star, #1)byJessica Sorenseninunknownlanguage</td></tr><tr><td>The Illearth War (The Chronicles of Thomas Covenant the Unbeliever, #2)byStephen R. Donaldsoninunknownlanguage</td></tr><tr><td>The Mysterious Benedict Society and the Prisoner&#39;s Dilemma (The Mysterious Benedict Society, #3)byTrenton Lee Stewart, Del Royinunknownlanguage</td></tr><tr><td>The Pursuit of HappynessbyChris Gardnerinunknownlanguage</td></tr><tr><td>Unfinished Tales of Númenor and Middle-EarthbyJ.R.R. Tolkien, Christopher Tolkieninunknownlanguage</td></tr><tr><td>Fancy NancybyJane O&#39;Connor, Robin Preiss Glasserinunknownlanguage</td></tr><tr><td>A Fall of MarigoldsbySusan Meissnerinunknownlanguage</td></tr><tr><td>Codependent No More: How to Stop Controlling Others and Start Caring for YourselfbyMelody Beattieinunknownlanguage</td></tr><tr><td>Jimmy Corrigan, the Smartest Kid on EarthbyChris Wareinunknownlanguage</td></tr><tr><td>The Story of Beautiful GirlbyRachel Simoninunknownlanguage</td></tr><tr><td>A Matter of HonorbyJeffrey Archerinunknownlanguage</td></tr><tr><td>A Sand County Almanac and Sketches Here and TherebyAldo Leopoldinunknownlanguage</td></tr><tr><td>Lassie Come-HomebyEric Knight, Marguerite Kirmseinunknownlanguage</td></tr><tr><td>All Around the TownbyMary Higgins Clarkinunknownlanguage</td></tr><tr><td>Fantastic VoyagebyIsaac Asimovinunknownlanguage</td></tr><tr><td>The Harbinger: The Ancient Mystery that Holds the Secret of America&#39;s FuturebyJonathan Cahninunknownlanguage</td></tr><tr><td>Clara and Mr. TiffanybySusan Vreelandinunknownlanguage</td></tr><tr><td>Raymond E. Feist&#39;s Magician MasterbyBryan J.L. Glass, Tim Seeley, Hugo Petrus, Raymond E. Feistinunknownlanguage</td></tr><tr><td>Lunar ParkbyBret Easton Ellisinunknownlanguage</td></tr><tr><td>Save MebyLisa Scottolineinunknownlanguage</td></tr><tr><td>TuesdaybyDavid Wiesnerinunknownlanguage</td></tr><tr><td>Slouching Towards BethlehembyJoan Didioninunknownlanguage</td></tr><tr><td>Rise of a Merchant Prince (The Serpentwar Saga, #2)byRaymond E. Feistinunknownlanguage</td></tr><tr><td>The Vampire Prince (Cirque Du Freak, #6)byDarren Shaninunknownlanguage</td></tr><tr><td>The Gold CoastbyNelson DeMilleinunknownlanguage</td></tr><tr><td>Twilight EyesbyDean Koontzinunknownlanguage</td></tr><tr><td>Domes of Fire (The Tamuli, #1)byDavid Eddingsinunknownlanguage</td></tr><tr><td>An Illustrated Life: Drawing Inspiration From The Private Sketchbooks Of Artists, Illustrators And DesignersbyDanny Gregoryinunknownlanguage</td></tr><tr><td>The Creative License: Giving Yourself Permission to Be The Artist You Truly ArebyDanny Gregoryinunknownlanguage</td></tr><tr><td>Plan B: Further Thoughts on FaithbyAnne Lamottinunknownlanguage</td></tr><tr><td>River Secrets (The Books of Bayern, #3)byShannon Haleinunknownlanguage</td></tr><tr><td>Gang Leader for a Day: A Rogue Sociologist Takes to the StreetsbySudhir Venkateshinunknownlanguage</td></tr><tr><td>Developing the Leader Within YoubyJohn C. Maxwellinunknownlanguage</td></tr><tr><td>Polgara the Sorceress (Malloreon)byDavid Eddings, Leigh Eddingsinunknownlanguage</td></tr><tr><td>The Edible WomanbyMargaret Atwoodinunknownlanguage</td></tr><tr><td>The Preacher (Patrik Hedström, #2)byCamilla Läckberg, Steven T. Murrayinunknownlanguage</td></tr><tr><td>MidnightbyDean Koontzinunknownlanguage</td></tr><tr><td>A Simple PlanbyScott B. Smithinunknownlanguage</td></tr><tr><td>Curse of the Bane (The Last Apprentice / Wardstone Chronicles, #2)byJoseph Delaney, Patrick  Arrasmithinunknownlanguage</td></tr><tr><td>The Gift (Witch &amp; Wizard, #2)byJames Patterson, Ned Rustinunknownlanguage</td></tr><tr><td>Snow White and the Seven Dwarfs (Little Golden Book)byWalt Disney Companyinunknownlanguage</td></tr><tr><td>Angel FallsbyKristin Hannahinunknownlanguage</td></tr><tr><td>Mao&#39;s Last DancerbyLi Cunxininunknownlanguage</td></tr><tr><td>The Constitution of the United States of AmericabyFounding Fathersinunknownlanguage</td></tr><tr><td>Gustav Klimt: 1862-1918byGilles Néretinunknownlanguage</td></tr><tr><td>The Tibetan Book of Living and DyingbySogyal Rinpoche, Andrew Harveyinunknownlanguage</td></tr><tr><td>EnchantmentbyOrson Scott Cardinunknownlanguage</td></tr><tr><td>The Starter WifebyGigi Levangie Grazerinunknownlanguage</td></tr><tr><td>Zen of Seeing: Seeing/Drawing as MeditationbyFrederick Franckinunknownlanguage</td></tr><tr><td>The Dragonriders of Pern (Dragonriders of Pern, #1-3)byAnne McCaffreyinunknownlanguage</td></tr><tr><td>E is for Evidence (Kinsey Millhone, #5)bySue Graftoninunknownlanguage</td></tr><tr><td>The Fifth Discipline: The Art &amp; Practice of The Learning OrganizationbyPeter M. Sengeinunknownlanguage</td></tr><tr><td>Straight TalkingbyJane Greeninunknownlanguage</td></tr><tr><td>Dauntless (The Lost Fleet, #1)byJack Campbellinunknownlanguage</td></tr><tr><td>Me &amp; EmmabyElizabeth Flockinunknownlanguage</td></tr><tr><td>Diane Arbus: MonographbyDiane Arbus, Stan Grossfeld, Doon Arbus, Marvin Israelinunknownlanguage</td></tr><tr><td>A Color of His OwnbyLeo Lionniinunknownlanguage</td></tr><tr><td>Until You (Fall Away, #1.5)byPenelope Douglas, Nelson Hobbsinunknownlanguage</td></tr><tr><td>What Got You Here Won&#39;t Get You There: How Successful People Become Even More SuccessfulbyMarshall Goldsmith, Mark Reiterinunknownlanguage</td></tr><tr><td>The Effective Executive: The Definitive Guide to Getting the Right Things Done (Harperbusiness Essentials)byPeter F. Druckerinunknownlanguage</td></tr><tr><td>The Law of Attraction: The Basics of the Teachings of AbrahambyEsther Hicks, Jerry Hicksinunknownlanguage</td></tr><tr><td>Hunters of the Dusk (Cirque Du Freak, #7)byDarren Shaninunknownlanguage</td></tr><tr><td>By the Light of the MoonbyDean Koontzinunknownlanguage</td></tr><tr><td>A Summer AffairbyElin Hilderbrandinunknownlanguage</td></tr><tr><td>Mariel of Redwall (Redwall, #4)byBrian Jacques, Gary Chalkinunknownlanguage</td></tr><tr><td>And the Band Played On: Politics, People, and the AIDS EpidemicbyRandy Shilts, William Greiderinunknownlanguage</td></tr><tr><td>Allies of the Night (Cirque du Freak, #8)byDarren Shaninunknownlanguage</td></tr><tr><td>DarknessbyJohn Saulinunknownlanguage</td></tr><tr><td>Audrey RosebyFrank De Felittainunknownlanguage</td></tr><tr><td>Skeletons at the FeastbyChris Bohjalianinunknownlanguage</td></tr><tr><td>L is for Lawless (Kinsey Millhone, #12)bySue Graftoninunknownlanguage</td></tr><tr><td>If You Give a Pig a PartybyLaura Joffe Numeroff, Felicia Bondinunknownlanguage</td></tr><tr><td>Is Your Mama a Llama?byDeborah Guarino, Steven Kellogginunknownlanguage</td></tr><tr><td>Heads in Beds: A Reckless Memoir of Hotels, Hustles, and So-Called HospitalitybyJacob Tomskyinunknownlanguage</td></tr><tr><td>Dali: The PaintingsbyRobert Descharnes, Gilles Néretinunknownlanguage</td></tr><tr><td>Eight Hundred GrapesbyLaura Daveinunknownlanguage</td></tr><tr><td>Shatterproof (The 39 Clues: Cahills vs. Vespers, #4)byRoland Smithinunknownlanguage</td></tr><tr><td>Castle in the Air (Howl&#39;s Moving Castle, #2)byDiana Wynne Jonesinunknownlanguage</td></tr><tr><td>Reborn! Vol. 01: Reborn Arrives! (Reborn!, #1)byAkira Amano, JN Productions, Frances E. Wallinunknownlanguage</td></tr><tr><td>All Things Wise and WonderfulbyJames Herriotinunknownlanguage</td></tr><tr><td>Love&#39;s Executioner and Other Tales of PsychotherapybyIrvin D. Yalominunknownlanguage</td></tr><tr><td>The VisitationbyFrank E. Perettiinunknownlanguage</td></tr><tr><td>Leadership and Self-Deception: Getting Out of the BoxbyThe Arbinger Instituteinunknownlanguage</td></tr><tr><td>Killers of the Dawn (Cirque Du Freak, #9)byDarren Shaninunknownlanguage</td></tr><tr><td>Tramp for the LordbyCorrie ten Boominunknownlanguage</td></tr><tr><td>If You Take a Mouse to the MoviesbyLaura Joffe Numeroff, Felicia Bondinunknownlanguage</td></tr><tr><td>Alex Cross, Run (Alex Cross, #20)byJames Pattersoninunknownlanguage</td></tr><tr><td>Girl Walks into a Bar . . .: Comedy Calamities, Dating Disasters, and a Midlife MiraclebyRachel Dratchinunknownlanguage</td></tr><tr><td>The Last Seven Months of Anne FrankbyWilly Lindwerinunknownlanguage</td></tr><tr><td>Beauty and the BeastbyWalt Disney Company, Ellen Titlebauminunknownlanguage</td></tr><tr><td>Night of the Soul Stealer (The Last Apprentice / Wardstone Chronicles, #3)byJoseph Delaney, Patrick  Arrasmithinunknownlanguage</td></tr><tr><td>The Gift of Fear: Survival Signals That Protect Us from ViolencebyGavin de Beckerinunknownlanguage</td></tr><tr><td>Don&#39;t You CrybyMary Kubicainunknownlanguage</td></tr><tr><td>The Master Butchers Singing ClubbyLouise Erdrichinunknownlanguage</td></tr><tr><td>The Great Train RobberybyMichael Crichtoninunknownlanguage</td></tr><tr><td>Safe HarbourbyDanielle Steelinunknownlanguage</td></tr><tr><td>The Russia HousebyJohn le Carréinunknownlanguage</td></tr><tr><td>Just Me in the Tub (Mercer Mayer&#39;s Little Critter)byGina Mayer, Mercer Mayerinunknownlanguage</td></tr><tr><td>Cold FirebyDean Koontzinunknownlanguage</td></tr><tr><td>Shugo Chara!, Vol. 1: Who Do You Want to Be? (Shugo Chara!, #1)byPeach-Pitinunknownlanguage</td></tr><tr><td>Your Inner Fish: A Journey into the 3.5-Billion-Year History of the Human BodybyNeil Shubininunknownlanguage</td></tr><tr><td>The Dip: A Little Book That Teaches You When to Quit (and When to Stick)bySeth Godininunknownlanguage</td></tr><tr><td>Arsenic and Old LacebyJoseph Kesselringinunknownlanguage</td></tr><tr><td>Sometimes a Great NotionbyKen Keseyinunknownlanguage</td></tr><tr><td>The Candy Shop War (The Candy Shop War, #1)byBrandon Mullinunknownlanguage</td></tr><tr><td>Why Mosquitoes Buzz in People&#39;s EarsbyVerna Aardema, Leo Dillon, Diane Dilloninunknownlanguage</td></tr><tr><td>The New Best RecipebyCook&#39;s Illustrated Magazine, John Burgoyne, Carl Tremblayinunknownlanguage</td></tr><tr><td>The Proper Care and Feeding of HusbandsbyLaura C. Schlessingerinunknownlanguage</td></tr><tr><td>Charlie Bone and the Castle of Mirrors (The Children of the Red King, #4)byJenny Nimmoinunknownlanguage</td></tr><tr><td>The Sword of Shannara Trilogy (Shannara, #1-3)byTerry Brooksinunknownlanguage</td></tr><tr><td>Maybe in Another LifebyTaylor Jenkins Reidinunknownlanguage</td></tr><tr><td>Frosty the Snowman (Frosty the Snowman)byDiane Muldrowinunknownlanguage</td></tr><tr><td>The Queen of Attolia (The Queen&#39;s Thief, #2)byMegan Whalen Turnerinunknownlanguage</td></tr><tr><td>Citizen Soldiers: The U. S. Army from the Normandy Beaches to the Bulge to the Surrender of GermanybyStephen E. Ambroseinunknownlanguage</td></tr><tr><td>The Vagina MonologuesbyEve Ensler, Gloria Steineminunknownlanguage</td></tr><tr><td>Not My DaughterbyBarbara Delinskyinunknownlanguage</td></tr><tr><td>QuentinsbyMaeve Binchyinunknownlanguage</td></tr><tr><td>Adam BedebyGeorge Eliot, Joanna Trollope, Hugh Osborneinunknownlanguage</td></tr><tr><td>One Last Thing Before I GobyJonathan Tropperinunknownlanguage</td></tr><tr><td>By the Time You Read This, I&#39;ll Be DeadbyJulie Anne Peters, C.J. Bottinunknownlanguage</td></tr><tr><td>City of Night (Dean Koontz&#39;s Frankenstein, #2)byDean Koontz, Ed Gorman, John Bedford Lloydinunknownlanguage</td></tr><tr><td>number9dreambyDavid Mitchellinunknownlanguage</td></tr><tr><td>The Source of Magic (Xanth, #2)byPiers Anthonyinunknownlanguage</td></tr><tr><td>Cities of the Plain (The Border Trilogy, #3)byCormac McCarthyinunknownlanguage</td></tr><tr><td>Disney after Dark (Kingdom Keepers, #1)byRidley Pearson, David Franklandinunknownlanguage</td></tr><tr><td>The Honor of the Queen (Honor Harrington, #2)byDavid Weberinunknownlanguage</td></tr><tr><td>My Sweet Audrina (Audrina, #1)byV.C. Andrewsinunknownlanguage</td></tr><tr><td>My Best Friend&#39;s GirlbyDorothy Koomsoninunknownlanguage</td></tr><tr><td>The Untethered Soul: The Journey Beyond YourselfbyMichael A. Singerinunknownlanguage</td></tr><tr><td>Flyboys: A True Story of CouragebyJames D. Bradleyinunknownlanguage</td></tr><tr><td>HonolulubyAlan Brennertinunknownlanguage</td></tr><tr><td>Bridge of SighsbyRichard Russoinunknownlanguage</td></tr><tr><td>Raven&#39;s Gate (The Gatekeepers, #1)byAnthony Horowitzinunknownlanguage</td></tr><tr><td>Why Evolution Is TruebyJerry A. Coyneinunknownlanguage</td></tr><tr><td>You Are a Badass: How to Stop Doubting Your Greatness and Start Living an Awesome LifebyJen Sinceroinunknownlanguage</td></tr><tr><td>Dragon TearsbyDean Koontzinunknownlanguage</td></tr><tr><td>Grass for His Pillow (Tales of the Otori, #2)byLian Hearninunknownlanguage</td></tr><tr><td>Daisy MillerbyHenry Jamesinunknownlanguage</td></tr><tr><td>Pat the BunnybyDorothy Kunhardtinunknownlanguage</td></tr><tr><td>Harry Potter and the Order of the Phoenix (Harry Potter, #5, Part 1)byJ.K. Rowlinginunknownlanguage</td></tr><tr><td>The Onion FieldbyJoseph Wambaughinunknownlanguage</td></tr><tr><td>The Art of TravelbyAlain de Bottoninunknownlanguage</td></tr><tr><td>Cross Justice (Alex Cross, #23)byJames Pattersoninunknownlanguage</td></tr><tr><td>The 39 Steps (Richard Hannay, #1)byJohn Buchaninunknownlanguage</td></tr><tr><td>The Lake of Souls (Cirque Du Freak, #10)byDarren Shaninunknownlanguage</td></tr><tr><td>Paddy Clarke Ha Ha HabyRoddy Doyleinunknownlanguage</td></tr><tr><td>Charlie Bone and the Hidden King (The Children of the Red King, #5)byJenny Nimmoinunknownlanguage</td></tr><tr><td>30 Days of Night, Vol. 1bySteve Niles, Ben Templesmithinunknownlanguage</td></tr><tr><td>Princess in Training (The Princess Diaries, #6)byMeg Cabotinunknownlanguage</td></tr><tr><td>The Devotion of Suspect XbyKeigo Higashino, Alexander O. Smithinunknownlanguage</td></tr><tr><td>Charlie Bone and the Time Twister (The Children of the Red King, #2)byJenny Nimmoinunknownlanguage</td></tr><tr><td>PornobyIrvine Welshinunknownlanguage</td></tr><tr><td>Tales from a Not-So-Graceful Ice Princess (Dork Diaries, #4)byRachel Renée Russellinunknownlanguage</td></tr><tr><td>Eiger Dreams: Ventures Among Men and MountainsbyJon Krakauerinunknownlanguage</td></tr><tr><td>Belly Laughs: The Naked Truth About Pregnancy and ChildbirthbyJenny McCarthyinunknownlanguage</td></tr><tr><td>Frosty the Snow ManbyJane Werner Watson, Corinne Malverninunknownlanguage</td></tr><tr><td>In Our TimebyErnest Hemingwayinunknownlanguage</td></tr><tr><td>As the Crow FliesbyJeffrey Archerinunknownlanguage</td></tr><tr><td>The DescendantsbyKaui Hart Hemmingsinunknownlanguage</td></tr><tr><td>Crown Duel (Crown &amp; Court #1-2)bySherwood Smithinunknownlanguage</td></tr><tr><td>Remember MebyMary Higgins Clarkinunknownlanguage</td></tr><tr><td>The Silver Palate CookbookbyJulee Rosso, Sheila Lukins, Michael McLaughlininunknownlanguage</td></tr><tr><td>High-RisebyJ.G. Ballardinunknownlanguage</td></tr><tr><td>HollywoodbyCharles Bukowskiinunknownlanguage</td></tr><tr><td>A Son of the CircusbyJohn Irvinginunknownlanguage</td></tr><tr><td>The Shining Ones (The Tamuli, #2)byDavid Eddingsinunknownlanguage</td></tr><tr><td>TrinitybyLeon Urisinunknownlanguage</td></tr><tr><td>A Light in the Window (Mitford Years, #2)byJan Karoninunknownlanguage</td></tr><tr><td>Scuffy the Tugboat (Big Little Golden Book)byGertrude Cramptoninunknownlanguage</td></tr><tr><td>Last to Die (Rizzoli &amp; Isles, #10)byTess Gerritseninunknownlanguage</td></tr><tr><td>KrakenbyChina Miévilleinunknownlanguage</td></tr><tr><td>The Painted BirdbyJerzy Kosińskiinunknownlanguage</td></tr><tr><td>The Twelve ChairsbyIlya Ilf, Eugene Petrov, Maurice Friedberg, John H.C. Richardsoninunknownlanguage</td></tr><tr><td>The FeverbyMegan Abbottinunknownlanguage</td></tr><tr><td>The Millionaire MindbyThomas J. Stanleyinunknownlanguage</td></tr><tr><td>Night World: The Ultimate Fan GuidebyAnnette Pollert, L.J. Smithinunknownlanguage</td></tr><tr><td>Dragonlance Chronicles (Dragonlance #1-3)byMargaret Weis, Tracy Hickmaninunknownlanguage</td></tr><tr><td>From Head to ToebyEric Carleinunknownlanguage</td></tr><tr><td>For the Love: Fighting for Grace in a World of Impossible StandardsbyJen Hatmakerinunknownlanguage</td></tr><tr><td>Loving What Is: Four Questions That Can Change Your LifebyByron Katie, Stephen Mitchellinunknownlanguage</td></tr><tr><td>Unveiled: Tamar (Lineage of Grace #1)byFrancine Riversinunknownlanguage</td></tr><tr><td>The 80/20 Principle: The Secret to Achieving More with LessbyRichard Kochinunknownlanguage</td></tr><tr><td>The SportswriterbyRichard Fordinunknownlanguage</td></tr><tr><td>Grim Tuesday (The Keys to the Kingdom, #2)byGarth Nixinunknownlanguage</td></tr><tr><td>Blue HighwaysbyWilliam Least Heat-Mooninunknownlanguage</td></tr><tr><td>The Miracle of ForgivenessbySpencer W. Kimballinunknownlanguage</td></tr><tr><td>Passion and Purity: Learning to Bring Your Love Life Under Christ&#39;s ControlbyElisabeth Elliotinunknownlanguage</td></tr><tr><td>Seating ArrangementsbyMaggie Shipsteadinunknownlanguage</td></tr><tr><td>The Broom of the SystembyDavid Foster Wallaceinunknownlanguage</td></tr><tr><td>West Side StorybyIrving Shulmaninunknownlanguage</td></tr><tr><td>Queen of the Darkness (The Black Jewels, #3)byAnne Bishopinunknownlanguage</td></tr><tr><td>Axel (Corps Security, #1)byHarper Sloaninunknownlanguage</td></tr><tr><td>Big Red (Big Red, #1)byJim Kjelgaard, Carl Pfeufferinunknownlanguage</td></tr><tr><td>SellevisionbyAugusten Burroughsinunknownlanguage</td></tr><tr><td>3001: The Final Odyssey (Space Odyssey, #4)byArthur C. Clarkeinunknownlanguage</td></tr><tr><td>Prayers for Rain (Kenzie &amp; Gennaro, #5)byDennis Lehaneinunknownlanguage</td></tr><tr><td>The Immortals Boxed Set (The Immortals, #1-3)byAlyson Noelinunknownlanguage</td></tr><tr><td>Black IcebyBecca Fitzpatrickinunknownlanguage</td></tr><tr><td>The Imitation of ChristbyThomas à Kempis, William Benhaminunknownlanguage</td></tr><tr><td>Night of the Living Dummy (Goosebumps, #7)byR.L. Stineinunknownlanguage</td></tr><tr><td>Shards of a Broken Crown (The Serpentwar Saga, #4)byRaymond E. Feistinunknownlanguage</td></tr><tr><td>The Jordan RulesbySam Smith, Doug Grudinunknownlanguage</td></tr><tr><td>If You Want to Walk on Water, You&#39;ve Got to Get Out of the BoatbyJohn Ortberginunknownlanguage</td></tr><tr><td>Willpower: Rediscovering the Greatest Human StrengthbyRoy F. Baumeister, John Tierneyinunknownlanguage</td></tr><tr><td>The Good SoldierbyFord Madox Ford, Kenneth Womack, William Bakerinunknownlanguage</td></tr><tr><td>A Wedding in DecemberbyAnita Shreveinunknownlanguage</td></tr><tr><td>Big Bang: The Origin of the UniversebySimon Singhinunknownlanguage</td></tr><tr><td>You Can Win: A Step by Step Tool for Top AchieversbyShiv Kherainunknownlanguage</td></tr><tr><td>On UglinessbyUmberto Ecoinunknownlanguage</td></tr><tr><td>Shaman&#39;s Crossing (Soldier Son, #1)byRobin Hobbinunknownlanguage</td></tr><tr><td>Figure Drawing for All It&#39;s Worth (How to draw and paint)byAndrew Loomisinunknownlanguage</td></tr><tr><td>The Water is Wide: A MemoirbyPat Conroyinunknownlanguage</td></tr><tr><td>A Separate RealitybyCarlos Castanedainunknownlanguage</td></tr><tr><td>Tom&#39;s Midnight GardenbyPhilippa Pearce, Susan Einziginunknownlanguage</td></tr><tr><td>Brothers Majere (Dragonlance: Preludes, #3)byKevin Steininunknownlanguage</td></tr><tr><td>Why Nations Fail: The Origins of Power, Prosperity, and PovertybyDaron Acemoğlu, James A. Robinsoninunknownlanguage</td></tr><tr><td>The Miracle of Mindfulness: An Introduction to the Practice of MeditationbyThich Nhat Hanhinunknownlanguage</td></tr><tr><td>David Gets In TroublebyDavid Shannoninunknownlanguage</td></tr><tr><td>Twelve Angry MenbyReginald Rose, David Mametinunknownlanguage</td></tr><tr><td>BabbittbySinclair Lewisinunknownlanguage</td></tr><tr><td>The Collected PoemsbyLangston Hughesinunknownlanguage</td></tr><tr><td>Selected StoriesbyO. Henry, Victoria Blakeinunknownlanguage</td></tr><tr><td>The Taste of Home CookbookbyJanet Briggs, Beth Wittlingerinunknownlanguage</td></tr><tr><td>The Dogs of WarbyFrederick Forsythinunknownlanguage</td></tr><tr><td>Necroscope (Necroscope, #1)byBrian Lumleyinunknownlanguage</td></tr><tr><td>You Had Me At HellobyMhairi McFarlaneinunknownlanguage</td></tr><tr><td>The Wheel of Time: Boxed Set #1 (Wheel of Time, #1-3)byRobert Jordaninunknownlanguage</td></tr><tr><td>Something Like FatebySusane Colasantiinunknownlanguage</td></tr><tr><td>Excalibur (The Warlord Chronicles, #3)byBernard Cornwellinunknownlanguage</td></tr><tr><td>The Amber RoombySteve Berryinunknownlanguage</td></tr><tr><td>The Comedy of ErrorsbyWilliam Shakespeareinunknownlanguage</td></tr><tr><td>ZodiacbyRobert Graysmithinunknownlanguage</td></tr><tr><td>The Constant GardenerbyJohn le Carréinunknownlanguage</td></tr><tr><td>A Hidden Fire (Elemental Mysteries, #1)byElizabeth   Hunterinunknownlanguage</td></tr><tr><td>Ultramarathon Man: Confessions of an All-Night RunnerbyDean Karnazesinunknownlanguage</td></tr><tr><td>The Mixed-Up ChameleonbyEric Carleinunknownlanguage</td></tr><tr><td>Burmese DaysbyGeorge Orwellinunknownlanguage</td></tr><tr><td>Jealousy (Strange Angels, #3)byLili St. Crow, Lilith Saintcrowinunknownlanguage</td></tr><tr><td>The Declaration of Independence and The Constitution of the United StatesbyFounding Fathersinunknownlanguage</td></tr><tr><td>The River (Brian&#39;s Saga, #2)byGary Paulseninunknownlanguage</td></tr><tr><td>Facing Your Giants: A David and Goliath Story for Everyday PeoplebyMax Lucadoinunknownlanguage</td></tr><tr><td>Ina May&#39;s Guide to ChildbirthbyIna May Gaskininunknownlanguage</td></tr><tr><td>Anne Frank : The BiographybyMelissa Müller, Rita Kimber, Robert Kimberinunknownlanguage</td></tr><tr><td>A New Song (Mitford Years, #5)byJan Karoninunknownlanguage</td></tr><tr><td>Strange HighwaysbyDean Koontzinunknownlanguage</td></tr><tr><td>Care of the Soul: A Guide for Cultivating Depth and Sacredness in Everyday LifebyThomas  Mooreinunknownlanguage</td></tr><tr><td>Brilliance of the Moon (Tales of the Otori, #3)byLian Hearninunknownlanguage</td></tr><tr><td>Twenty Years After (The D&#39;Artagnan Romances, #2)byAlexandre Dumas, David Coward, Auguste Maquetinunknownlanguage</td></tr><tr><td>The Day Jimmy&#39;s Boa Ate the WashbyTrinka Hakes Noble, Steven Kellogginunknownlanguage</td></tr><tr><td>Under the SkinbyMichel Faberinunknownlanguage</td></tr><tr><td>The Bellmaker (Redwall, #7)byBrian Jacquesinunknownlanguage</td></tr><tr><td>The CodexbyDouglas Prestoninunknownlanguage</td></tr><tr><td>Standing for Something: 10 Neglected Virtues That Will Heal Our Hearts and HomesbyGordon B. Hinckleyinunknownlanguage</td></tr><tr><td>Leading ChangebyJohn P. Kotterinunknownlanguage</td></tr><tr><td>Damaged: The Heartbreaking True Story of a Forgotten ChildbyCathy Glassinunknownlanguage</td></tr><tr><td>A Man in FullbyTom Wolfeinunknownlanguage</td></tr><tr><td>The Declaration (The Declaration, #1)byGemma Malleyinunknownlanguage</td></tr><tr><td>Leven Thumps and the Gateway to Foo (Leven Thumps, #1)byObert Skyeinunknownlanguage</td></tr><tr><td>Runaway Ralph (Ralph S. Mouse, #2)byBeverly Clearyinunknownlanguage</td></tr><tr><td>BlinkbyTed Dekkerinunknownlanguage</td></tr><tr><td>The Smitten Kitchen CookbookbyDeb Perelmaninunknownlanguage</td></tr><tr><td>Honor Among ThievesbyJeffrey Archerinunknownlanguage</td></tr><tr><td>Don&#39;t Die, My LovebyLurlene McDanielinunknownlanguage</td></tr><tr><td>The Defining Decade: Why Your Twenties Matter--And How to Make the Most of Them NowbyMeg Jayinunknownlanguage</td></tr><tr><td>Curious George Rides a BikebyH.A. Reyinunknownlanguage</td></tr><tr><td>Preacher, Volume 7: SalvationbyGarth Ennis, Steve Dilloninunknownlanguage</td></tr><tr><td>How Will You Measure Your Life?byClayton M. Christensen, James Allworth, Karen Dilloninunknownlanguage</td></tr><tr><td>Why We Suck: A Feel Good Guide to Staying Fat, Loud, Lazy and StupidbyDenis Learyinunknownlanguage</td></tr><tr><td>Forever with You (Fixed, #3)byLaurelin Paigeinunknownlanguage</td></tr><tr><td>Sons of Destiny (Cirque Du Freak, #12)byDarren Shaninunknownlanguage</td></tr><tr><td>A Death in SwedenbyKevin Wignallinunknownlanguage</td></tr><tr><td>The Lives of Christopher Chant (Chrestomanci, #2)byDiana Wynne Jonesinunknownlanguage</td></tr><tr><td>The Abstinence TeacherbyTom Perrottainunknownlanguage</td></tr><tr><td>MarianabySusanna Kearsleyinunknownlanguage</td></tr><tr><td>The Pecan ManbyCassie Dandridge Selleckinunknownlanguage</td></tr><tr><td>Life Together: The Classic Exploration of Christian CommunitybyDietrich Bonhoefferinunknownlanguage</td></tr><tr><td>Cold Vengeance (Pendergast, #11)byDouglas Preston, Lincoln Childinunknownlanguage</td></tr><tr><td>Let&#39;s Pretend This Never Happened (Dear Dumb Diary #1)byJim Bentoninunknownlanguage</td></tr><tr><td>The Adventures of Augie MarchbySaul Bellow, Christopher Hitchensinunknownlanguage</td></tr><tr><td>The Google Story: Inside the Hottest Business, Media, and Technology Success of Our TimebyDavid A. Viseinunknownlanguage</td></tr><tr><td>Pillar of Light (The Work and the Glory, #1)byGerald N. Lundinunknownlanguage</td></tr><tr><td>Elixir (Covenant, #3.5)byJennifer L. Armentroutinunknownlanguage</td></tr><tr><td>The OvercoatbyNikolai Gogolinunknownlanguage</td></tr><tr><td>Finally (Willow Falls, #2)byWendy Massinunknownlanguage</td></tr><tr><td>Gathering Prey (Lucas Davenport, #25)byJohn Sandfordinunknownlanguage</td></tr><tr><td>Fresh Wind, Fresh Fire: What Happens When God&#39;s Spirit Invades the Heart of His PeoplebyJim Cymbala, Dean Merrillinunknownlanguage</td></tr><tr><td>Last Chance to SeebyDouglas Adams, Mark Carwardineinunknownlanguage</td></tr><tr><td>Making Ideas Happen: Overcoming the Obstacles Between Vision and RealitybyScott Belskyinunknownlanguage</td></tr><tr><td>I Suck at GirlsbyJustin Halperninunknownlanguage</td></tr><tr><td>Dear Zoo: A Lift-the-Flap BookbyRod Campbellinunknownlanguage</td></tr><tr><td>The Wounded Land (The Second Chronicles of Thomas Covenant, #1)byStephen R. Donaldsoninunknownlanguage</td></tr><tr><td>Darkness Visible: A Memoir of MadnessbyWilliam Styroninunknownlanguage</td></tr><tr><td>In the Shadow of the BanyanbyVaddey Ratnerinunknownlanguage</td></tr><tr><td>Two Graves (Pendergast, #12)byDouglas Preston, Lincoln Childinunknownlanguage</td></tr><tr><td>Arch of Triumph: A Novel of a Man Without a CountrybyErich Maria Remarqueinunknownlanguage</td></tr><tr><td>Cross Bones (Temperance Brennan, #8)byKathy Reichsinunknownlanguage</td></tr><tr><td>Rikki-Tikki-TavibyRudyard Kipling, Jerry Pinkneyinunknownlanguage</td></tr><tr><td>Miracle in the AndesbyNando Parrado, Vince Rauseinunknownlanguage</td></tr><tr><td>Up CountrybyNelson DeMilleinunknownlanguage</td></tr><tr><td>JamberrybyBruce Degeninunknownlanguage</td></tr><tr><td>The Little Red Caboose (Little Golden Book)byMarian Potterinunknownlanguage</td></tr><tr><td>MasterybyRobert Greeneinunknownlanguage</td></tr><tr><td>The LittlesbyJohn Lawrence Peterson, Roberta Carter Clarkinunknownlanguage</td></tr><tr><td>In Harm&#39;s Way: The Sinking of the U.S.S. Indianapolis and the Extraordinary Story of Its SurvivorsbyDoug Stantoninunknownlanguage</td></tr><tr><td>The Siren (The Original Sinners, #1)byTiffany Reiszinunknownlanguage</td></tr><tr><td>HeftbyLiz Mooreinunknownlanguage</td></tr><tr><td>Giada&#39;s Family DinnersbyGiada De Laurentiis, Victoria Pearsoninunknownlanguage</td></tr><tr><td>DoubtbyJohn Patrick Shanleyinunknownlanguage</td></tr><tr><td>Secrets of a Shoe Addict (Shoe Addict, #2)byBeth Harbisoninunknownlanguage</td></tr><tr><td>The Naked God (Night&#39;s Dawn, #3)byPeter F. Hamiltoninunknownlanguage</td></tr><tr><td>Come Back, Amelia BedeliabyPeggy Parish, Wallace Trippinunknownlanguage</td></tr><tr><td>Getting Over ItbyAnna Maxtedinunknownlanguage</td></tr><tr><td>The Happiness Advantage: The Seven Principles of Positive Psychology That Fuel Success and Performance at WorkbyShawn Achorinunknownlanguage</td></tr><tr><td>The Princess and the PeabyJanet Stevens, Hans Christian Anderseninunknownlanguage</td></tr><tr><td>BingebyTyler Oakleyinunknownlanguage</td></tr><tr><td>Lucky UsbyAmy Bloominunknownlanguage</td></tr><tr><td>Sickened: The Memoir of a Munchausen by Proxy ChildhoodbyJulie Gregoryinunknownlanguage</td></tr><tr><td>The Last Time They MetbyAnita Shreveinunknownlanguage</td></tr><tr><td>Eleventh Grade Burns (The Chronicles of Vladimir Tod, #4)byHeather Brewerinunknownlanguage</td></tr><tr><td>The Long Patrol (Redwall, #10)byBrian Jacques, Allan Curlessinunknownlanguage</td></tr><tr><td>The Truth Seeker (O&#39;Malley #3)byDee Hendersoninunknownlanguage</td></tr><tr><td>The Winter Rose (The Tea Rose, #2)byJennifer Donnellyinunknownlanguage</td></tr><tr><td>Oscar et la dame rosebyÉric-Emmanuel Schmittinunknownlanguage</td></tr><tr><td>When Bad Things Happen to Good PeoplebyHarold S. Kushnerinunknownlanguage</td></tr><tr><td>The Art of Simple Food: Notes, Lessons, and Recipes from a Delicious RevolutionbyAlice Watersinunknownlanguage</td></tr><tr><td>Centaur Aisle (Xanth, #4)byPiers Anthonyinunknownlanguage</td></tr><tr><td>The Year of FogbyMichelle Richmondinunknownlanguage</td></tr><tr><td>Our Band Could Be Your Life: Scenes from the American Indie Underground 1981-1991byMichael Azerradinunknownlanguage</td></tr><tr><td>Competitive Strategy: Techniques for Analyzing Industries and CompetitorsbyMichael E. Porterinunknownlanguage</td></tr><tr><td>Systematic Theology: An Introduction to Biblical DoctrinebyWayne A. Grudeminunknownlanguage</td></tr><tr><td>P is for Peril (Kinsey Millhone, #16)bySue Graftoninunknownlanguage</td></tr><tr><td>Empire of Ivory (Temeraire, #4)byNaomi Novikinunknownlanguage</td></tr><tr><td>Daddy&#39;s Little GirlbyMary Higgins Clarkinunknownlanguage</td></tr><tr><td>Presentation Zen: Simple Ideas on Presentation Design and DeliverybyGarr Reynoldsinunknownlanguage</td></tr><tr><td>Goodbye, Columbus and Five Short StoriesbyPhilip Rothinunknownlanguage</td></tr><tr><td>The Personal MBA: Master the Art of BusinessbyJosh Kaufmaninunknownlanguage</td></tr><tr><td>TexasbyJames A. Michenerinunknownlanguage</td></tr><tr><td>Your Best Life Now: 7 Steps to Living at Your Full PotentialbyJoel Osteeninunknownlanguage</td></tr><tr><td>Choosing to SEEbyMary Beth Chapman, Steven Curtis Chapmaninunknownlanguage</td></tr><tr><td>QED: The Strange Theory of Light and MatterbyRichard Feynmaninunknownlanguage</td></tr><tr><td>Defiance (Strange Angels, #4)byLili St. Crow, Lilith Saintcrowinunknownlanguage</td></tr><tr><td>The Madonnas of LeningradbyDebra Deaninunknownlanguage</td></tr><tr><td>The Short Victorious War (Honor Harrington, #3)byDavid Weberinunknownlanguage</td></tr><tr><td>Drinking: A Love StorybyCaroline Knappinunknownlanguage</td></tr><tr><td>Five Weeks in a Balloon (Extraordinary Voyages, #1)byJules Verneinunknownlanguage</td></tr><tr><td>Best Friends for Never (The Clique, #2)byLisi Harrisoninunknownlanguage</td></tr><tr><td>Virgin River (Virgin River, #1)byRobyn Carrinunknownlanguage</td></tr><tr><td>The Whistling SeasonbyIvan Doiginunknownlanguage</td></tr><tr><td>Ralph S. Mouse by Beverly Cleary: Teacher Guide (Novel Units)byGloria Levineinunknownlanguage</td></tr><tr><td>Shakespeare&#39;s Romeo and JulietbyMichael Rosen, Jane Rayinunknownlanguage</td></tr><tr><td>The Killer Inside MebyJim Thompsoninunknownlanguage</td></tr><tr><td>The WeekendersbyMary Kay Andrewsinunknownlanguage</td></tr><tr><td>The Secret AgentbyJoseph Conradinunknownlanguage</td></tr><tr><td>The Wolf and the DovebyKathleen E. Woodiwissinunknownlanguage</td></tr><tr><td>Finding NemobyAndrew Stanton, Walt Disney Companyinunknownlanguage</td></tr><tr><td>Calling Doctor Amelia BedeliabyHerman Parish, Lynn Sweatinunknownlanguage</td></tr><tr><td>These High, Green Hills (Mitford Years, #3)byJan Karoninunknownlanguage</td></tr><tr><td>Millions of CatsbyWanda Gáginunknownlanguage</td></tr><tr><td>Dark Challenge (Dark, #5)byChristine Feehaninunknownlanguage</td></tr><tr><td>MistressbyJames Patterson, David Ellisinunknownlanguage</td></tr><tr><td>All Families are PsychoticbyDouglas Couplandinunknownlanguage</td></tr><tr><td>Party Princess (The Princess Diaries, #7)byMeg Cabotinunknownlanguage</td></tr><tr><td>Mornings in JeninbySusan Abulhawainunknownlanguage</td></tr><tr><td>The NannybyMelissa Nathaninunknownlanguage</td></tr><tr><td>Ex-Heroes (Ex-Heroes, #1)byPeter Clinesinunknownlanguage</td></tr><tr><td>The Many Lives &amp; Secret Sorrows of Josephine B. (Josephine Bonaparte, #1)bySandra Gullandinunknownlanguage</td></tr><tr><td>Come HomebyLisa Scottolineinunknownlanguage</td></tr><tr><td>The Dirty Girls Social Club (Dirty Girls, #1)byAlisa Valdes, Alisa Valdes-Rodriguezinunknownlanguage</td></tr><tr><td>The Fire (Witch &amp; Wizard, #3)byJames Patterson, Jill Dembowski, Elijah Wood, Spencer Lockeinunknownlanguage</td></tr><tr><td>A Killing Frost (Tomorrow, #3)byJohn Marsdeninunknownlanguage</td></tr><tr><td>Sadako and the Thousand Paper CranesbyEleanor Coerr, Ronald Himlerinunknownlanguage</td></tr><tr><td>The Walking Dead, Vol. 11: Fear the HuntersbyRobert Kirkman, Charlie Adlard, Cliff Rathburninunknownlanguage</td></tr><tr><td>Night Mare (Xanth, #6)byPiers Anthonyinunknownlanguage</td></tr><tr><td>RiptidebyDouglas Preston, Lincoln Childinunknownlanguage</td></tr><tr><td>King Arthur and His Knights: Selected TalesbyThomas Malory, Eugène Vinaverinunknownlanguage</td></tr><tr><td>The Hidden Messages in WaterbyMasaru Emoto, David A. Thayneinunknownlanguage</td></tr><tr><td>Rumble FishbyS.E. Hintoninunknownlanguage</td></tr><tr><td>The Holiness of GodbyR.C. Sproulinunknownlanguage</td></tr><tr><td>Wemberly WorriedbyKevin Henkesinunknownlanguage</td></tr><tr><td>What Remains: A Memoir of Fate, Friendship, and LovebyCarole Radziwillinunknownlanguage</td></tr><tr><td>The Kreutzer SonatabyLeo Tolstoy, Isai Kamen, Doris Lessinginunknownlanguage</td></tr><tr><td>The 20th Century Art BookbyPhaidon Pressinunknownlanguage</td></tr><tr><td>Summer SecretsbyJane Greeninunknownlanguage</td></tr><tr><td>The Acid HousebyIrvine Welshinunknownlanguage</td></tr><tr><td>Permission Marketing: Turning Strangers Into Friends And Friends Into CustomersbySeth Godininunknownlanguage</td></tr><tr><td>Hateship, Friendship, Courtship, Loveship, Marriage: StoriesbyAlice Munroinunknownlanguage</td></tr><tr><td>Storm of the Century: An Original ScreenplaybyStephen Kinginunknownlanguage</td></tr><tr><td>The America&#39;s Test Kitchen Family CookbookbyAmerica&#39;s Test Kitchen, Carl Tremblay, Daniel J. Van Ackereinunknownlanguage</td></tr><tr><td>Vampire Academy: The Graphic Novel (Vampire Academy: The Graphic Novel, #1)byRichelle Mead, Emma Vieceli, Leigh Dragooninunknownlanguage</td></tr><tr><td>Dexter Is Delicious (Dexter, #5)byJeff Lindsayinunknownlanguage</td></tr><tr><td>The Akhenaten Adventure (Children of the Lamp, #1)byP.B. Kerrinunknownlanguage</td></tr><tr><td>Sleepwalk With Me and Other Painfully True StoriesbyMike Birbigliainunknownlanguage</td></tr><tr><td>Distant ShoresbyKristin Hannahinunknownlanguage</td></tr><tr><td>An Essay Concerning Human UnderstandingbyJohn Lockeinunknownlanguage</td></tr><tr><td>The Five Love Languages of ChildrenbyGary Chapman, D. Ross Campbellinunknownlanguage</td></tr><tr><td>Washington SquarebyHenry James, Michael Cunninghaminunknownlanguage</td></tr><tr><td>On Becoming a Person: A Therapist&#39;s View of PsychotherapybyCarl R. Rogers, Peter D. Kramerinunknownlanguage</td></tr><tr><td>NYPD Red 3 (NYPD Red, #3)byJames Patterson, Marshall Karpinunknownlanguage</td></tr><tr><td>Psycho-Cybernetics, A New Way to Get More Living Out of LifebyMaxwell Maltzinunknownlanguage</td></tr><tr><td>HomebyToni Morrisoninunknownlanguage</td></tr><tr><td>Anne Frank&#39;s Tales from the Secret AnnexbyAnne Frank, Susan Massottyinunknownlanguage</td></tr><tr><td>The Cradle Will FallbyMary Higgins Clarkinunknownlanguage</td></tr><tr><td>The Gift of Therapy: An Open Letter to a New Generation of Therapists and Their PatientsbyIrvin D. Yalom, Nicola Fergusoninunknownlanguage</td></tr><tr><td>City of WomenbyDavid R. Gillhaminunknownlanguage</td></tr><tr><td>Take the CannolibySarah Vowellinunknownlanguage</td></tr><tr><td>To Sell Is Human: The Surprising Truth About Moving OthersbyDaniel H. Pinkinunknownlanguage</td></tr><tr><td>The Frog and Toad Treasury: Frog and Toad are Friends/Frog and Toad Together/Frog and Toad All Year  (Frog and Toad #1-3)byArnold Lobelinunknownlanguage</td></tr><tr><td>The Smartest Guys in the Room: The Amazing Rise and Scandalous Fall of EnronbyBethany McLean, Peter Elkindinunknownlanguage</td></tr><tr><td>Mount DragonbyDouglas Preston, Lincoln Childinunknownlanguage</td></tr><tr><td>JournalsbyKurt Cobaininunknownlanguage</td></tr><tr><td>Possessing the Secret of JoybyAlice Walkerinunknownlanguage</td></tr><tr><td>Naked Economics: Undressing the Dismal SciencebyCharles Wheelaninunknownlanguage</td></tr><tr><td>Magic Steps (The Circle Opens, #1)byTamora Pierceinunknownlanguage</td></tr><tr><td>Dark Rivers of the HeartbyDean Koontzinunknownlanguage</td></tr><tr><td>The Moon and SixpencebyW. Somerset Maughaminunknownlanguage</td></tr><tr><td>Queen Song (Red Queen, #0.1)byVictoria Aveyardinunknownlanguage</td></tr><tr><td>Falling into PlacebyAmy Zhanginunknownlanguage</td></tr><tr><td>The Dry Grass of AugustbyAnna Jean Mayhewinunknownlanguage</td></tr><tr><td>Life and Times of Michael KbyJ.M. Coetzeeinunknownlanguage</td></tr><tr><td>Jamie at Home: Cook Your Way to the Good LifebyJamie Oliverinunknownlanguage</td></tr><tr><td>Fearless (The Lost Fleet, #2)byJack Campbellinunknownlanguage</td></tr><tr><td>F*ck LovebyTarryn Fisherinunknownlanguage</td></tr><tr><td>Sacred (Kenzie &amp; Gennaro, #3)byDennis Lehaneinunknownlanguage</td></tr><tr><td>Punk 57byPenelope Douglasinunknownlanguage</td></tr><tr><td>Pygmalion &amp; My Fair LadybyGeorge Bernard Shaw, Alan Jay Lernerinunknownlanguage</td></tr><tr><td>OnebyRichard Bachinunknownlanguage</td></tr><tr><td>WantedbyMark Millar, J.G. Jones, Brian K. Vaughaninunknownlanguage</td></tr><tr><td>Outer DarkbyCormac McCarthyinunknownlanguage</td></tr><tr><td>In Search of Excellence: Lessons from America&#39;s Best-Run CompaniesbyTom Peters, Robert H. Waterman Jr.inunknownlanguage</td></tr><tr><td>First LovebyJames Patterson, Emily Raymondinunknownlanguage</td></tr><tr><td>Fearless: The Heroic Story of One Navy SEAL&#39;s Sacrifice in the Hunt for Osama Bin Laden and the Unwavering Devotion of the Woman Who Loved HimbyEric Blehminunknownlanguage</td></tr><tr><td>The Uglies Trilogy (Uglies, #1-3)byScott Westerfeldinunknownlanguage</td></tr><tr><td>Away Laughing on a Fast Camel (Confessions of Georgia Nicolson, #5)byLouise Rennisoninunknownlanguage</td></tr><tr><td>Selected PoemsbyWilliam Carlos Williams, Charles Tomlinsoninunknownlanguage</td></tr><tr><td>Princess on the Brink (The Princess Diaries, #8)byMeg Cabotinunknownlanguage</td></tr><tr><td>Killing Pablo: The Hunt for the World&#39;s Greatest OutlawbyMark Bowdeninunknownlanguage</td></tr><tr><td>How Soccer Explains the WorldbyFranklin Foerinunknownlanguage</td></tr><tr><td>The Fannie Farmer Cookbook: AnniversarybyMarion Cunningham, Fannie Merritt Farmer, Archibald Candy Corporationinunknownlanguage</td></tr><tr><td>Graffiti World: Street Art from Five ContinentsbyNicholas Ganz, Tristan Mancoinunknownlanguage</td></tr><tr><td>The Complete Guide to Middle-EarthbyRobert Foster, J.R.R. Tolkieninunknownlanguage</td></tr><tr><td>Say You&#39;re One of ThembyUwem Akpaninunknownlanguage</td></tr><tr><td>The Devil&#39;s AlternativebyFrederick Forsythinunknownlanguage</td></tr><tr><td>Magic and Other Misdemeanors (The Sisters Grimm, #5)byMichael Buckley, Peter Fergusoninunknownlanguage</td></tr><tr><td>Sincerely, Carter (Sincerely Carter, #1)byWhitney G.inunknownlanguage</td></tr><tr><td>How Music WorksbyDavid Byrneinunknownlanguage</td></tr><tr><td>The Talent Code: Unlocking the Secret of Skill in Sports, Art, Music, Math, and Just About Everything ElsebyDaniel Coyle, John Farrellinunknownlanguage</td></tr><tr><td>Star Island (Skink, #6)byCarl Hiaaseninunknownlanguage</td></tr><tr><td>Big Nate on a Roll (Big Nate Novels, #3)byLincoln Peirceinunknownlanguage</td></tr><tr><td>Deep and Dark and Dangerous (A Ghost Story)byMary Downing Hahninunknownlanguage</td></tr><tr><td>Legally BlondebyAmanda Browninunknownlanguage</td></tr><tr><td>Archangel&#39;s Blade (Guild Hunter, #4)byNalini Singhinunknownlanguage</td></tr><tr><td>How to Talk to a WidowerbyJonathan Tropperinunknownlanguage</td></tr><tr><td>BreathbyTim Wintoninunknownlanguage</td></tr><tr><td>Noises OffbyMichael Frayninunknownlanguage</td></tr><tr><td>CourageousbyRandy Alcorn, Alex Kendrick, Stephen Kendrickinunknownlanguage</td></tr><tr><td>Basket CasebyCarl Hiaaseninunknownlanguage</td></tr><tr><td>Praying God&#39;s Word: Breaking Free From Spiritual StrongholdsbyBeth Mooreinunknownlanguage</td></tr><tr><td>In the Skin of a LionbyMichael Ondaatjeinunknownlanguage</td></tr><tr><td>BlessingsbyAnna Quindleninunknownlanguage</td></tr><tr><td>Food Matters: A Guide to Conscious Eating with More Than 75 RecipesbyMark Bittmaninunknownlanguage</td></tr><tr><td>MetaphysicsbyAristotle, Joe Sachsinunknownlanguage</td></tr><tr><td>The Worst Witch (Worst Witch, #1)byJill Murphyinunknownlanguage</td></tr><tr><td>Dragonheart (Pern, #21)byTodd J. McCaffreyinunknownlanguage</td></tr><tr><td>Pearls of Lutra (Redwall, #9)byBrian Jacquesinunknownlanguage</td></tr><tr><td>The Residence: Inside the Private World of the White HousebyKate Andersen Browerinunknownlanguage</td></tr><tr><td>Eden (Providence, #3)byJamie McGuireinunknownlanguage</td></tr><tr><td>Financial Peace RevisitedbyDave Ramseyinunknownlanguage</td></tr><tr><td>Wreck This JournalbyKeri Smithinunknownlanguage</td></tr><tr><td>Seven Years in TibetbyHeinrich Harrerinunknownlanguage</td></tr><tr><td>The Renegades of Pern (Pern, #10)byAnne McCaffreyinunknownlanguage</td></tr><tr><td>The Cake BiblebyRose Levy Beranbaum, Maria Guarnaschelli, Vincent Lee, Manuela Paul, Dean G. Bornsteininunknownlanguage</td></tr><tr><td>Almost French: Love and a New Life in ParisbySarah Turnbullinunknownlanguage</td></tr><tr><td>Pandora / Vittorio the Vampire (New Tales of the Vampires)byAnne Riceinunknownlanguage</td></tr><tr><td>A Fraction of the WholebySteve Toltzinunknownlanguage</td></tr><tr><td>What the Bleep Do We Know!?: Discovering the Endless Possibilities for Altering Your Everyday RealitybyWilliam Arntz, Betsy Chasse, Mark Vicenteinunknownlanguage</td></tr><tr><td>What the Bleep Do We Know!?: Discovering th�</td></tr><tr><td>Essentials of Classic Italian CookingbyMarcella Hazan, Karin Kretschmanninunknownlanguage</td></tr><tr><td>Kiss of Frost (Mythos Academy, #2)byJennifer Estepinunknownlanguage</td></tr><tr><td>If Chins Could Kill: Confessions of a B-Movie ActorbyBruce Campbellinunknownlanguage</td></tr><tr><td>The Art of Thinking ClearlybyRolf Dobelliinunknownlanguage</td></tr><tr><td>Edvard Munch: 1863-1944 (Basic Art)byUlrich Bischoffinunknownlanguage</td></tr><tr><td>Revenge of the Wannabes (The Clique, #3)byLisi Harrisoninunknownlanguage</td></tr><tr><td>On the Genealogy of MoralsbyFriedrich Nietzsche, Douglas Smithinunknownlanguage</td></tr><tr><td>Happy Accidents: A MemoirbyJane Lynch, Lisa Dickeyinunknownlanguage</td></tr><tr><td>The Wives of Henry VIIIbyAntonia Fraserinunknownlanguage</td></tr><tr><td>Every Thing on ItbyShel Silversteininunknownlanguage</td></tr><tr><td>Nash (Marked Men, #4)byJay Crownoverinunknownlanguage</td></tr><tr><td>Billions &amp; Billions: Thoughts on Life and Death at the Brink of the MillenniumbyCarl Sagan, Ann Druyaninunknownlanguage</td></tr><tr><td>Lemony Snicket: The Unauthorized Autobiography (A Series of Unfortunate Events companion)byLemony Snicketinunknownlanguage</td></tr><tr><td>I Love You Through and ThroughbyBernadette Rossetti-Shustak, Caroline Jayne Churchinunknownlanguage</td></tr><tr><td>Bella TuscanybyFrances Mayesinunknownlanguage</td></tr><tr><td>Empire of the Sun (Empire of the Sun, #1)byJ.G. Ballardinunknownlanguage</td></tr><tr><td>The Country Mouse and the City Mouse; The Fox and the Crow; The Dog and His BonebyPatricia M. Scarry, Richard Scarryinunknownlanguage</td></tr><tr><td>If You Give a Cat a CupcakebyLaura Joffe Numeroff, Felicia Bondinunknownlanguage</td></tr><tr><td>Infamous (Chronicles of Nick, #3)bySherrilyn Kenyoninunknownlanguage</td></tr><tr><td>The Island of the Day BeforebyUmberto Ecoinunknownlanguage</td></tr><tr><td>A Charlie Brown ChristmasbyCharles M. Schulzinunknownlanguage</td></tr><tr><td>Sin City: Una Dura Despedida, #1 de 3byFrank Millerinunknownlanguage</td></tr><tr><td>Storm Prey (Lucas Davenport, #20)byJohn Sandfordinunknownlanguage</td></tr><tr><td>The Case for a Creator: A Journalist Investigates Scientific Evidence That Points Toward GodbyLee Strobelinunknownlanguage</td></tr><tr><td>Invasion of the Boy Snatchers (The Clique, #4)byLisi Harrisoninunknownlanguage</td></tr><tr><td>Good Wives (Little Women, #1.5)byLouisa May Alcottinunknownlanguage</td></tr><tr><td>Little Bear&#39;s FriendbyElse Holmelund Minarik, Maurice Sendakinunknownlanguage</td></tr><tr><td>Evil Star (The Gatekeepers, #2)byAnthony Horowitzinunknownlanguage</td></tr><tr><td>Nantucket NightsbyElin Hilderbrandinunknownlanguage</td></tr><tr><td>Ogre, Ogre (Xanth #5)byPiers Anthonyinunknownlanguage</td></tr><tr><td>The Annotated Sherlock Holmes: The Four Novels and the Fifty-Six Short Stories Complete (2 Volume Set)byArthur Conan Doyle, William S. Baring-Gouldinunknownlanguage</td></tr><tr><td>There&#39;s a Nightmare in My ClosetbyMercer Mayerinunknownlanguage</td></tr><tr><td>Breaking Free: Discover the Victory of Total SurrenderbyBeth Mooreinunknownlanguage</td></tr><tr><td>The Hidden Child (Patrik Hedström, #5)byCamilla Läckberg, Tiina Nunnallyinunknownlanguage</td></tr><tr><td>Waiting to Exhale (Waiting To Exhale #1)byTerry McMillaninunknownlanguage</td></tr><tr><td>Strange PilgrimsbyGabriel García Márquezinunknownlanguage</td></tr><tr><td>Call for the DeadbyJohn le Carréinunknownlanguage</td></tr><tr><td>Marlfox (Redwall, #11)byBrian Jacquesinunknownlanguage</td></tr><tr><td>Getting Stoned with Savages: A Trip Through the Islands of Fiji and VanuatubyJ. Maarten Troostinunknownlanguage</td></tr><tr><td>A Total Waste of Makeup (Charlize Edwards, #1)byKim Gruenenfelderinunknownlanguage</td></tr><tr><td>Once (Once, #1)byMorris Gleitzmaninunknownlanguage</td></tr><tr><td>Because I&#39;m Worth It (Gossip Girl, #4)byCecily von Ziegesarinunknownlanguage</td></tr><tr><td>Deadline (Virgil Flowers, #8)byJohn Sandfordinunknownlanguage</td></tr><tr><td>AfterwardsbyRosamund Luptoninunknownlanguage</td></tr><tr><td>The Testament of MarybyColm Tóibíninunknownlanguage</td></tr><tr><td>Women&#39;s Bodies, Women&#39;s Wisdom: Creating Physical and Emotional Health and HealingbyChristiane Northrupinunknownlanguage</td></tr><tr><td>The Color of SecretsbyLindsay Ashfordinunknownlanguage</td></tr><tr><td>Most Talkative: Stories from the Front Lines of Pop CulturebyAndy Coheninunknownlanguage</td></tr><tr><td>Lost HorizonbyJames Hiltoninunknownlanguage</td></tr><tr><td>Rocket Boys (Coalwood #1)byHomer Hickaminunknownlanguage</td></tr><tr><td>A Perfect SpybyJohn le Carréinunknownlanguage</td></tr><tr><td>Screw It, Let&#39;s Do It: Lessons In LifebyRichard Bransoninunknownlanguage</td></tr><tr><td>Revolting RhymesbyRoald Dahl, Quentin Blakeinunknownlanguage</td></tr><tr><td>The Guns of NavaronebyAlistair MacLeaninunknownlanguage</td></tr><tr><td>Tell-AllbyChuck Palahniukinunknownlanguage</td></tr><tr><td>The Lady &amp; Sons Savannah Country CookbookbyPaula H. Deen, John Berendtinunknownlanguage</td></tr><tr><td>No One Writes to the Colonel and Other StoriesbyGabriel García Márquez, J.S. Bernsteininunknownlanguage</td></tr><tr><td>The Climb: Tragic Ambitions on EverestbyAnatoli Boukreev, G. Weston DeWaltinunknownlanguage</td></tr><tr><td>An Old-Fashioned GirlbyLouisa May Alcottinunknownlanguage</td></tr><tr><td>Richard IIbyWilliam Shakespeare, Roma Gill, Robert          Jacksoninunknownlanguage</td></tr><tr><td>Prisoner of My DesirebyJohanna Lindseyinunknownlanguage</td></tr><tr><td>The Book on the Taboo Against Knowing Who You ArebyAlan W. Wattsinunknownlanguage</td></tr><tr><td>TampabyAlissa Nuttinginunknownlanguage</td></tr><tr><td>The Unofficial Harry Potter Cookbook: From Cauldron Cakes to Knickerbocker Glory--More Than 150 Magical Recipes for Wizards and Non-Wizards Alike (Unofficial Cookbook)byDinah Bucholzinunknownlanguage</td></tr><tr><td>The Automatic Millionaire: A Powerful One-Step Plan to Live and Finish RichbyDavid Bachinunknownlanguage</td></tr><tr><td>Ghettoside: A True Story of Murder in AmericabyJill Leovyinunknownlanguage</td></tr><tr><td>Once a RunnerbyJohn L. Parker Jr.inunknownlanguage</td></tr><tr><td>The Ear, the Eye, and the ArmbyNancy Farmerinunknownlanguage</td></tr><tr><td>Stay Out of the Basement  (Goosebumps, #2)byR.L. Stineinunknownlanguage</td></tr><tr><td>One Day at Horrorland (Goosebumps, #16)byR.L. Stineinunknownlanguage</td></tr><tr><td>FootfallbyLarry Niven, Jerry Pournelleinunknownlanguage</td></tr><tr><td>Stone SoupbyJon J. Muthinunknownlanguage</td></tr><tr><td>Girl With Curious HairbyDavid Foster Wallaceinunknownlanguage</td></tr><tr><td>The Revenge of the Baby-SatbyBill Wattersoninunknownlanguage</td></tr><tr><td>The Secret Between UsbyBarbara Delinskyinunknownlanguage</td></tr><tr><td>Knife Edge (Noughts &amp; Crosses, #2)byMalorie Blackmaninunknownlanguage</td></tr><tr><td>The Cake Mix DoctorbyAnne Byrn, Anthony Loewinunknownlanguage</td></tr><tr><td>Depraved Heart (Kay Scarpetta, #23)byPatricia Cornwellinunknownlanguage</td></tr><tr><td>The Education of Little TreebyForrest Carterinunknownlanguage</td></tr><tr><td>Positioning: The Battle for Your Mind: How to Be Seen and Heard in the Overcrowded MarketplacebyAl Ries, Jack Troutinunknownlanguage</td></tr><tr><td>Rhett Butler&#39;s PeoplebyDonald McCaiginunknownlanguage</td></tr><tr><td>The Royal Ranger (Ranger&#39;s Apprentice, #12)byJohn Flanaganinunknownlanguage</td></tr><tr><td>Freight TrainbyDonald Crewsinunknownlanguage</td></tr><tr><td>The Flame and the FlowerbyKathleen E. Woodiwissinunknownlanguage</td></tr><tr><td>Exile&#39;s Return (Conclave of Shadows, #3)byRaymond E. Feistinunknownlanguage</td></tr><tr><td>Preach My Gospel: A Guide To Missionary ServicebyThe Church of Jesus Christ of Latter-day Saintsinunknownlanguage</td></tr><tr><td>Like a Fire Burning (The Work and the Glory, #2)byGerald N. Lundinunknownlanguage</td></tr><tr><td>ContestbyMatthew Reillyinunknownlanguage</td></tr><tr><td>The Greatest GenerationbyTom Brokawinunknownlanguage</td></tr><tr><td>The Minority ReportbyPhilip K. Dickinunknownlanguage</td></tr><tr><td>Wizard at Large (Magic Kingdom of Landover, #3)byTerry Brooksinunknownlanguage</td></tr><tr><td>AccidentbyDanielle Steelinunknownlanguage</td></tr><tr><td>PinocchiobyEugene Bradley Coco, Ron Diasinunknownlanguage</td></tr><tr><td>Curious George Takes a JobbyH.A. Reyinunknownlanguage</td></tr><tr><td>La casa de Bernarda AlbabyFederico García Lorca, Antonio Sobejano-Moran, Paola Biancoinunknownlanguage</td></tr><tr><td>Streams in the DesertbyLettie B. Cowman, James Reimanninunknownlanguage</td></tr><tr><td>The Tenth JusticebyBrad Meltzerinunknownlanguage</td></tr><tr><td>Stella BainbyAnita Shreveinunknownlanguage</td></tr><tr><td>The Redemption of AlthalusbyDavid Eddings, Leigh Eddingsinunknownlanguage</td></tr><tr><td>Crazy For YoubyJennifer Crusieinunknownlanguage</td></tr><tr><td>City of Bones / City of Ashes / City of Glass / City of Fallen Angels / City of Lost Souls (The Mortal Instruments, #1-5)byCassandra Clareinunknownlanguage</td></tr><tr><td>The Tale of Mrs. Tiggy-WinklebyBeatrix Potterinunknownlanguage</td></tr><tr><td>For Love of Evil (Incarnations of Immortality, #6)byPiers Anthonyinunknownlanguage</td></tr><tr><td>Charlie Bone and the Shadow (The Children of the Red King, #7)byJenny Nimmoinunknownlanguage</td></tr><tr><td>The End of PovertybyJeffrey D. Sachs, Bonoinunknownlanguage</td></tr><tr><td>Call Me by Your NamebyAndré Acimaninunknownlanguage</td></tr><tr><td>Armageddon&#39;s Children (Genesis of Shannara, #1)byTerry Brooksinunknownlanguage</td></tr><tr><td>On Becoming Baby Wise: Giving Your Infant the Gift of Nighttime SleepbyGary Ezzoinunknownlanguage</td></tr><tr><td>Tawny Scrawny LionbyKathryn Jackson, Gustav Tenggreninunknownlanguage</td></tr><tr><td>Peace Child: An Unforgettable Story of Primitive Jungle Treachery in the 20th CenturybyDon Richardsoninunknownlanguage</td></tr><tr><td>Truth Will Prevail (The Work and the Glory, #3)byGerald N. Lundinunknownlanguage</td></tr><tr><td>How I Raised Myself from Failure to Success in SellingbyFrank Bettgerinunknownlanguage</td></tr><tr><td>Wicked - Piano/Vocal ArrangementbyStephen Schwartz, Gregory Maguireinunknownlanguage</td></tr><tr><td>Little Lord FauntleroybyFrances Hodgson Burnettinunknownlanguage</td></tr><tr><td>KultibyMariana Zapatainunknownlanguage</td></tr><tr><td>Ruby HollerbySharon Creechinunknownlanguage</td></tr><tr><td>See You at the TopbyZig Ziglar, Al Maytoninunknownlanguage</td></tr><tr><td>Harry Potter and Philosophy: If Aristotle Ran HogwartsbyDavid Baggett, Shawn E. Kleininunknownlanguage</td></tr><tr><td>The Christmas TrainbyDavid Baldacciinunknownlanguage</td></tr><tr><td>One Flew Over the Cuckoo&#39;s NestbyDale Wassermaninunknownlanguage</td></tr><tr><td>Last OrdersbyGraham Swiftinunknownlanguage</td></tr><tr><td>Wife 22byMelanie Gideoninunknownlanguage</td></tr><tr><td>Before I GobyColleen Oakleyinunknownlanguage</td></tr><tr><td>Travel TeambyMike Lupicainunknownlanguage</td></tr><tr><td>Islands in the StreambyErnest Hemingwayinunknownlanguage</td></tr><tr><td>CapitalbyJohn Lanchesterinunknownlanguage</td></tr><tr><td>April 1865: The Month That Saved AmericabyJay Winikinunknownlanguage</td></tr><tr><td>The Wheel of Time: Boxed Set  (Wheel of Time, #1-8)byRobert Jordaninunknownlanguage</td></tr><tr><td>Social Intelligence: The New Science of Human RelationshipsbyDaniel Golemaninunknownlanguage</td></tr><tr><td>Double IdentitybyMargaret Peterson Haddixinunknownlanguage</td></tr><tr><td>Miles to Go (The Walk, #2)byRichard Paul Evansinunknownlanguage</td></tr><tr><td>Beach TownbyMary Kay Andrewsinunknownlanguage</td></tr><tr><td>The Legend of Luke (Redwall, #12)byBrian Jacquesinunknownlanguage</td></tr><tr><td>Eat to Live: The Revolutionary Formula for Fast and Sustained Weight LossbyJoel Fuhrmaninunknownlanguage</td></tr><tr><td>The Nasty Bits: Collected Varietal Cuts, Usable Trim, Scraps, and BonesbyAnthony Bourdaininunknownlanguage</td></tr><tr><td>Summer of My German Soldier (Summer of My German Soldier, #1)byBette Greeneinunknownlanguage</td></tr><tr><td>I Do -- But I Don&#39;tbyCara Lockwoodinunknownlanguage</td></tr><tr><td>Fine ThingsbyDanielle Steelinunknownlanguage</td></tr><tr><td>King of Foxes (Conclave of Shadows, #2)byRaymond E. Feistinunknownlanguage</td></tr><tr><td>Lie Down with LionsbyKen Follettinunknownlanguage</td></tr><tr><td>Elizabeth: The Struggle for the ThronebyDavid Starkeyinunknownlanguage</td></tr><tr><td>SkinbyTed Dekkerinunknownlanguage</td></tr><tr><td>In This Mountain (Mitford Years, #7)byJan Karoninunknownlanguage</td></tr><tr><td>Code to ZerobyKen Follettinunknownlanguage</td></tr><tr><td>The Old Curiosity ShopbyCharles Dickens, Norman Pageinunknownlanguage</td></tr><tr><td>Hands Of LightbyBarbara Ann Brennan, Jos. A. Smithinunknownlanguage</td></tr><tr><td>Succulent Wild WomanbyS.A.R.K.inunknownlanguage</td></tr><tr><td>The Penderwicks on Gardam Street (The Penderwicks, #2)byJeanne Birdsallinunknownlanguage</td></tr><tr><td>See Jane DatebyMelissa Senateinunknownlanguage</td></tr><tr><td>Pushing IcebyAlastair Reynoldsinunknownlanguage</td></tr><tr><td>The Secret Art of Dr. SeussbyDr. Seuss, Maurice Sendak, Audrey Geiselinunknownlanguage</td></tr><tr><td>Unfamiliar FishesbySarah Vowellinunknownlanguage</td></tr><tr><td>Amy and Isabelle byElizabeth Stroutinunknownlanguage</td></tr><tr><td>Honor Among Enemies (Honor Harrington, #6)byDavid Weberinunknownlanguage</td></tr><tr><td>EntreLeadership: 20 Years of Practical Business Wisdom from the TrenchesbyDave Ramseyinunknownlanguage</td></tr><tr><td>Become a Better You: 7 Keys to Improving Your Life Every DaybyJoel Osteeninunknownlanguage</td></tr><tr><td>Until Nico (Until, #4)byAurora Rose Reynoldsinunknownlanguage</td></tr><tr><td>The Second Ship (The Rho Agenda, #1)byRichard   Phillipsinunknownlanguage</td></tr><tr><td>The Carrot SeedbyRuth Krauss, Crockett Johnsoninunknownlanguage</td></tr><tr><td>Relentless (The Lost Fleet, #5)byJack Campbellinunknownlanguage</td></tr><tr><td>Winter Stroll (Winter #2)byElin Hilderbrandinunknownlanguage</td></tr><tr><td>Helmet for My PillowbyRobert Leckieinunknownlanguage</td></tr><tr><td>EgomaniacbyVi Keelandinunknownlanguage</td></tr><tr><td>Courageous (The Lost Fleet, #3)byJack Campbellinunknownlanguage</td></tr><tr><td>RubybyCynthia Bondinunknownlanguage</td></tr><tr><td>Messenger of Truth (Maisie Dobbs, #4)byJacqueline Winspearinunknownlanguage</td></tr><tr><td>Apathy and Other Small VictoriesbyPaul Neilaninunknownlanguage</td></tr><tr><td>Essays and PoemsbyRalph Waldo Emerson, Peter Norberginunknownlanguage</td></tr><tr><td>Innocent Erendira and Other StoriesbyGabriel García Márquez, Gregory Rabassainunknownlanguage</td></tr><tr><td>Henry &amp; RamonabyCynthia J. McGeaninunknownlanguage</td></tr><tr><td>Annabel (Delirium, #0.5)byLauren Oliverinunknownlanguage</td></tr><tr><td>EthicsbyBaruch Spinoza, Edwin M. Curley, Stuart Hampshire, Edwin Curleyinunknownlanguage</td></tr><tr><td>Nine Parts of Desire: The Hidden World of Islamic WomenbyGeraldine Brooksinunknownlanguage</td></tr><tr><td>The Midnight Palace (Niebla, #2)byCarlos Ruiz Zafón, Lucia Gravesinunknownlanguage</td></tr><tr><td>Ya Yas in BloombyRebecca Wellsinunknownlanguage</td></tr><tr><td>Tempting the Player (Gamble Brothers, #2)byJ. Lynn, Jennifer L. Armentroutinunknownlanguage</td></tr><tr><td>Cape FearbyJohn D. MacDonaldinunknownlanguage</td></tr><tr><td>The Places That Scare You: A Guide to Fearlessness in Difficult TimesbyPema Chödröninunknownlanguage</td></tr><tr><td>Frida Kahlo: 1907-1954 Pain and PassionbyAndrea Kettenmanninunknownlanguage</td></tr><tr><td>The Mistress of SpicesbyChitra Banerjee Divakaruniinunknownlanguage</td></tr><tr><td>Hard Limit (Hacker, #4)byMeredith Wildinunknownlanguage</td></tr><tr><td>The Pretty Committee Strikes Back (The Clique, #5)byLisi Harrisoninunknownlanguage</td></tr><tr><td>Dial L for Loser (The Clique, #6)byLisi Harrisoninunknownlanguage</td></tr><tr><td>The River WhybyDavid James Duncaninunknownlanguage</td></tr><tr><td>The Water-Method ManbyJohn Irvinginunknownlanguage</td></tr><tr><td>Heretic (The Grail Quest, #3)byBernard Cornwellinunknownlanguage</td></tr><tr><td>Economics in One Lesson: The Shortest &amp; Surest Way to Understand Basic EconomicsbyHenry Hazlittinunknownlanguage</td></tr><tr><td>Percy Jackson and the Sword of Hades (Percy Jackson and the Olympians, #4.5)byRick Riordaninunknownlanguage</td></tr><tr><td>The Walking Dead, Vol. 13: Too Far GonebyRobert Kirkman, Charlie Adlard, Cliff Rathburninunknownlanguage</td></tr><tr><td>How Should We Then Live? The Rise and Decline of Western Thought and CulturebyFrancis A. Schaefferinunknownlanguage</td></tr><tr><td>BelzharbyMeg Wolitzerinunknownlanguage</td></tr><tr><td>The Covenant (Abram&#39;s Daughters, #1)byBeverly  Lewisinunknownlanguage</td></tr><tr><td>Rich Dad&#39;s Guide to Investing: What the Rich Invest in That the Poor and Middle Class Do Not!byRobert T. Kiyosaki, Sharon L. Lechterinunknownlanguage</td></tr><tr><td>Those GirlsbyChevy Stevensinunknownlanguage</td></tr><tr><td>The Amateur MarriagebyAnne Tylerinunknownlanguage</td></tr><tr><td>The Voyages of Doctor Dolittle (Doctor Dolittle, #2)byHugh Lofting, Michael Hagueinunknownlanguage</td></tr><tr><td>The KnockoffbyLucy Sykes, Jo Piazzainunknownlanguage</td></tr><tr><td>A Kiss for Little Bear (An I Can Read Book) by Minarik, Else Holmelund [1984]byElse Holmelund Minarik, Maurice Sendakinunknownlanguage</td></tr><tr><td>ZoyabyDanielle Steelinunknownlanguage</td></tr><tr><td>One Piece, Volume 38: Rocketman!! (One Piece, #38)byEiichirō Odainunknownlanguage</td></tr><tr><td>Martha Stewart&#39;s Cupcakes: 175 Inspired Ideas for Everyone&#39;s Favorite TreatbyMartha Stewartinunknownlanguage</td></tr><tr><td>Neighbor DearestbyPenelope Wardinunknownlanguage</td></tr><tr><td>The Art of Amy BrownbyAmy Brown, Charles  de Lintinunknownlanguage</td></tr><tr><td>Birdman (Jack Caffery, #1)byMo Hayderinunknownlanguage</td></tr><tr><td>AntigonebyJean Anouilhinunknownlanguage</td></tr><tr><td>Crooked Little LiesbyBarbara Taylor Sisselinunknownlanguage</td></tr><tr><td>The Other Side of Dawn (Tomorrow, #7)byJohn Marsdeninunknownlanguage</td></tr><tr><td>The Tiger Who Came to TeabyJudith Kerrinunknownlanguage</td></tr><tr><td>Without You, There Is No Us: My Time with the Sons of North Korea&#39;s ElitebySuki Kiminunknownlanguage</td></tr><tr><td>The Wolves of Willoughby Chase (The Wolves Chronicles, #1)byJoan Aiken, Pat Marriottinunknownlanguage</td></tr><tr><td>The Scarlatti InheritancebyRobert Ludluminunknownlanguage</td></tr><tr><td>The Last Days of DogtownbyAnita Diamantinunknownlanguage</td></tr><tr><td>Money, and the Law of Attraction: Learning to Attract Wealth, Health, and HappinessbyEsther Hicks, Jerry Hicksinunknownlanguage</td></tr><tr><td>Dark River (Warriors: Power of Three, #2)byErin Hunterinunknownlanguage</td></tr><tr><td>The Next Big ThingbyJohanna Edwardsinunknownlanguage</td></tr><tr><td>Inversions (Culture, #6)byIain M. Banksinunknownlanguage</td></tr><tr><td>Turn of MindbyAlice LaPlanteinunknownlanguage</td></tr><tr><td>The Discoverers: A History of Man&#39;s Search to Know His World and HimselfbyDaniel J. Boorstininunknownlanguage</td></tr><tr><td>Nothing&#39;s Fair in Fifth GradebyBarthe DeClementsinunknownlanguage</td></tr><tr><td>Sea of Silver Light (Otherland, #4)byTad Williamsinunknownlanguage</td></tr><tr><td>Thank You for SmokingbyChristopher Buckleyinunknownlanguage</td></tr><tr><td>Nourishing Traditions: The Cookbook That Challenges Politically Correct Nutrition and the Diet DictocratsbySally Fallon Morellinunknownlanguage</td></tr><tr><td>The Bridge Across Forever: A True Love StorybyRichard Bachinunknownlanguage</td></tr><tr><td>Demon Thief (The Demonata, #2)byDarren Shaninunknownlanguage</td></tr><tr><td>Sherlock Holmes of Baker Street: A Life of the World&#39;s First Consulting DetectivebyWilliam S. Baring-Gouldinunknownlanguage</td></tr><tr><td>HorrorstörbyGrady Hendrix, Michael Rogalskiinunknownlanguage</td></tr><tr><td>The Prize Winner of Defiance, Ohio: How My Mother Raised 10 Kids on 25 Words or LessbyTerry Ryaninunknownlanguage</td></tr><tr><td>The Story of the Trapp Family SingersbyMaria Augusta von Trappinunknownlanguage</td></tr><tr><td>The Virgin CurebyAmi McKayinunknownlanguage</td></tr><tr><td>The Seven Principles for Making Marriage Work: A Practical Guide from the Country&#39;s Foremost Relationship ExpertbyJohn M. Gottman, Nan Silverinunknownlanguage</td></tr><tr><td>Anastasia Krupnik (Anastasia Krupnik, #1)byLois Lowryinunknownlanguage</td></tr><tr><td>Ladder of YearsbyAnne Tylerinunknownlanguage</td></tr><tr><td>Night Light (Restoration #2)byTerri Blackstockinunknownlanguage</td></tr><tr><td>The First World WarbyJohn Keeganinunknownlanguage</td></tr></table>"
                    },
                    "metadata": {}
                }
            ],
            "execution_count": 54
        }
    ]
}